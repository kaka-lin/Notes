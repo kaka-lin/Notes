{
 "cells": [
  {
   "cell_type": "markdown",
   "metadata": {},
   "source": [
    "# SQLite - Basics\n",
    "\n",
    "- [SQL - Tutorial](https://www.w3schools.com/sql/default.asp)\n",
    "- [SQL As Understood By SQLite(官網)](https://www.sqlite.org/lang.html)\n",
    "- [SQLite - Tutorial](https://www.tutorialspoint.com/sqlite/index.htm)"
   ]
  },
  {
   "cell_type": "markdown",
   "metadata": {},
   "source": [
    "## Load ipython-sql\n",
    "\n",
    "`ipython-sql`:\n",
    "\n",
    "    - 是jupyter notebook的extension，用來擴充jupyter對SQL的支援\n",
    "    - 其底層是使用SQLAlchemy"
   ]
  },
  {
   "cell_type": "code",
   "execution_count": 1,
   "metadata": {
    "ExecuteTime": {
     "end_time": "2020-05-07T07:29:52.841653Z",
     "start_time": "2020-05-07T07:29:51.806119Z"
    }
   },
   "outputs": [],
   "source": [
    "%load_ext sql"
   ]
  },
  {
   "cell_type": "markdown",
   "metadata": {},
   "source": [
    "## Create Database\n",
    "\n",
    "The concept of creating or dropping a database is not meant for an embedded database engine like SQLite.\n",
    "\n",
    "If you want to create DB in SQLite, just from the command line: `sqlite3 databasefilename`.\n",
    "\n",
    "For example: `sqlite3 test.db`\n",
    "\n",
    "### Create DB in Jupyter\n",
    "\n",
    "Because `ipython-sql` is based on `SQLAlchemy`, we can create and connect DB as follow:"
   ]
  },
  {
   "cell_type": "code",
   "execution_count": 2,
   "metadata": {
    "ExecuteTime": {
     "end_time": "2020-05-07T07:29:52.870268Z",
     "start_time": "2020-05-07T07:29:52.845497Z"
    }
   },
   "outputs": [],
   "source": [
    "%sql sqlite:///test.db"
   ]
  },
  {
   "cell_type": "code",
   "execution_count": 3,
   "metadata": {
    "ExecuteTime": {
     "end_time": "2020-05-07T07:29:53.022768Z",
     "start_time": "2020-05-07T07:29:52.877419Z"
    }
   },
   "outputs": [
    {
     "name": "stdout",
     "output_type": "stream",
     "text": [
      "total 32\r\n",
      "drwxr-xr-x 3 kaka kaka  4096  5月 14 10:16 .\r\n",
      "drwxr-xr-x 7 kaka kaka  4096  5月 14 09:49 ..\r\n",
      "drwxr-xr-x 2 kaka kaka  4096  5月 14 09:52 .ipynb_checkpoints\r\n",
      "-rw-r--r-- 1 kaka kaka   422  5月 14 09:25 README.md\r\n",
      "-rw-r--r-- 1 kaka kaka 15267  5月 14 10:16 sqlite-basics.ipynb\r\n",
      "-rw-r--r-- 1 kaka kaka     0  5月 14 10:16 test.db\r\n"
     ]
    }
   ],
   "source": [
    "!ls -al"
   ]
  },
  {
   "cell_type": "markdown",
   "metadata": {},
   "source": [
    "## SQLite Version"
   ]
  },
  {
   "cell_type": "code",
   "execution_count": 4,
   "metadata": {
    "ExecuteTime": {
     "end_time": "2020-05-07T07:29:53.058542Z",
     "start_time": "2020-05-07T07:29:53.026177Z"
    }
   },
   "outputs": [
    {
     "name": "stdout",
     "output_type": "stream",
     "text": [
      " * sqlite:///test.db\n",
      "Done.\n"
     ]
    },
    {
     "data": {
      "text/html": [
       "<table>\n",
       "    <tr>\n",
       "        <th>SQLite Version</th>\n",
       "    </tr>\n",
       "    <tr>\n",
       "        <td>3.31.1</td>\n",
       "    </tr>\n",
       "</table>"
      ],
      "text/plain": [
       "[('3.31.1',)]"
      ]
     },
     "execution_count": 4,
     "metadata": {},
     "output_type": "execute_result"
    }
   ],
   "source": [
    "%sql SELECT sqlite_version() AS 'SQLite Version';"
   ]
  },
  {
   "cell_type": "markdown",
   "metadata": {},
   "source": [
    "## Create Table\n",
    "\n",
    "- [SQLite - Data Type](https://www.sqlite.org/lang.html)\n",
    "- [SQLite - AUTOINCREMENT](https://www.tutorialspoint.com/sqlite/sqlite_using_autoincrement.htm)"
   ]
  },
  {
   "cell_type": "code",
   "execution_count": 5,
   "metadata": {
    "ExecuteTime": {
     "end_time": "2020-05-07T07:29:53.101611Z",
     "start_time": "2020-05-07T07:29:53.065826Z"
    }
   },
   "outputs": [
    {
     "name": "stdout",
     "output_type": "stream",
     "text": [
      " * sqlite:///test.db\n",
      "Done.\n"
     ]
    },
    {
     "data": {
      "text/plain": [
       "[]"
      ]
     },
     "execution_count": 5,
     "metadata": {},
     "output_type": "execute_result"
    }
   ],
   "source": [
    "%%sql\n",
    "\n",
    "CREATE TABLE persons(\n",
    "    person_id INTEGER PRIMARY KEY AUTOINCREMENT,\n",
    "    firstname VARCHAR(255),\n",
    "    lastname  VARCHAR(255),\n",
    "    age       INTEGER,\n",
    "    height    REAL,\n",
    "    weight    REAL,\n",
    "    city      VARCHAR(255)\n",
    ");"
   ]
  },
  {
   "cell_type": "markdown",
   "metadata": {},
   "source": [
    "## CRUD for Data\n",
    "\n",
    "- C: Create\n",
    "- R: Read\n",
    "- U: Update\n",
    "- D: Delete\n",
    "\n",
    "![](https://raw.githubusercontent.com/kaka-lin/Notes/master/DB/images/crud.png)"
   ]
  },
  {
   "cell_type": "markdown",
   "metadata": {},
   "source": [
    "### Create Data: SQL INSERT INTO"
   ]
  },
  {
   "cell_type": "code",
   "execution_count": 6,
   "metadata": {
    "ExecuteTime": {
     "end_time": "2020-05-07T07:29:53.172243Z",
     "start_time": "2020-05-07T07:29:53.109913Z"
    }
   },
   "outputs": [
    {
     "name": "stdout",
     "output_type": "stream",
     "text": [
      " * sqlite:///test.db\n",
      "1 rows affected.\n",
      "1 rows affected.\n"
     ]
    },
    {
     "data": {
      "text/plain": [
       "[]"
      ]
     },
     "execution_count": 6,
     "metadata": {},
     "output_type": "execute_result"
    }
   ],
   "source": [
    "%%sql\n",
    "INSERT INTO persons\n",
    "VALUES (10, 'kaka','Lin', 28, 175, 70, 'Taipei');\n",
    "\n",
    "INSERT INTO persons (firstname, lastname, age, height, weight, city) \n",
    "VALUES ('kiwi','Li', 30, 173, 70, 'Taipei');"
   ]
  },
  {
   "cell_type": "markdown",
   "metadata": {},
   "source": [
    "### Read Data: SQL SELECT"
   ]
  },
  {
   "cell_type": "code",
   "execution_count": 7,
   "metadata": {
    "ExecuteTime": {
     "end_time": "2020-05-07T07:29:53.208937Z",
     "start_time": "2020-05-07T07:29:53.191223Z"
    },
    "scrolled": true
   },
   "outputs": [
    {
     "name": "stdout",
     "output_type": "stream",
     "text": [
      " * sqlite:///test.db\n",
      "Done.\n"
     ]
    },
    {
     "data": {
      "text/html": [
       "<table>\n",
       "    <tr>\n",
       "        <th>person_id</th>\n",
       "        <th>firstname</th>\n",
       "        <th>lastname</th>\n",
       "        <th>age</th>\n",
       "        <th>height</th>\n",
       "        <th>weight</th>\n",
       "        <th>city</th>\n",
       "    </tr>\n",
       "    <tr>\n",
       "        <td>10</td>\n",
       "        <td>kaka</td>\n",
       "        <td>Lin</td>\n",
       "        <td>28</td>\n",
       "        <td>175.0</td>\n",
       "        <td>70.0</td>\n",
       "        <td>Taipei</td>\n",
       "    </tr>\n",
       "    <tr>\n",
       "        <td>11</td>\n",
       "        <td>kiwi</td>\n",
       "        <td>Li</td>\n",
       "        <td>30</td>\n",
       "        <td>173.0</td>\n",
       "        <td>70.0</td>\n",
       "        <td>Taipei</td>\n",
       "    </tr>\n",
       "</table>"
      ],
      "text/plain": [
       "[(10, 'kaka', 'Lin', 28, 175.0, 70.0, 'Taipei'),\n",
       " (11, 'kiwi', 'Li', 30, 173.0, 70.0, 'Taipei')]"
      ]
     },
     "execution_count": 7,
     "metadata": {},
     "output_type": "execute_result"
    }
   ],
   "source": [
    "%%sql\n",
    "\n",
    "SELECT * FROM persons; "
   ]
  },
  {
   "cell_type": "markdown",
   "metadata": {},
   "source": [
    "### Update Data: SQL UPDATE"
   ]
  },
  {
   "cell_type": "code",
   "execution_count": 8,
   "metadata": {
    "ExecuteTime": {
     "end_time": "2020-05-07T07:29:53.246048Z",
     "start_time": "2020-05-07T07:29:53.214149Z"
    }
   },
   "outputs": [
    {
     "name": "stdout",
     "output_type": "stream",
     "text": [
      " * sqlite:///test.db\n",
      "1 rows affected.\n",
      "0 rows affected.\n"
     ]
    },
    {
     "data": {
      "text/plain": [
       "[]"
      ]
     },
     "execution_count": 8,
     "metadata": {},
     "output_type": "execute_result"
    }
   ],
   "source": [
    "%%sql\n",
    "\n",
    "UPDATE persons\n",
    "SET    weight = 68\n",
    "WHERE  firstname = 'kaka';\n",
    "-- or WHERE person_id = 1;"
   ]
  },
  {
   "cell_type": "code",
   "execution_count": 9,
   "metadata": {
    "ExecuteTime": {
     "end_time": "2020-05-07T07:29:53.337703Z",
     "start_time": "2020-05-07T07:29:53.280683Z"
    }
   },
   "outputs": [
    {
     "name": "stdout",
     "output_type": "stream",
     "text": [
      " * sqlite:///test.db\n",
      "Done.\n"
     ]
    },
    {
     "data": {
      "text/html": [
       "<table>\n",
       "    <tr>\n",
       "        <th>person_id</th>\n",
       "        <th>firstname</th>\n",
       "        <th>lastname</th>\n",
       "        <th>age</th>\n",
       "        <th>height</th>\n",
       "        <th>weight</th>\n",
       "        <th>city</th>\n",
       "    </tr>\n",
       "    <tr>\n",
       "        <td>10</td>\n",
       "        <td>kaka</td>\n",
       "        <td>Lin</td>\n",
       "        <td>28</td>\n",
       "        <td>175.0</td>\n",
       "        <td>68.0</td>\n",
       "        <td>Taipei</td>\n",
       "    </tr>\n",
       "    <tr>\n",
       "        <td>11</td>\n",
       "        <td>kiwi</td>\n",
       "        <td>Li</td>\n",
       "        <td>30</td>\n",
       "        <td>173.0</td>\n",
       "        <td>70.0</td>\n",
       "        <td>Taipei</td>\n",
       "    </tr>\n",
       "</table>"
      ],
      "text/plain": [
       "[(10, 'kaka', 'Lin', 28, 175.0, 68.0, 'Taipei'),\n",
       " (11, 'kiwi', 'Li', 30, 173.0, 70.0, 'Taipei')]"
      ]
     },
     "execution_count": 9,
     "metadata": {},
     "output_type": "execute_result"
    }
   ],
   "source": [
    "%%sql\n",
    "\n",
    "SELECT * FROM persons;"
   ]
  },
  {
   "cell_type": "markdown",
   "metadata": {},
   "source": [
    "### Delete Data: SQL DELETE\n",
    "\n",
    "Before we delete data,\n",
    "we first add the data that we want to delete."
   ]
  },
  {
   "cell_type": "code",
   "execution_count": 10,
   "metadata": {
    "ExecuteTime": {
     "end_time": "2020-05-07T07:29:53.382518Z",
     "start_time": "2020-05-07T07:29:53.341316Z"
    }
   },
   "outputs": [
    {
     "name": "stdout",
     "output_type": "stream",
     "text": [
      " * sqlite:///test.db\n",
      "1 rows affected.\n"
     ]
    },
    {
     "data": {
      "text/plain": [
       "[]"
      ]
     },
     "execution_count": 10,
     "metadata": {},
     "output_type": "execute_result"
    }
   ],
   "source": [
    "%%sql\n",
    "\n",
    "INSERT INTO persons \n",
    "VALUES (3, 'albert','Lin', 28, 180, 70, 'Taipei');"
   ]
  },
  {
   "cell_type": "code",
   "execution_count": 11,
   "metadata": {
    "ExecuteTime": {
     "end_time": "2020-05-07T07:29:53.424826Z",
     "start_time": "2020-05-07T07:29:53.385500Z"
    }
   },
   "outputs": [
    {
     "name": "stdout",
     "output_type": "stream",
     "text": [
      " * sqlite:///test.db\n",
      "Done.\n"
     ]
    },
    {
     "data": {
      "text/html": [
       "<table>\n",
       "    <tr>\n",
       "        <th>person_id</th>\n",
       "        <th>firstname</th>\n",
       "        <th>lastname</th>\n",
       "        <th>age</th>\n",
       "        <th>height</th>\n",
       "        <th>weight</th>\n",
       "        <th>city</th>\n",
       "    </tr>\n",
       "    <tr>\n",
       "        <td>3</td>\n",
       "        <td>albert</td>\n",
       "        <td>Lin</td>\n",
       "        <td>28</td>\n",
       "        <td>180.0</td>\n",
       "        <td>70.0</td>\n",
       "        <td>Taipei</td>\n",
       "    </tr>\n",
       "    <tr>\n",
       "        <td>10</td>\n",
       "        <td>kaka</td>\n",
       "        <td>Lin</td>\n",
       "        <td>28</td>\n",
       "        <td>175.0</td>\n",
       "        <td>68.0</td>\n",
       "        <td>Taipei</td>\n",
       "    </tr>\n",
       "    <tr>\n",
       "        <td>11</td>\n",
       "        <td>kiwi</td>\n",
       "        <td>Li</td>\n",
       "        <td>30</td>\n",
       "        <td>173.0</td>\n",
       "        <td>70.0</td>\n",
       "        <td>Taipei</td>\n",
       "    </tr>\n",
       "</table>"
      ],
      "text/plain": [
       "[(3, 'albert', 'Lin', 28, 180.0, 70.0, 'Taipei'),\n",
       " (10, 'kaka', 'Lin', 28, 175.0, 68.0, 'Taipei'),\n",
       " (11, 'kiwi', 'Li', 30, 173.0, 70.0, 'Taipei')]"
      ]
     },
     "execution_count": 11,
     "metadata": {},
     "output_type": "execute_result"
    }
   ],
   "source": [
    "%%sql\n",
    "\n",
    "SELECT * FROM persons;"
   ]
  },
  {
   "cell_type": "code",
   "execution_count": 12,
   "metadata": {
    "ExecuteTime": {
     "end_time": "2020-05-07T07:29:53.446003Z",
     "start_time": "2020-05-07T07:29:53.428501Z"
    }
   },
   "outputs": [
    {
     "name": "stdout",
     "output_type": "stream",
     "text": [
      " * sqlite:///test.db\n",
      "1 rows affected.\n"
     ]
    },
    {
     "data": {
      "text/plain": [
       "[]"
      ]
     },
     "execution_count": 12,
     "metadata": {},
     "output_type": "execute_result"
    }
   ],
   "source": [
    "%%sql\n",
    "\n",
    "DELETE FROM persons\n",
    "WHERE person_id = 3;"
   ]
  },
  {
   "cell_type": "code",
   "execution_count": 13,
   "metadata": {
    "ExecuteTime": {
     "end_time": "2020-05-07T07:29:53.463655Z",
     "start_time": "2020-05-07T07:29:53.452846Z"
    }
   },
   "outputs": [
    {
     "name": "stdout",
     "output_type": "stream",
     "text": [
      " * sqlite:///test.db\n",
      "Done.\n"
     ]
    },
    {
     "data": {
      "text/html": [
       "<table>\n",
       "    <tr>\n",
       "        <th>person_id</th>\n",
       "        <th>firstname</th>\n",
       "        <th>lastname</th>\n",
       "        <th>age</th>\n",
       "        <th>height</th>\n",
       "        <th>weight</th>\n",
       "        <th>city</th>\n",
       "    </tr>\n",
       "    <tr>\n",
       "        <td>10</td>\n",
       "        <td>kaka</td>\n",
       "        <td>Lin</td>\n",
       "        <td>28</td>\n",
       "        <td>175.0</td>\n",
       "        <td>68.0</td>\n",
       "        <td>Taipei</td>\n",
       "    </tr>\n",
       "    <tr>\n",
       "        <td>11</td>\n",
       "        <td>kiwi</td>\n",
       "        <td>Li</td>\n",
       "        <td>30</td>\n",
       "        <td>173.0</td>\n",
       "        <td>70.0</td>\n",
       "        <td>Taipei</td>\n",
       "    </tr>\n",
       "</table>"
      ],
      "text/plain": [
       "[(10, 'kaka', 'Lin', 28, 175.0, 68.0, 'Taipei'),\n",
       " (11, 'kiwi', 'Li', 30, 173.0, 70.0, 'Taipei')]"
      ]
     },
     "execution_count": 13,
     "metadata": {},
     "output_type": "execute_result"
    }
   ],
   "source": [
    "%%sql\n",
    "\n",
    "SELECT * FROM persons;"
   ]
  },
  {
   "cell_type": "markdown",
   "metadata": {},
   "source": [
    "## SQL WHERE"
   ]
  },
  {
   "cell_type": "code",
   "execution_count": 14,
   "metadata": {
    "ExecuteTime": {
     "end_time": "2020-05-07T07:29:53.587958Z",
     "start_time": "2020-05-07T07:29:53.469308Z"
    }
   },
   "outputs": [
    {
     "name": "stdout",
     "output_type": "stream",
     "text": [
      " * sqlite:///test.db\n",
      "7 rows affected.\n"
     ]
    },
    {
     "data": {
      "text/plain": [
       "[]"
      ]
     },
     "execution_count": 14,
     "metadata": {},
     "output_type": "execute_result"
    }
   ],
   "source": [
    "%%sql\n",
    "\n",
    "INSERT INTO persons (firstname, lastname, age, height, weight, city) \n",
    "VALUES ('Albert', 'Lin', 28, 160, 70, 'Taipei'),\n",
    "       ('Andy', 'Wei', 24, 175, 72, 'Teipei'),\n",
    "       ('kevin', 'Wang', 30, 174, 63, 'San Francisco'),\n",
    "       ('kevin', 'Wei', 27, 178, 65, 'Taipei'),\n",
    "       ('David', 'Kang', 26, 175, 65, 'Washington'),\n",
    "       ('Matt', 'Wang', 26, 172, 72, 'Taipei'),\n",
    "       ('kaka-ideal', 'Lin', 28, 178, 70, 'Janpan');"
   ]
  },
  {
   "cell_type": "code",
   "execution_count": 15,
   "metadata": {
    "ExecuteTime": {
     "end_time": "2020-05-07T07:29:53.641758Z",
     "start_time": "2020-05-07T07:29:53.600849Z"
    }
   },
   "outputs": [
    {
     "name": "stdout",
     "output_type": "stream",
     "text": [
      " * sqlite:///test.db\n",
      "Done.\n"
     ]
    },
    {
     "data": {
      "text/html": [
       "<table>\n",
       "    <tr>\n",
       "        <th>person_id</th>\n",
       "        <th>firstname</th>\n",
       "        <th>lastname</th>\n",
       "        <th>age</th>\n",
       "        <th>height</th>\n",
       "        <th>weight</th>\n",
       "        <th>city</th>\n",
       "    </tr>\n",
       "    <tr>\n",
       "        <td>10</td>\n",
       "        <td>kaka</td>\n",
       "        <td>Lin</td>\n",
       "        <td>28</td>\n",
       "        <td>175.0</td>\n",
       "        <td>68.0</td>\n",
       "        <td>Taipei</td>\n",
       "    </tr>\n",
       "    <tr>\n",
       "        <td>11</td>\n",
       "        <td>kiwi</td>\n",
       "        <td>Li</td>\n",
       "        <td>30</td>\n",
       "        <td>173.0</td>\n",
       "        <td>70.0</td>\n",
       "        <td>Taipei</td>\n",
       "    </tr>\n",
       "    <tr>\n",
       "        <td>12</td>\n",
       "        <td>Albert</td>\n",
       "        <td>Lin</td>\n",
       "        <td>28</td>\n",
       "        <td>160.0</td>\n",
       "        <td>70.0</td>\n",
       "        <td>Taipei</td>\n",
       "    </tr>\n",
       "    <tr>\n",
       "        <td>13</td>\n",
       "        <td>Andy</td>\n",
       "        <td>Wei</td>\n",
       "        <td>24</td>\n",
       "        <td>175.0</td>\n",
       "        <td>72.0</td>\n",
       "        <td>Teipei</td>\n",
       "    </tr>\n",
       "    <tr>\n",
       "        <td>14</td>\n",
       "        <td>kevin</td>\n",
       "        <td>Wang</td>\n",
       "        <td>30</td>\n",
       "        <td>174.0</td>\n",
       "        <td>63.0</td>\n",
       "        <td>San Francisco</td>\n",
       "    </tr>\n",
       "    <tr>\n",
       "        <td>15</td>\n",
       "        <td>kevin</td>\n",
       "        <td>Wei</td>\n",
       "        <td>27</td>\n",
       "        <td>178.0</td>\n",
       "        <td>65.0</td>\n",
       "        <td>Taipei</td>\n",
       "    </tr>\n",
       "    <tr>\n",
       "        <td>16</td>\n",
       "        <td>David</td>\n",
       "        <td>Kang</td>\n",
       "        <td>26</td>\n",
       "        <td>175.0</td>\n",
       "        <td>65.0</td>\n",
       "        <td>Washington</td>\n",
       "    </tr>\n",
       "    <tr>\n",
       "        <td>17</td>\n",
       "        <td>Matt</td>\n",
       "        <td>Wang</td>\n",
       "        <td>26</td>\n",
       "        <td>172.0</td>\n",
       "        <td>72.0</td>\n",
       "        <td>Taipei</td>\n",
       "    </tr>\n",
       "    <tr>\n",
       "        <td>18</td>\n",
       "        <td>kaka-ideal</td>\n",
       "        <td>Lin</td>\n",
       "        <td>28</td>\n",
       "        <td>178.0</td>\n",
       "        <td>70.0</td>\n",
       "        <td>Janpan</td>\n",
       "    </tr>\n",
       "</table>"
      ],
      "text/plain": [
       "[(10, 'kaka', 'Lin', 28, 175.0, 68.0, 'Taipei'),\n",
       " (11, 'kiwi', 'Li', 30, 173.0, 70.0, 'Taipei'),\n",
       " (12, 'Albert', 'Lin', 28, 160.0, 70.0, 'Taipei'),\n",
       " (13, 'Andy', 'Wei', 24, 175.0, 72.0, 'Teipei'),\n",
       " (14, 'kevin', 'Wang', 30, 174.0, 63.0, 'San Francisco'),\n",
       " (15, 'kevin', 'Wei', 27, 178.0, 65.0, 'Taipei'),\n",
       " (16, 'David', 'Kang', 26, 175.0, 65.0, 'Washington'),\n",
       " (17, 'Matt', 'Wang', 26, 172.0, 72.0, 'Taipei'),\n",
       " (18, 'kaka-ideal', 'Lin', 28, 178.0, 70.0, 'Janpan')]"
      ]
     },
     "execution_count": 15,
     "metadata": {},
     "output_type": "execute_result"
    }
   ],
   "source": [
    "%%sql\n",
    "\n",
    "SELECT * FROM persons"
   ]
  },
  {
   "cell_type": "code",
   "execution_count": 16,
   "metadata": {
    "ExecuteTime": {
     "end_time": "2020-05-07T07:29:53.718092Z",
     "start_time": "2020-05-07T07:29:53.645444Z"
    },
    "scrolled": true
   },
   "outputs": [
    {
     "name": "stdout",
     "output_type": "stream",
     "text": [
      " * sqlite:///test.db\n",
      "Done.\n"
     ]
    },
    {
     "data": {
      "text/html": [
       "<table>\n",
       "    <tr>\n",
       "        <th>person_id</th>\n",
       "        <th>firstname</th>\n",
       "        <th>lastname</th>\n",
       "        <th>age</th>\n",
       "        <th>height</th>\n",
       "        <th>weight</th>\n",
       "        <th>city</th>\n",
       "    </tr>\n",
       "    <tr>\n",
       "        <td>10</td>\n",
       "        <td>kaka</td>\n",
       "        <td>Lin</td>\n",
       "        <td>28</td>\n",
       "        <td>175.0</td>\n",
       "        <td>68.0</td>\n",
       "        <td>Taipei</td>\n",
       "    </tr>\n",
       "    <tr>\n",
       "        <td>12</td>\n",
       "        <td>Albert</td>\n",
       "        <td>Lin</td>\n",
       "        <td>28</td>\n",
       "        <td>160.0</td>\n",
       "        <td>70.0</td>\n",
       "        <td>Taipei</td>\n",
       "    </tr>\n",
       "    <tr>\n",
       "        <td>18</td>\n",
       "        <td>kaka-ideal</td>\n",
       "        <td>Lin</td>\n",
       "        <td>28</td>\n",
       "        <td>178.0</td>\n",
       "        <td>70.0</td>\n",
       "        <td>Janpan</td>\n",
       "    </tr>\n",
       "</table>"
      ],
      "text/plain": [
       "[(10, 'kaka', 'Lin', 28, 175.0, 68.0, 'Taipei'),\n",
       " (12, 'Albert', 'Lin', 28, 160.0, 70.0, 'Taipei'),\n",
       " (18, 'kaka-ideal', 'Lin', 28, 178.0, 70.0, 'Janpan')]"
      ]
     },
     "execution_count": 16,
     "metadata": {},
     "output_type": "execute_result"
    }
   ],
   "source": [
    "%%sql\n",
    "\n",
    "SELECT *\n",
    "FROM   persons\n",
    "WHERE  age = 28;"
   ]
  },
  {
   "cell_type": "markdown",
   "metadata": {},
   "source": [
    "## SQL AND, OR and NOT"
   ]
  },
  {
   "cell_type": "markdown",
   "metadata": {},
   "source": [
    "### AND"
   ]
  },
  {
   "cell_type": "code",
   "execution_count": 17,
   "metadata": {
    "ExecuteTime": {
     "end_time": "2020-05-07T07:29:53.762526Z",
     "start_time": "2020-05-07T07:29:53.722331Z"
    }
   },
   "outputs": [
    {
     "name": "stdout",
     "output_type": "stream",
     "text": [
      " * sqlite:///test.db\n",
      "Done.\n"
     ]
    },
    {
     "data": {
      "text/html": [
       "<table>\n",
       "    <tr>\n",
       "        <th>person_id</th>\n",
       "        <th>firstname</th>\n",
       "        <th>lastname</th>\n",
       "        <th>age</th>\n",
       "        <th>height</th>\n",
       "        <th>weight</th>\n",
       "        <th>city</th>\n",
       "    </tr>\n",
       "    <tr>\n",
       "        <td>10</td>\n",
       "        <td>kaka</td>\n",
       "        <td>Lin</td>\n",
       "        <td>28</td>\n",
       "        <td>175.0</td>\n",
       "        <td>68.0</td>\n",
       "        <td>Taipei</td>\n",
       "    </tr>\n",
       "    <tr>\n",
       "        <td>18</td>\n",
       "        <td>kaka-ideal</td>\n",
       "        <td>Lin</td>\n",
       "        <td>28</td>\n",
       "        <td>178.0</td>\n",
       "        <td>70.0</td>\n",
       "        <td>Janpan</td>\n",
       "    </tr>\n",
       "</table>"
      ],
      "text/plain": [
       "[(10, 'kaka', 'Lin', 28, 175.0, 68.0, 'Taipei'),\n",
       " (18, 'kaka-ideal', 'Lin', 28, 178.0, 70.0, 'Janpan')]"
      ]
     },
     "execution_count": 17,
     "metadata": {},
     "output_type": "execute_result"
    }
   ],
   "source": [
    "%%sql\n",
    "\n",
    "SELECT *\n",
    "FROM   persons\n",
    "WHERE  age = 28\n",
    "AND    height > 170;"
   ]
  },
  {
   "cell_type": "markdown",
   "metadata": {},
   "source": [
    "### OR"
   ]
  },
  {
   "cell_type": "code",
   "execution_count": 18,
   "metadata": {
    "ExecuteTime": {
     "end_time": "2020-05-07T07:29:53.792396Z",
     "start_time": "2020-05-07T07:29:53.773846Z"
    }
   },
   "outputs": [
    {
     "name": "stdout",
     "output_type": "stream",
     "text": [
      " * sqlite:///test.db\n",
      "Done.\n"
     ]
    },
    {
     "data": {
      "text/html": [
       "<table>\n",
       "    <tr>\n",
       "        <th>person_id</th>\n",
       "        <th>firstname</th>\n",
       "        <th>lastname</th>\n",
       "        <th>age</th>\n",
       "        <th>height</th>\n",
       "        <th>weight</th>\n",
       "        <th>city</th>\n",
       "    </tr>\n",
       "    <tr>\n",
       "        <td>10</td>\n",
       "        <td>kaka</td>\n",
       "        <td>Lin</td>\n",
       "        <td>28</td>\n",
       "        <td>175.0</td>\n",
       "        <td>68.0</td>\n",
       "        <td>Taipei</td>\n",
       "    </tr>\n",
       "    <tr>\n",
       "        <td>11</td>\n",
       "        <td>kiwi</td>\n",
       "        <td>Li</td>\n",
       "        <td>30</td>\n",
       "        <td>173.0</td>\n",
       "        <td>70.0</td>\n",
       "        <td>Taipei</td>\n",
       "    </tr>\n",
       "    <tr>\n",
       "        <td>12</td>\n",
       "        <td>Albert</td>\n",
       "        <td>Lin</td>\n",
       "        <td>28</td>\n",
       "        <td>160.0</td>\n",
       "        <td>70.0</td>\n",
       "        <td>Taipei</td>\n",
       "    </tr>\n",
       "    <tr>\n",
       "        <td>13</td>\n",
       "        <td>Andy</td>\n",
       "        <td>Wei</td>\n",
       "        <td>24</td>\n",
       "        <td>175.0</td>\n",
       "        <td>72.0</td>\n",
       "        <td>Teipei</td>\n",
       "    </tr>\n",
       "    <tr>\n",
       "        <td>14</td>\n",
       "        <td>kevin</td>\n",
       "        <td>Wang</td>\n",
       "        <td>30</td>\n",
       "        <td>174.0</td>\n",
       "        <td>63.0</td>\n",
       "        <td>San Francisco</td>\n",
       "    </tr>\n",
       "    <tr>\n",
       "        <td>15</td>\n",
       "        <td>kevin</td>\n",
       "        <td>Wei</td>\n",
       "        <td>27</td>\n",
       "        <td>178.0</td>\n",
       "        <td>65.0</td>\n",
       "        <td>Taipei</td>\n",
       "    </tr>\n",
       "    <tr>\n",
       "        <td>16</td>\n",
       "        <td>David</td>\n",
       "        <td>Kang</td>\n",
       "        <td>26</td>\n",
       "        <td>175.0</td>\n",
       "        <td>65.0</td>\n",
       "        <td>Washington</td>\n",
       "    </tr>\n",
       "    <tr>\n",
       "        <td>17</td>\n",
       "        <td>Matt</td>\n",
       "        <td>Wang</td>\n",
       "        <td>26</td>\n",
       "        <td>172.0</td>\n",
       "        <td>72.0</td>\n",
       "        <td>Taipei</td>\n",
       "    </tr>\n",
       "    <tr>\n",
       "        <td>18</td>\n",
       "        <td>kaka-ideal</td>\n",
       "        <td>Lin</td>\n",
       "        <td>28</td>\n",
       "        <td>178.0</td>\n",
       "        <td>70.0</td>\n",
       "        <td>Janpan</td>\n",
       "    </tr>\n",
       "</table>"
      ],
      "text/plain": [
       "[(10, 'kaka', 'Lin', 28, 175.0, 68.0, 'Taipei'),\n",
       " (11, 'kiwi', 'Li', 30, 173.0, 70.0, 'Taipei'),\n",
       " (12, 'Albert', 'Lin', 28, 160.0, 70.0, 'Taipei'),\n",
       " (13, 'Andy', 'Wei', 24, 175.0, 72.0, 'Teipei'),\n",
       " (14, 'kevin', 'Wang', 30, 174.0, 63.0, 'San Francisco'),\n",
       " (15, 'kevin', 'Wei', 27, 178.0, 65.0, 'Taipei'),\n",
       " (16, 'David', 'Kang', 26, 175.0, 65.0, 'Washington'),\n",
       " (17, 'Matt', 'Wang', 26, 172.0, 72.0, 'Taipei'),\n",
       " (18, 'kaka-ideal', 'Lin', 28, 178.0, 70.0, 'Janpan')]"
      ]
     },
     "execution_count": 18,
     "metadata": {},
     "output_type": "execute_result"
    }
   ],
   "source": [
    "%%sql\n",
    "\n",
    "SELECT *\n",
    "FROM   persons\n",
    "WHERE  age = 28 \n",
    "OR     height > 170;"
   ]
  },
  {
   "cell_type": "markdown",
   "metadata": {},
   "source": [
    "#### SQL IN Operator\n",
    "\n",
    "The IN operator allows you to specify multiple values in a WHERE clause."
   ]
  },
  {
   "cell_type": "code",
   "execution_count": 19,
   "metadata": {
    "ExecuteTime": {
     "end_time": "2020-05-07T07:29:53.829257Z",
     "start_time": "2020-05-07T07:29:53.796551Z"
    }
   },
   "outputs": [
    {
     "name": "stdout",
     "output_type": "stream",
     "text": [
      " * sqlite:///test.db\n",
      "Done.\n"
     ]
    },
    {
     "data": {
      "text/html": [
       "<table>\n",
       "    <tr>\n",
       "        <th>person_id</th>\n",
       "        <th>firstname</th>\n",
       "        <th>lastname</th>\n",
       "        <th>age</th>\n",
       "        <th>height</th>\n",
       "        <th>weight</th>\n",
       "        <th>city</th>\n",
       "    </tr>\n",
       "    <tr>\n",
       "        <td>10</td>\n",
       "        <td>kaka</td>\n",
       "        <td>Lin</td>\n",
       "        <td>28</td>\n",
       "        <td>175.0</td>\n",
       "        <td>68.0</td>\n",
       "        <td>Taipei</td>\n",
       "    </tr>\n",
       "    <tr>\n",
       "        <td>12</td>\n",
       "        <td>Albert</td>\n",
       "        <td>Lin</td>\n",
       "        <td>28</td>\n",
       "        <td>160.0</td>\n",
       "        <td>70.0</td>\n",
       "        <td>Taipei</td>\n",
       "    </tr>\n",
       "    <tr>\n",
       "        <td>16</td>\n",
       "        <td>David</td>\n",
       "        <td>Kang</td>\n",
       "        <td>26</td>\n",
       "        <td>175.0</td>\n",
       "        <td>65.0</td>\n",
       "        <td>Washington</td>\n",
       "    </tr>\n",
       "    <tr>\n",
       "        <td>17</td>\n",
       "        <td>Matt</td>\n",
       "        <td>Wang</td>\n",
       "        <td>26</td>\n",
       "        <td>172.0</td>\n",
       "        <td>72.0</td>\n",
       "        <td>Taipei</td>\n",
       "    </tr>\n",
       "    <tr>\n",
       "        <td>18</td>\n",
       "        <td>kaka-ideal</td>\n",
       "        <td>Lin</td>\n",
       "        <td>28</td>\n",
       "        <td>178.0</td>\n",
       "        <td>70.0</td>\n",
       "        <td>Janpan</td>\n",
       "    </tr>\n",
       "</table>"
      ],
      "text/plain": [
       "[(10, 'kaka', 'Lin', 28, 175.0, 68.0, 'Taipei'),\n",
       " (12, 'Albert', 'Lin', 28, 160.0, 70.0, 'Taipei'),\n",
       " (16, 'David', 'Kang', 26, 175.0, 65.0, 'Washington'),\n",
       " (17, 'Matt', 'Wang', 26, 172.0, 72.0, 'Taipei'),\n",
       " (18, 'kaka-ideal', 'Lin', 28, 178.0, 70.0, 'Janpan')]"
      ]
     },
     "execution_count": 19,
     "metadata": {},
     "output_type": "execute_result"
    }
   ],
   "source": [
    "%%sql\n",
    "\n",
    "SELECT *\n",
    "FROM   persons\n",
    "WHERE  age = 28 OR age = 26;"
   ]
  },
  {
   "cell_type": "code",
   "execution_count": 20,
   "metadata": {
    "ExecuteTime": {
     "end_time": "2020-05-07T07:29:53.875157Z",
     "start_time": "2020-05-07T07:29:53.833503Z"
    }
   },
   "outputs": [
    {
     "name": "stdout",
     "output_type": "stream",
     "text": [
      " * sqlite:///test.db\n",
      "Done.\n"
     ]
    },
    {
     "data": {
      "text/html": [
       "<table>\n",
       "    <tr>\n",
       "        <th>person_id</th>\n",
       "        <th>firstname</th>\n",
       "        <th>lastname</th>\n",
       "        <th>age</th>\n",
       "        <th>height</th>\n",
       "        <th>weight</th>\n",
       "        <th>city</th>\n",
       "    </tr>\n",
       "    <tr>\n",
       "        <td>10</td>\n",
       "        <td>kaka</td>\n",
       "        <td>Lin</td>\n",
       "        <td>28</td>\n",
       "        <td>175.0</td>\n",
       "        <td>68.0</td>\n",
       "        <td>Taipei</td>\n",
       "    </tr>\n",
       "    <tr>\n",
       "        <td>12</td>\n",
       "        <td>Albert</td>\n",
       "        <td>Lin</td>\n",
       "        <td>28</td>\n",
       "        <td>160.0</td>\n",
       "        <td>70.0</td>\n",
       "        <td>Taipei</td>\n",
       "    </tr>\n",
       "    <tr>\n",
       "        <td>16</td>\n",
       "        <td>David</td>\n",
       "        <td>Kang</td>\n",
       "        <td>26</td>\n",
       "        <td>175.0</td>\n",
       "        <td>65.0</td>\n",
       "        <td>Washington</td>\n",
       "    </tr>\n",
       "    <tr>\n",
       "        <td>17</td>\n",
       "        <td>Matt</td>\n",
       "        <td>Wang</td>\n",
       "        <td>26</td>\n",
       "        <td>172.0</td>\n",
       "        <td>72.0</td>\n",
       "        <td>Taipei</td>\n",
       "    </tr>\n",
       "    <tr>\n",
       "        <td>18</td>\n",
       "        <td>kaka-ideal</td>\n",
       "        <td>Lin</td>\n",
       "        <td>28</td>\n",
       "        <td>178.0</td>\n",
       "        <td>70.0</td>\n",
       "        <td>Janpan</td>\n",
       "    </tr>\n",
       "</table>"
      ],
      "text/plain": [
       "[(10, 'kaka', 'Lin', 28, 175.0, 68.0, 'Taipei'),\n",
       " (12, 'Albert', 'Lin', 28, 160.0, 70.0, 'Taipei'),\n",
       " (16, 'David', 'Kang', 26, 175.0, 65.0, 'Washington'),\n",
       " (17, 'Matt', 'Wang', 26, 172.0, 72.0, 'Taipei'),\n",
       " (18, 'kaka-ideal', 'Lin', 28, 178.0, 70.0, 'Janpan')]"
      ]
     },
     "execution_count": 20,
     "metadata": {},
     "output_type": "execute_result"
    }
   ],
   "source": [
    "%%sql\n",
    "\n",
    "SELECT *\n",
    "FROM   persons\n",
    "WHERE age IN (26, 28);"
   ]
  },
  {
   "cell_type": "markdown",
   "metadata": {},
   "source": [
    "### NOT"
   ]
  },
  {
   "cell_type": "code",
   "execution_count": 21,
   "metadata": {
    "ExecuteTime": {
     "end_time": "2020-05-07T07:29:53.949397Z",
     "start_time": "2020-05-07T07:29:53.878113Z"
    }
   },
   "outputs": [
    {
     "name": "stdout",
     "output_type": "stream",
     "text": [
      " * sqlite:///test.db\n",
      "Done.\n"
     ]
    },
    {
     "data": {
      "text/html": [
       "<table>\n",
       "    <tr>\n",
       "        <th>person_id</th>\n",
       "        <th>firstname</th>\n",
       "        <th>lastname</th>\n",
       "        <th>age</th>\n",
       "        <th>height</th>\n",
       "        <th>weight</th>\n",
       "        <th>city</th>\n",
       "    </tr>\n",
       "    <tr>\n",
       "        <td>11</td>\n",
       "        <td>kiwi</td>\n",
       "        <td>Li</td>\n",
       "        <td>30</td>\n",
       "        <td>173.0</td>\n",
       "        <td>70.0</td>\n",
       "        <td>Taipei</td>\n",
       "    </tr>\n",
       "    <tr>\n",
       "        <td>13</td>\n",
       "        <td>Andy</td>\n",
       "        <td>Wei</td>\n",
       "        <td>24</td>\n",
       "        <td>175.0</td>\n",
       "        <td>72.0</td>\n",
       "        <td>Teipei</td>\n",
       "    </tr>\n",
       "    <tr>\n",
       "        <td>14</td>\n",
       "        <td>kevin</td>\n",
       "        <td>Wang</td>\n",
       "        <td>30</td>\n",
       "        <td>174.0</td>\n",
       "        <td>63.0</td>\n",
       "        <td>San Francisco</td>\n",
       "    </tr>\n",
       "    <tr>\n",
       "        <td>15</td>\n",
       "        <td>kevin</td>\n",
       "        <td>Wei</td>\n",
       "        <td>27</td>\n",
       "        <td>178.0</td>\n",
       "        <td>65.0</td>\n",
       "        <td>Taipei</td>\n",
       "    </tr>\n",
       "    <tr>\n",
       "        <td>16</td>\n",
       "        <td>David</td>\n",
       "        <td>Kang</td>\n",
       "        <td>26</td>\n",
       "        <td>175.0</td>\n",
       "        <td>65.0</td>\n",
       "        <td>Washington</td>\n",
       "    </tr>\n",
       "    <tr>\n",
       "        <td>17</td>\n",
       "        <td>Matt</td>\n",
       "        <td>Wang</td>\n",
       "        <td>26</td>\n",
       "        <td>172.0</td>\n",
       "        <td>72.0</td>\n",
       "        <td>Taipei</td>\n",
       "    </tr>\n",
       "</table>"
      ],
      "text/plain": [
       "[(11, 'kiwi', 'Li', 30, 173.0, 70.0, 'Taipei'),\n",
       " (13, 'Andy', 'Wei', 24, 175.0, 72.0, 'Teipei'),\n",
       " (14, 'kevin', 'Wang', 30, 174.0, 63.0, 'San Francisco'),\n",
       " (15, 'kevin', 'Wei', 27, 178.0, 65.0, 'Taipei'),\n",
       " (16, 'David', 'Kang', 26, 175.0, 65.0, 'Washington'),\n",
       " (17, 'Matt', 'Wang', 26, 172.0, 72.0, 'Taipei')]"
      ]
     },
     "execution_count": 21,
     "metadata": {},
     "output_type": "execute_result"
    }
   ],
   "source": [
    "%%sql\n",
    "\n",
    "SELECT *\n",
    "FROM   persons\n",
    "/* WHERE NOT age = 28; */\n",
    "WHERE age != 28;"
   ]
  },
  {
   "cell_type": "markdown",
   "metadata": {},
   "source": [
    "## SQL ORDER BY\n",
    "\n",
    "```\n",
    "SELECT column1, column2, ...\n",
    "    FROM table_name\n",
    "    ORDER BY column1, column2, ... ASC|DESC;\n",
    "```\n",
    "\n",
    "- Default: ASC"
   ]
  },
  {
   "cell_type": "code",
   "execution_count": 22,
   "metadata": {
    "ExecuteTime": {
     "end_time": "2020-05-07T07:29:53.972750Z",
     "start_time": "2020-05-07T07:29:53.954252Z"
    }
   },
   "outputs": [
    {
     "name": "stdout",
     "output_type": "stream",
     "text": [
      " * sqlite:///test.db\n",
      "Done.\n"
     ]
    },
    {
     "data": {
      "text/html": [
       "<table>\n",
       "    <tr>\n",
       "        <th>person_id</th>\n",
       "        <th>firstname</th>\n",
       "        <th>lastname</th>\n",
       "        <th>age</th>\n",
       "        <th>height</th>\n",
       "        <th>weight</th>\n",
       "        <th>city</th>\n",
       "    </tr>\n",
       "    <tr>\n",
       "        <td>13</td>\n",
       "        <td>Andy</td>\n",
       "        <td>Wei</td>\n",
       "        <td>24</td>\n",
       "        <td>175.0</td>\n",
       "        <td>72.0</td>\n",
       "        <td>Teipei</td>\n",
       "    </tr>\n",
       "    <tr>\n",
       "        <td>16</td>\n",
       "        <td>David</td>\n",
       "        <td>Kang</td>\n",
       "        <td>26</td>\n",
       "        <td>175.0</td>\n",
       "        <td>65.0</td>\n",
       "        <td>Washington</td>\n",
       "    </tr>\n",
       "    <tr>\n",
       "        <td>17</td>\n",
       "        <td>Matt</td>\n",
       "        <td>Wang</td>\n",
       "        <td>26</td>\n",
       "        <td>172.0</td>\n",
       "        <td>72.0</td>\n",
       "        <td>Taipei</td>\n",
       "    </tr>\n",
       "    <tr>\n",
       "        <td>15</td>\n",
       "        <td>kevin</td>\n",
       "        <td>Wei</td>\n",
       "        <td>27</td>\n",
       "        <td>178.0</td>\n",
       "        <td>65.0</td>\n",
       "        <td>Taipei</td>\n",
       "    </tr>\n",
       "    <tr>\n",
       "        <td>10</td>\n",
       "        <td>kaka</td>\n",
       "        <td>Lin</td>\n",
       "        <td>28</td>\n",
       "        <td>175.0</td>\n",
       "        <td>68.0</td>\n",
       "        <td>Taipei</td>\n",
       "    </tr>\n",
       "    <tr>\n",
       "        <td>12</td>\n",
       "        <td>Albert</td>\n",
       "        <td>Lin</td>\n",
       "        <td>28</td>\n",
       "        <td>160.0</td>\n",
       "        <td>70.0</td>\n",
       "        <td>Taipei</td>\n",
       "    </tr>\n",
       "    <tr>\n",
       "        <td>18</td>\n",
       "        <td>kaka-ideal</td>\n",
       "        <td>Lin</td>\n",
       "        <td>28</td>\n",
       "        <td>178.0</td>\n",
       "        <td>70.0</td>\n",
       "        <td>Janpan</td>\n",
       "    </tr>\n",
       "    <tr>\n",
       "        <td>11</td>\n",
       "        <td>kiwi</td>\n",
       "        <td>Li</td>\n",
       "        <td>30</td>\n",
       "        <td>173.0</td>\n",
       "        <td>70.0</td>\n",
       "        <td>Taipei</td>\n",
       "    </tr>\n",
       "    <tr>\n",
       "        <td>14</td>\n",
       "        <td>kevin</td>\n",
       "        <td>Wang</td>\n",
       "        <td>30</td>\n",
       "        <td>174.0</td>\n",
       "        <td>63.0</td>\n",
       "        <td>San Francisco</td>\n",
       "    </tr>\n",
       "</table>"
      ],
      "text/plain": [
       "[(13, 'Andy', 'Wei', 24, 175.0, 72.0, 'Teipei'),\n",
       " (16, 'David', 'Kang', 26, 175.0, 65.0, 'Washington'),\n",
       " (17, 'Matt', 'Wang', 26, 172.0, 72.0, 'Taipei'),\n",
       " (15, 'kevin', 'Wei', 27, 178.0, 65.0, 'Taipei'),\n",
       " (10, 'kaka', 'Lin', 28, 175.0, 68.0, 'Taipei'),\n",
       " (12, 'Albert', 'Lin', 28, 160.0, 70.0, 'Taipei'),\n",
       " (18, 'kaka-ideal', 'Lin', 28, 178.0, 70.0, 'Janpan'),\n",
       " (11, 'kiwi', 'Li', 30, 173.0, 70.0, 'Taipei'),\n",
       " (14, 'kevin', 'Wang', 30, 174.0, 63.0, 'San Francisco')]"
      ]
     },
     "execution_count": 22,
     "metadata": {},
     "output_type": "execute_result"
    }
   ],
   "source": [
    "%%sql\n",
    "\n",
    "SELECT *\n",
    "FROM   persons\n",
    "ORDER BY age;"
   ]
  },
  {
   "cell_type": "markdown",
   "metadata": {},
   "source": [
    "## SQL LIKE Operator\n",
    "\n",
    "The LIKE operator is used in a WHERE clause to search for a specified pattern in a column.\n",
    "\n",
    "There are two wildcards often used in conjunction with the LIKE operator:\n",
    "\n",
    "- % : The percent sign represents zero, one, or multiple characters\n",
    "- _ : The underscore represents a single character"
   ]
  },
  {
   "cell_type": "code",
   "execution_count": 23,
   "metadata": {
    "ExecuteTime": {
     "end_time": "2020-05-07T07:29:54.003647Z",
     "start_time": "2020-05-07T07:29:53.989394Z"
    }
   },
   "outputs": [
    {
     "name": "stdout",
     "output_type": "stream",
     "text": [
      " * sqlite:///test.db\n",
      "Done.\n"
     ]
    },
    {
     "data": {
      "text/html": [
       "<table>\n",
       "    <tr>\n",
       "        <th>person_id</th>\n",
       "        <th>firstname</th>\n",
       "        <th>lastname</th>\n",
       "        <th>age</th>\n",
       "        <th>height</th>\n",
       "        <th>weight</th>\n",
       "        <th>city</th>\n",
       "    </tr>\n",
       "    <tr>\n",
       "        <td>10</td>\n",
       "        <td>kaka</td>\n",
       "        <td>Lin</td>\n",
       "        <td>28</td>\n",
       "        <td>175.0</td>\n",
       "        <td>68.0</td>\n",
       "        <td>Taipei</td>\n",
       "    </tr>\n",
       "    <tr>\n",
       "        <td>11</td>\n",
       "        <td>kiwi</td>\n",
       "        <td>Li</td>\n",
       "        <td>30</td>\n",
       "        <td>173.0</td>\n",
       "        <td>70.0</td>\n",
       "        <td>Taipei</td>\n",
       "    </tr>\n",
       "    <tr>\n",
       "        <td>12</td>\n",
       "        <td>Albert</td>\n",
       "        <td>Lin</td>\n",
       "        <td>28</td>\n",
       "        <td>160.0</td>\n",
       "        <td>70.0</td>\n",
       "        <td>Taipei</td>\n",
       "    </tr>\n",
       "    <tr>\n",
       "        <td>13</td>\n",
       "        <td>Andy</td>\n",
       "        <td>Wei</td>\n",
       "        <td>24</td>\n",
       "        <td>175.0</td>\n",
       "        <td>72.0</td>\n",
       "        <td>Teipei</td>\n",
       "    </tr>\n",
       "    <tr>\n",
       "        <td>15</td>\n",
       "        <td>kevin</td>\n",
       "        <td>Wei</td>\n",
       "        <td>27</td>\n",
       "        <td>178.0</td>\n",
       "        <td>65.0</td>\n",
       "        <td>Taipei</td>\n",
       "    </tr>\n",
       "    <tr>\n",
       "        <td>17</td>\n",
       "        <td>Matt</td>\n",
       "        <td>Wang</td>\n",
       "        <td>26</td>\n",
       "        <td>172.0</td>\n",
       "        <td>72.0</td>\n",
       "        <td>Taipei</td>\n",
       "    </tr>\n",
       "</table>"
      ],
      "text/plain": [
       "[(10, 'kaka', 'Lin', 28, 175.0, 68.0, 'Taipei'),\n",
       " (11, 'kiwi', 'Li', 30, 173.0, 70.0, 'Taipei'),\n",
       " (12, 'Albert', 'Lin', 28, 160.0, 70.0, 'Taipei'),\n",
       " (13, 'Andy', 'Wei', 24, 175.0, 72.0, 'Teipei'),\n",
       " (15, 'kevin', 'Wei', 27, 178.0, 65.0, 'Taipei'),\n",
       " (17, 'Matt', 'Wang', 26, 172.0, 72.0, 'Taipei')]"
      ]
     },
     "execution_count": 23,
     "metadata": {},
     "output_type": "execute_result"
    }
   ],
   "source": [
    "%%sql\n",
    "\n",
    "SELECT *\n",
    "FROM   persons\n",
    "WHERE city LIKE '%pei%';"
   ]
  },
  {
   "cell_type": "markdown",
   "metadata": {},
   "source": [
    "## SQLite -  Functions\n",
    "\n",
    "- [SQLite Core Function](https://www.w3resource.com/sqlite/core-functions-round.php)\n",
    "\n",
    "### Modify Table: SQL ALTER TABLE\n",
    "\n",
    "- Add a new column in an existing table\n",
    "    \n",
    "    ```\n",
    "    ALTER TABLE table_name ADD column_name datatype; \n",
    "    ```"
   ]
  },
  {
   "cell_type": "code",
   "execution_count": 24,
   "metadata": {
    "ExecuteTime": {
     "end_time": "2020-05-07T07:29:54.024803Z",
     "start_time": "2020-05-07T07:29:54.006166Z"
    }
   },
   "outputs": [
    {
     "name": "stdout",
     "output_type": "stream",
     "text": [
      " * sqlite:///test.db\n",
      "Done.\n",
      "9 rows affected.\n",
      "Done.\n"
     ]
    },
    {
     "data": {
      "text/html": [
       "<table>\n",
       "    <tr>\n",
       "        <th>person_id</th>\n",
       "        <th>firstname</th>\n",
       "        <th>lastname</th>\n",
       "        <th>age</th>\n",
       "        <th>height</th>\n",
       "        <th>weight</th>\n",
       "        <th>city</th>\n",
       "        <th>height_meters</th>\n",
       "    </tr>\n",
       "    <tr>\n",
       "        <td>10</td>\n",
       "        <td>kaka</td>\n",
       "        <td>Lin</td>\n",
       "        <td>28</td>\n",
       "        <td>175.0</td>\n",
       "        <td>68.0</td>\n",
       "        <td>Taipei</td>\n",
       "        <td>1.75</td>\n",
       "    </tr>\n",
       "    <tr>\n",
       "        <td>11</td>\n",
       "        <td>kiwi</td>\n",
       "        <td>Li</td>\n",
       "        <td>30</td>\n",
       "        <td>173.0</td>\n",
       "        <td>70.0</td>\n",
       "        <td>Taipei</td>\n",
       "        <td>1.73</td>\n",
       "    </tr>\n",
       "    <tr>\n",
       "        <td>12</td>\n",
       "        <td>Albert</td>\n",
       "        <td>Lin</td>\n",
       "        <td>28</td>\n",
       "        <td>160.0</td>\n",
       "        <td>70.0</td>\n",
       "        <td>Taipei</td>\n",
       "        <td>1.6</td>\n",
       "    </tr>\n",
       "    <tr>\n",
       "        <td>13</td>\n",
       "        <td>Andy</td>\n",
       "        <td>Wei</td>\n",
       "        <td>24</td>\n",
       "        <td>175.0</td>\n",
       "        <td>72.0</td>\n",
       "        <td>Teipei</td>\n",
       "        <td>1.75</td>\n",
       "    </tr>\n",
       "    <tr>\n",
       "        <td>14</td>\n",
       "        <td>kevin</td>\n",
       "        <td>Wang</td>\n",
       "        <td>30</td>\n",
       "        <td>174.0</td>\n",
       "        <td>63.0</td>\n",
       "        <td>San Francisco</td>\n",
       "        <td>1.74</td>\n",
       "    </tr>\n",
       "    <tr>\n",
       "        <td>15</td>\n",
       "        <td>kevin</td>\n",
       "        <td>Wei</td>\n",
       "        <td>27</td>\n",
       "        <td>178.0</td>\n",
       "        <td>65.0</td>\n",
       "        <td>Taipei</td>\n",
       "        <td>1.78</td>\n",
       "    </tr>\n",
       "    <tr>\n",
       "        <td>16</td>\n",
       "        <td>David</td>\n",
       "        <td>Kang</td>\n",
       "        <td>26</td>\n",
       "        <td>175.0</td>\n",
       "        <td>65.0</td>\n",
       "        <td>Washington</td>\n",
       "        <td>1.75</td>\n",
       "    </tr>\n",
       "    <tr>\n",
       "        <td>17</td>\n",
       "        <td>Matt</td>\n",
       "        <td>Wang</td>\n",
       "        <td>26</td>\n",
       "        <td>172.0</td>\n",
       "        <td>72.0</td>\n",
       "        <td>Taipei</td>\n",
       "        <td>1.72</td>\n",
       "    </tr>\n",
       "    <tr>\n",
       "        <td>18</td>\n",
       "        <td>kaka-ideal</td>\n",
       "        <td>Lin</td>\n",
       "        <td>28</td>\n",
       "        <td>178.0</td>\n",
       "        <td>70.0</td>\n",
       "        <td>Janpan</td>\n",
       "        <td>1.78</td>\n",
       "    </tr>\n",
       "</table>"
      ],
      "text/plain": [
       "[(10, 'kaka', 'Lin', 28, 175.0, 68.0, 'Taipei', 1.75),\n",
       " (11, 'kiwi', 'Li', 30, 173.0, 70.0, 'Taipei', 1.73),\n",
       " (12, 'Albert', 'Lin', 28, 160.0, 70.0, 'Taipei', 1.6),\n",
       " (13, 'Andy', 'Wei', 24, 175.0, 72.0, 'Teipei', 1.75),\n",
       " (14, 'kevin', 'Wang', 30, 174.0, 63.0, 'San Francisco', 1.74),\n",
       " (15, 'kevin', 'Wei', 27, 178.0, 65.0, 'Taipei', 1.78),\n",
       " (16, 'David', 'Kang', 26, 175.0, 65.0, 'Washington', 1.75),\n",
       " (17, 'Matt', 'Wang', 26, 172.0, 72.0, 'Taipei', 1.72),\n",
       " (18, 'kaka-ideal', 'Lin', 28, 178.0, 70.0, 'Janpan', 1.78)]"
      ]
     },
     "execution_count": 24,
     "metadata": {},
     "output_type": "execute_result"
    }
   ],
   "source": [
    "%%sql\n",
    "\n",
    "ALTER TABLE persons\n",
    "ADD height_meters REAL;\n",
    "\n",
    "UPDATE persons\n",
    "SET height_meters = round(height / 100, 2);\n",
    "\n",
    "SELECT * FROM persons;"
   ]
  },
  {
   "cell_type": "markdown",
   "metadata": {},
   "source": [
    "## Drop Table"
   ]
  },
  {
   "cell_type": "code",
   "execution_count": 25,
   "metadata": {
    "ExecuteTime": {
     "end_time": "2020-05-07T07:29:54.053025Z",
     "start_time": "2020-05-07T07:29:54.028612Z"
    }
   },
   "outputs": [
    {
     "name": "stdout",
     "output_type": "stream",
     "text": [
      " * sqlite:///test.db\n",
      "Done.\n"
     ]
    },
    {
     "data": {
      "text/plain": [
       "[]"
      ]
     },
     "execution_count": 25,
     "metadata": {},
     "output_type": "execute_result"
    }
   ],
   "source": [
    "%%sql\n",
    "\n",
    "DROP TABLE persons;"
   ]
  },
  {
   "cell_type": "markdown",
   "metadata": {},
   "source": [
    "## Drop Database\n",
    "\n",
    "If we want to drop DB in SQLite, just delete the file."
   ]
  },
  {
   "cell_type": "code",
   "execution_count": 26,
   "metadata": {
    "ExecuteTime": {
     "end_time": "2020-05-07T07:29:54.332044Z",
     "start_time": "2020-05-07T07:29:54.056300Z"
    }
   },
   "outputs": [
    {
     "name": "stdout",
     "output_type": "stream",
     "text": [
      "total 32\r\n",
      "drwxr-xr-x 3 kaka kaka  4096  5月 14 10:16 .\r\n",
      "drwxr-xr-x 7 kaka kaka  4096  5月 14 09:49 ..\r\n",
      "drwxr-xr-x 2 kaka kaka  4096  5月 14 09:52 .ipynb_checkpoints\r\n",
      "-rw-r--r-- 1 kaka kaka   422  5月 14 09:25 README.md\r\n",
      "-rw-r--r-- 1 kaka kaka 15267  5月 14 10:16 sqlite-basics.ipynb\r\n"
     ]
    }
   ],
   "source": [
    "!rm -rf test.db\n",
    "!ls -al"
   ]
  }
 ],
 "metadata": {
  "kernelspec": {
   "display_name": "Python 3",
   "language": "python",
   "name": "python3"
  },
  "language_info": {
   "codemirror_mode": {
    "name": "ipython",
    "version": 3
   },
   "file_extension": ".py",
   "mimetype": "text/x-python",
   "name": "python",
   "nbconvert_exporter": "python",
   "pygments_lexer": "ipython3",
   "version": "3.6.10"
  },
  "latex_envs": {
   "LaTeX_envs_menu_present": true,
   "autoclose": false,
   "autocomplete": true,
   "bibliofile": "biblio.bib",
   "cite_by": "apalike",
   "current_citInitial": 1,
   "eqLabelWithNumbers": true,
   "eqNumInitial": 1,
   "hotkeys": {
    "equation": "Ctrl-E",
    "itemize": "Ctrl-I"
   },
   "labels_anchors": false,
   "latex_user_defs": false,
   "report_style_numbering": false,
   "user_envs_cfg": false
  },
  "toc": {
   "base_numbering": 1,
   "nav_menu": {},
   "number_sections": true,
   "sideBar": true,
   "skip_h1_title": false,
   "title_cell": "Table of Contents",
   "title_sidebar": "Contents",
   "toc_cell": false,
   "toc_position": {
    "height": "calc(100% - 180px)",
    "left": "10px",
    "top": "150px",
    "width": "165px"
   },
   "toc_section_display": true,
   "toc_window_display": true
  }
 },
 "nbformat": 4,
 "nbformat_minor": 2
}
