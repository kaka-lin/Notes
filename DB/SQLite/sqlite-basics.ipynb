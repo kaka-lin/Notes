{
 "cells": [
  {
   "cell_type": "markdown",
   "metadata": {},
   "source": [
    "# SQLite - Basics\n",
    "\n",
    "[SQL Tutorial](https://www.w3schools.com/sql/default.asp)"
   ]
  },
  {
   "cell_type": "markdown",
   "metadata": {},
   "source": [
    "## Load ipython-sql\n",
    "\n",
    "`ipython-sql`:\n",
    "\n",
    "    - 是jupyter notebook的extension，用來擴充jupyter對SQL的支援\n",
    "    - 其底層是使用SQLAlchemy"
   ]
  },
  {
   "cell_type": "code",
   "execution_count": 1,
   "metadata": {
    "ExecuteTime": {
     "end_time": "2020-05-04T15:14:43.393893Z",
     "start_time": "2020-05-04T15:14:42.722882Z"
    }
   },
   "outputs": [],
   "source": [
    "%load_ext sql"
   ]
  },
  {
   "cell_type": "markdown",
   "metadata": {},
   "source": [
    "## Create Database\n",
    "\n",
    "The concept of creating or dropping a database is not meant for an embedded database engine like SQLite.\n",
    "\n",
    "If you want to create DB in SQLite, just from the command line: `sqlite3 databasefilename`.\n",
    "\n",
    "For example: `sqlite3 test.db`\n",
    "\n",
    "### Create DB in Jupyter\n",
    "\n",
    "Because `ipython-sql` is based on `SQLAlchemy`, we can create and connect DB as follow:"
   ]
  },
  {
   "cell_type": "code",
   "execution_count": 2,
   "metadata": {
    "ExecuteTime": {
     "end_time": "2020-05-04T15:14:43.416324Z",
     "start_time": "2020-05-04T15:14:43.396643Z"
    }
   },
   "outputs": [],
   "source": [
    "%sql sqlite:///test.db"
   ]
  },
  {
   "cell_type": "code",
   "execution_count": 3,
   "metadata": {
    "ExecuteTime": {
     "end_time": "2020-05-04T15:14:43.580121Z",
     "start_time": "2020-05-04T15:14:43.427510Z"
    }
   },
   "outputs": [
    {
     "name": "stdout",
     "output_type": "stream",
     "text": [
      "total 32\r\n",
      "drwxr-xr-x  5 kakalin  staff    160 May  4 23:14 \u001b[1m\u001b[36m.\u001b[m\u001b[m\r\n",
      "drwxr-xr-x  9 kakalin  staff    288 May  4 23:03 \u001b[1m\u001b[36m..\u001b[m\u001b[m\r\n",
      "drwxr-xr-x  3 kakalin  staff     96 May  4 23:01 \u001b[1m\u001b[36m.ipynb_checkpoints\u001b[m\u001b[m\r\n",
      "-rw-r--r--@ 1 kakalin  staff  15118 May  4 23:13 sqlite-basics.ipynb\r\n",
      "-rw-r--r--  1 kakalin  staff      0 May  4 23:14 test.db\r\n"
     ]
    }
   ],
   "source": [
    "!ls -al"
   ]
  },
  {
   "cell_type": "markdown",
   "metadata": {},
   "source": [
    "## CRUD\n",
    "\n",
    "- C: Create\n",
    "- R: Read\n",
    "- U: Update\n",
    "- D: Delete\n",
    "\n",
    "![](https://raw.githubusercontent.com/kaka-lin/Notes/master/DB/images/crud.png)"
   ]
  },
  {
   "cell_type": "markdown",
   "metadata": {},
   "source": [
    "### Create Table"
   ]
  },
  {
   "cell_type": "code",
   "execution_count": 4,
   "metadata": {
    "ExecuteTime": {
     "end_time": "2020-05-04T15:14:43.628273Z",
     "start_time": "2020-05-04T15:14:43.592670Z"
    }
   },
   "outputs": [
    {
     "name": "stdout",
     "output_type": "stream",
     "text": [
      " * sqlite:///test.db\n",
      "Done.\n"
     ]
    },
    {
     "data": {
      "text/plain": [
       "[]"
      ]
     },
     "execution_count": 4,
     "metadata": {},
     "output_type": "execute_result"
    }
   ],
   "source": [
    "%%sql\n",
    "CREATE TABLE persions(\n",
    "    persion_id integer primary key autoincrement,\n",
    "    firstname varchar(255),\n",
    "    lastname varchar(255),\n",
    "    age int,\n",
    "    height int,\n",
    "    weight int,\n",
    "    city varchar(255)\n",
    ");"
   ]
  },
  {
   "cell_type": "markdown",
   "metadata": {},
   "source": [
    "### Create Data"
   ]
  },
  {
   "cell_type": "code",
   "execution_count": 5,
   "metadata": {
    "ExecuteTime": {
     "end_time": "2020-05-04T15:14:43.758539Z",
     "start_time": "2020-05-04T15:14:43.634725Z"
    }
   },
   "outputs": [
    {
     "name": "stdout",
     "output_type": "stream",
     "text": [
      " * sqlite:///test.db\n",
      "1 rows affected.\n",
      "1 rows affected.\n"
     ]
    },
    {
     "data": {
      "text/plain": [
       "[]"
      ]
     },
     "execution_count": 5,
     "metadata": {},
     "output_type": "execute_result"
    }
   ],
   "source": [
    "%%sql\n",
    "INSERT INTO persions\n",
    "    VALUES(1, 'kaka','Lin', 28, 175, 70, 'Taipei');\n",
    "INSERT INTO persions (firstname, lastname, age, height, weight, city) \n",
    "    VALUES('kiwi','Li', 30, 173, 70, 'Taipei');"
   ]
  },
  {
   "cell_type": "markdown",
   "metadata": {},
   "source": [
    "### Read Data"
   ]
  },
  {
   "cell_type": "code",
   "execution_count": 6,
   "metadata": {
    "ExecuteTime": {
     "end_time": "2020-05-04T15:14:43.811861Z",
     "start_time": "2020-05-04T15:14:43.762112Z"
    },
    "scrolled": true
   },
   "outputs": [
    {
     "name": "stdout",
     "output_type": "stream",
     "text": [
      " * sqlite:///test.db\n",
      "Done.\n"
     ]
    },
    {
     "data": {
      "text/html": [
       "<table>\n",
       "    <tr>\n",
       "        <th>persion_id</th>\n",
       "        <th>firstname</th>\n",
       "        <th>lastname</th>\n",
       "        <th>age</th>\n",
       "        <th>height</th>\n",
       "        <th>weight</th>\n",
       "        <th>city</th>\n",
       "    </tr>\n",
       "    <tr>\n",
       "        <td>1</td>\n",
       "        <td>kaka</td>\n",
       "        <td>Lin</td>\n",
       "        <td>28</td>\n",
       "        <td>175</td>\n",
       "        <td>70</td>\n",
       "        <td>Taipei</td>\n",
       "    </tr>\n",
       "    <tr>\n",
       "        <td>2</td>\n",
       "        <td>kiwi</td>\n",
       "        <td>Li</td>\n",
       "        <td>30</td>\n",
       "        <td>173</td>\n",
       "        <td>70</td>\n",
       "        <td>Taipei</td>\n",
       "    </tr>\n",
       "</table>"
      ],
      "text/plain": [
       "[(1, 'kaka', 'Lin', 28, 175, 70, 'Taipei'),\n",
       " (2, 'kiwi', 'Li', 30, 173, 70, 'Taipei')]"
      ]
     },
     "execution_count": 6,
     "metadata": {},
     "output_type": "execute_result"
    }
   ],
   "source": [
    "%%sql\n",
    "\n",
    "SELECT * \n",
    "    FROM persions; "
   ]
  },
  {
   "cell_type": "markdown",
   "metadata": {},
   "source": [
    "### Update Data"
   ]
  },
  {
   "cell_type": "code",
   "execution_count": 7,
   "metadata": {
    "ExecuteTime": {
     "end_time": "2020-05-04T15:14:43.830353Z",
     "start_time": "2020-05-04T15:14:43.818186Z"
    }
   },
   "outputs": [
    {
     "name": "stdout",
     "output_type": "stream",
     "text": [
      " * sqlite:///test.db\n",
      "1 rows affected.\n"
     ]
    },
    {
     "data": {
      "text/plain": [
       "[]"
      ]
     },
     "execution_count": 7,
     "metadata": {},
     "output_type": "execute_result"
    }
   ],
   "source": [
    "%%sql\n",
    "\n",
    "UPDATE persions\n",
    "    SET weight = 68\n",
    "    -- or WHERE persion_id = 1\n",
    "    WHERE firstname = 'kaka';"
   ]
  },
  {
   "cell_type": "code",
   "execution_count": 8,
   "metadata": {
    "ExecuteTime": {
     "end_time": "2020-05-04T15:14:43.846784Z",
     "start_time": "2020-05-04T15:14:43.835455Z"
    }
   },
   "outputs": [
    {
     "name": "stdout",
     "output_type": "stream",
     "text": [
      " * sqlite:///test.db\n",
      "Done.\n"
     ]
    },
    {
     "data": {
      "text/html": [
       "<table>\n",
       "    <tr>\n",
       "        <th>persion_id</th>\n",
       "        <th>firstname</th>\n",
       "        <th>lastname</th>\n",
       "        <th>age</th>\n",
       "        <th>height</th>\n",
       "        <th>weight</th>\n",
       "        <th>city</th>\n",
       "    </tr>\n",
       "    <tr>\n",
       "        <td>1</td>\n",
       "        <td>kaka</td>\n",
       "        <td>Lin</td>\n",
       "        <td>28</td>\n",
       "        <td>175</td>\n",
       "        <td>68</td>\n",
       "        <td>Taipei</td>\n",
       "    </tr>\n",
       "    <tr>\n",
       "        <td>2</td>\n",
       "        <td>kiwi</td>\n",
       "        <td>Li</td>\n",
       "        <td>30</td>\n",
       "        <td>173</td>\n",
       "        <td>70</td>\n",
       "        <td>Taipei</td>\n",
       "    </tr>\n",
       "</table>"
      ],
      "text/plain": [
       "[(1, 'kaka', 'Lin', 28, 175, 68, 'Taipei'),\n",
       " (2, 'kiwi', 'Li', 30, 173, 70, 'Taipei')]"
      ]
     },
     "execution_count": 8,
     "metadata": {},
     "output_type": "execute_result"
    }
   ],
   "source": [
    "%%sql\n",
    "\n",
    "SELECT * \n",
    "    FROM persions;"
   ]
  },
  {
   "cell_type": "markdown",
   "metadata": {},
   "source": [
    "### Delete Data\n",
    "\n",
    "Before we delete data,\n",
    "we first add the data that we want to delete."
   ]
  },
  {
   "cell_type": "code",
   "execution_count": 9,
   "metadata": {
    "ExecuteTime": {
     "end_time": "2020-05-04T15:14:43.938470Z",
     "start_time": "2020-05-04T15:14:43.880877Z"
    }
   },
   "outputs": [
    {
     "name": "stdout",
     "output_type": "stream",
     "text": [
      " * sqlite:///test.db\n",
      "1 rows affected.\n"
     ]
    },
    {
     "data": {
      "text/plain": [
       "[]"
      ]
     },
     "execution_count": 9,
     "metadata": {},
     "output_type": "execute_result"
    }
   ],
   "source": [
    "%%sql\n",
    "\n",
    "INSERT INTO persions (firstname, lastname, age, height, weight, city) \n",
    "    VALUES('albert','Lin', 28, 180, 70, 'Taipei');"
   ]
  },
  {
   "cell_type": "code",
   "execution_count": 10,
   "metadata": {
    "ExecuteTime": {
     "end_time": "2020-05-04T15:14:43.976565Z",
     "start_time": "2020-05-04T15:14:43.948027Z"
    }
   },
   "outputs": [
    {
     "name": "stdout",
     "output_type": "stream",
     "text": [
      " * sqlite:///test.db\n",
      "Done.\n"
     ]
    },
    {
     "data": {
      "text/html": [
       "<table>\n",
       "    <tr>\n",
       "        <th>persion_id</th>\n",
       "        <th>firstname</th>\n",
       "        <th>lastname</th>\n",
       "        <th>age</th>\n",
       "        <th>height</th>\n",
       "        <th>weight</th>\n",
       "        <th>city</th>\n",
       "    </tr>\n",
       "    <tr>\n",
       "        <td>1</td>\n",
       "        <td>kaka</td>\n",
       "        <td>Lin</td>\n",
       "        <td>28</td>\n",
       "        <td>175</td>\n",
       "        <td>68</td>\n",
       "        <td>Taipei</td>\n",
       "    </tr>\n",
       "    <tr>\n",
       "        <td>2</td>\n",
       "        <td>kiwi</td>\n",
       "        <td>Li</td>\n",
       "        <td>30</td>\n",
       "        <td>173</td>\n",
       "        <td>70</td>\n",
       "        <td>Taipei</td>\n",
       "    </tr>\n",
       "    <tr>\n",
       "        <td>3</td>\n",
       "        <td>albert</td>\n",
       "        <td>Lin</td>\n",
       "        <td>28</td>\n",
       "        <td>180</td>\n",
       "        <td>70</td>\n",
       "        <td>Taipei</td>\n",
       "    </tr>\n",
       "</table>"
      ],
      "text/plain": [
       "[(1, 'kaka', 'Lin', 28, 175, 68, 'Taipei'),\n",
       " (2, 'kiwi', 'Li', 30, 173, 70, 'Taipei'),\n",
       " (3, 'albert', 'Lin', 28, 180, 70, 'Taipei')]"
      ]
     },
     "execution_count": 10,
     "metadata": {},
     "output_type": "execute_result"
    }
   ],
   "source": [
    "%%sql\n",
    "\n",
    "SELECT * \n",
    "    FROM persions;"
   ]
  },
  {
   "cell_type": "code",
   "execution_count": 11,
   "metadata": {
    "ExecuteTime": {
     "end_time": "2020-05-04T15:14:44.033318Z",
     "start_time": "2020-05-04T15:14:43.999285Z"
    }
   },
   "outputs": [
    {
     "name": "stdout",
     "output_type": "stream",
     "text": [
      " * sqlite:///test.db\n",
      "1 rows affected.\n"
     ]
    },
    {
     "data": {
      "text/plain": [
       "[]"
      ]
     },
     "execution_count": 11,
     "metadata": {},
     "output_type": "execute_result"
    }
   ],
   "source": [
    "%%sql\n",
    "\n",
    "DELETE FROM persions\n",
    "    WHERE persion_id = 3;"
   ]
  },
  {
   "cell_type": "code",
   "execution_count": 12,
   "metadata": {
    "ExecuteTime": {
     "end_time": "2020-05-04T15:14:44.096423Z",
     "start_time": "2020-05-04T15:14:44.047676Z"
    }
   },
   "outputs": [
    {
     "name": "stdout",
     "output_type": "stream",
     "text": [
      " * sqlite:///test.db\n",
      "Done.\n"
     ]
    },
    {
     "data": {
      "text/html": [
       "<table>\n",
       "    <tr>\n",
       "        <th>persion_id</th>\n",
       "        <th>firstname</th>\n",
       "        <th>lastname</th>\n",
       "        <th>age</th>\n",
       "        <th>height</th>\n",
       "        <th>weight</th>\n",
       "        <th>city</th>\n",
       "    </tr>\n",
       "    <tr>\n",
       "        <td>1</td>\n",
       "        <td>kaka</td>\n",
       "        <td>Lin</td>\n",
       "        <td>28</td>\n",
       "        <td>175</td>\n",
       "        <td>68</td>\n",
       "        <td>Taipei</td>\n",
       "    </tr>\n",
       "    <tr>\n",
       "        <td>2</td>\n",
       "        <td>kiwi</td>\n",
       "        <td>Li</td>\n",
       "        <td>30</td>\n",
       "        <td>173</td>\n",
       "        <td>70</td>\n",
       "        <td>Taipei</td>\n",
       "    </tr>\n",
       "</table>"
      ],
      "text/plain": [
       "[(1, 'kaka', 'Lin', 28, 175, 68, 'Taipei'),\n",
       " (2, 'kiwi', 'Li', 30, 173, 70, 'Taipei')]"
      ]
     },
     "execution_count": 12,
     "metadata": {},
     "output_type": "execute_result"
    }
   ],
   "source": [
    "%%sql\n",
    "\n",
    "SELECT * \n",
    "    FROM persions;"
   ]
  },
  {
   "cell_type": "markdown",
   "metadata": {},
   "source": [
    "## Drop Database\n",
    "\n",
    "If we want to drop DB in SQLite,just delete the file."
   ]
  },
  {
   "cell_type": "code",
   "execution_count": 13,
   "metadata": {
    "ExecuteTime": {
     "end_time": "2020-05-04T15:14:44.415736Z",
     "start_time": "2020-05-04T15:14:44.106255Z"
    }
   },
   "outputs": [
    {
     "name": "stdout",
     "output_type": "stream",
     "text": [
      "total 32\r\n",
      "drwxr-xr-x  4 kakalin  staff    128 May  4 23:14 \u001b[1m\u001b[36m.\u001b[m\u001b[m\r\n",
      "drwxr-xr-x  9 kakalin  staff    288 May  4 23:03 \u001b[1m\u001b[36m..\u001b[m\u001b[m\r\n",
      "drwxr-xr-x  3 kakalin  staff     96 May  4 23:01 \u001b[1m\u001b[36m.ipynb_checkpoints\u001b[m\u001b[m\r\n",
      "-rw-r--r--@ 1 kakalin  staff  15118 May  4 23:13 sqlite-basics.ipynb\r\n"
     ]
    }
   ],
   "source": [
    "!rm -rf test.db\n",
    "!ls -al"
   ]
  }
 ],
 "metadata": {
  "kernelspec": {
   "display_name": "Python 3",
   "language": "python",
   "name": "python3"
  },
  "language_info": {
   "codemirror_mode": {
    "name": "ipython",
    "version": 3
   },
   "file_extension": ".py",
   "mimetype": "text/x-python",
   "name": "python",
   "nbconvert_exporter": "python",
   "pygments_lexer": "ipython3",
   "version": "3.7.7"
  },
  "latex_envs": {
   "LaTeX_envs_menu_present": true,
   "autoclose": false,
   "autocomplete": true,
   "bibliofile": "biblio.bib",
   "cite_by": "apalike",
   "current_citInitial": 1,
   "eqLabelWithNumbers": true,
   "eqNumInitial": 1,
   "hotkeys": {
    "equation": "Ctrl-E",
    "itemize": "Ctrl-I"
   },
   "labels_anchors": false,
   "latex_user_defs": false,
   "report_style_numbering": false,
   "user_envs_cfg": false
  },
  "toc": {
   "base_numbering": 1,
   "nav_menu": {},
   "number_sections": true,
   "sideBar": true,
   "skip_h1_title": false,
   "title_cell": "Table of Contents",
   "title_sidebar": "Contents",
   "toc_cell": false,
   "toc_position": {
    "height": "calc(100% - 180px)",
    "left": "10px",
    "top": "150px",
    "width": "229px"
   },
   "toc_section_display": true,
   "toc_window_display": true
  }
 },
 "nbformat": 4,
 "nbformat_minor": 2
}
