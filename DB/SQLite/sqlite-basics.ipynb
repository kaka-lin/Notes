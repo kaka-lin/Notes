{
 "cells": [
  {
   "cell_type": "markdown",
   "metadata": {},
   "source": [
    "# SQLite - Basics\n",
    "\n",
    "[SQL Tutorial](https://www.w3schools.com/sql/default.asp)"
   ]
  },
  {
   "cell_type": "markdown",
   "metadata": {},
   "source": [
    "## Load ipython-sql\n",
    "\n",
    "`ipython-sql`:\n",
    "\n",
    "    - 是jupyter notebook的extension，用來擴充jupyter對SQL的支援\n",
    "    - 其底層是使用SQLAlchemy"
   ]
  },
  {
   "cell_type": "code",
   "execution_count": 1,
   "metadata": {
    "ExecuteTime": {
     "end_time": "2020-05-04T14:48:20.189433Z",
     "start_time": "2020-05-04T14:48:19.205238Z"
    }
   },
   "outputs": [],
   "source": [
    "%load_ext sql"
   ]
  },
  {
   "cell_type": "markdown",
   "metadata": {},
   "source": [
    "## Create & Link Database"
   ]
  },
  {
   "cell_type": "code",
   "execution_count": 2,
   "metadata": {
    "ExecuteTime": {
     "end_time": "2020-05-04T14:48:20.217499Z",
     "start_time": "2020-05-04T14:48:20.191624Z"
    }
   },
   "outputs": [],
   "source": [
    "%sql sqlite:///test.db"
   ]
  },
  {
   "cell_type": "markdown",
   "metadata": {},
   "source": [
    "## CRUD\n",
    "\n",
    "- C: Create\n",
    "- R: Read\n",
    "- U: Update\n",
    "- D: Delete\n",
    "\n",
    "![](./images/crud.png)\n"
   ]
  },
  {
   "cell_type": "markdown",
   "metadata": {},
   "source": [
    "### Create Table"
   ]
  },
  {
   "cell_type": "code",
   "execution_count": 3,
   "metadata": {
    "ExecuteTime": {
     "end_time": "2020-05-04T14:48:20.258720Z",
     "start_time": "2020-05-04T14:48:20.225761Z"
    }
   },
   "outputs": [
    {
     "name": "stdout",
     "output_type": "stream",
     "text": [
      " * sqlite:///test.db\n",
      "Done.\n"
     ]
    },
    {
     "data": {
      "text/plain": [
       "[]"
      ]
     },
     "execution_count": 3,
     "metadata": {},
     "output_type": "execute_result"
    }
   ],
   "source": [
    "%%sql\n",
    "CREATE TABLE persions(\n",
    "    persion_id integer primary key autoincrement,\n",
    "    firstname varchar(255),\n",
    "    lastname varchar(255),\n",
    "    age int,\n",
    "    height int,\n",
    "    weight int,\n",
    "    city varchar(255)\n",
    ");"
   ]
  },
  {
   "cell_type": "markdown",
   "metadata": {},
   "source": [
    "### Create Data"
   ]
  },
  {
   "cell_type": "code",
   "execution_count": 4,
   "metadata": {
    "ExecuteTime": {
     "end_time": "2020-05-04T14:48:20.305630Z",
     "start_time": "2020-05-04T14:48:20.266889Z"
    }
   },
   "outputs": [
    {
     "name": "stdout",
     "output_type": "stream",
     "text": [
      " * sqlite:///test.db\n",
      "1 rows affected.\n",
      "1 rows affected.\n"
     ]
    },
    {
     "data": {
      "text/plain": [
       "[]"
      ]
     },
     "execution_count": 4,
     "metadata": {},
     "output_type": "execute_result"
    }
   ],
   "source": [
    "%%sql\n",
    "INSERT INTO persions\n",
    "    VALUES(1, 'kaka','Lin', 28, 175, 70, 'Taipei');\n",
    "INSERT INTO persions (firstname, lastname, age, height, weight, city) \n",
    "    VALUES('kiwi','Li', 30, 173, 70, 'Taipei');"
   ]
  },
  {
   "cell_type": "markdown",
   "metadata": {},
   "source": [
    "### Read Data"
   ]
  },
  {
   "cell_type": "code",
   "execution_count": 5,
   "metadata": {
    "ExecuteTime": {
     "end_time": "2020-05-04T14:48:20.385842Z",
     "start_time": "2020-05-04T14:48:20.333368Z"
    },
    "scrolled": true
   },
   "outputs": [
    {
     "name": "stdout",
     "output_type": "stream",
     "text": [
      " * sqlite:///test.db\n",
      "Done.\n"
     ]
    },
    {
     "data": {
      "text/html": [
       "<table>\n",
       "    <tr>\n",
       "        <th>persion_id</th>\n",
       "        <th>firstname</th>\n",
       "        <th>lastname</th>\n",
       "        <th>age</th>\n",
       "        <th>height</th>\n",
       "        <th>weight</th>\n",
       "        <th>city</th>\n",
       "    </tr>\n",
       "    <tr>\n",
       "        <td>1</td>\n",
       "        <td>kaka</td>\n",
       "        <td>Lin</td>\n",
       "        <td>28</td>\n",
       "        <td>175</td>\n",
       "        <td>70</td>\n",
       "        <td>Taipei</td>\n",
       "    </tr>\n",
       "    <tr>\n",
       "        <td>2</td>\n",
       "        <td>kiwi</td>\n",
       "        <td>Li</td>\n",
       "        <td>30</td>\n",
       "        <td>173</td>\n",
       "        <td>70</td>\n",
       "        <td>Taipei</td>\n",
       "    </tr>\n",
       "</table>"
      ],
      "text/plain": [
       "[(1, 'kaka', 'Lin', 28, 175, 70, 'Taipei'),\n",
       " (2, 'kiwi', 'Li', 30, 173, 70, 'Taipei')]"
      ]
     },
     "execution_count": 5,
     "metadata": {},
     "output_type": "execute_result"
    }
   ],
   "source": [
    "%%sql\n",
    "\n",
    "SELECT * \n",
    "    FROM persions; "
   ]
  },
  {
   "cell_type": "code",
   "execution_count": 6,
   "metadata": {
    "ExecuteTime": {
     "end_time": "2020-05-04T14:48:20.430156Z",
     "start_time": "2020-05-04T14:48:20.391803Z"
    }
   },
   "outputs": [
    {
     "ename": "SyntaxError",
     "evalue": "invalid syntax (<ipython-input-6-415388e11715>, line 1)",
     "output_type": "error",
     "traceback": [
      "\u001b[0;36m  File \u001b[0;32m\"<ipython-input-6-415388e11715>\"\u001b[0;36m, line \u001b[0;32m1\u001b[0m\n\u001b[0;31m    SELECT 可以加減乘除 AS 命名\u001b[0m\n\u001b[0m                ^\u001b[0m\n\u001b[0;31mSyntaxError\u001b[0m\u001b[0;31m:\u001b[0m invalid syntax\n"
     ]
    }
   ],
   "source": [
    "SELECT 可以加減乘除 AS 命名"
   ]
  },
  {
   "cell_type": "markdown",
   "metadata": {},
   "source": [
    "### Update Data"
   ]
  },
  {
   "cell_type": "code",
   "execution_count": null,
   "metadata": {
    "ExecuteTime": {
     "end_time": "2020-05-04T14:48:20.446145Z",
     "start_time": "2020-05-04T14:48:19.387Z"
    }
   },
   "outputs": [],
   "source": [
    "%%sql\n",
    "\n",
    "UPDATE persions\n",
    "    SET weight = 68\n",
    "    -- or WHERE persion_id = 1\n",
    "    WHERE firstname = 'kaka';"
   ]
  },
  {
   "cell_type": "code",
   "execution_count": null,
   "metadata": {
    "ExecuteTime": {
     "end_time": "2020-05-04T14:48:20.447849Z",
     "start_time": "2020-05-04T14:48:19.393Z"
    }
   },
   "outputs": [],
   "source": [
    "%%sql\n",
    "\n",
    "SELECT * \n",
    "    FROM persions;"
   ]
  },
  {
   "cell_type": "markdown",
   "metadata": {},
   "source": [
    "### Delete Data\n",
    "\n",
    "Before we delete data,\n",
    "we first add the data that we want to delete."
   ]
  },
  {
   "cell_type": "code",
   "execution_count": null,
   "metadata": {
    "ExecuteTime": {
     "end_time": "2020-05-04T14:48:20.457723Z",
     "start_time": "2020-05-04T14:48:19.422Z"
    }
   },
   "outputs": [],
   "source": [
    "%%sql\n",
    "\n",
    "INSERT INTO persions (firstname, lastname, age, height, weight, city) \n",
    "    VALUES('albert','Lin', 28, 180, 70, 'Taipei');"
   ]
  },
  {
   "cell_type": "code",
   "execution_count": null,
   "metadata": {
    "ExecuteTime": {
     "end_time": "2020-05-04T14:48:20.460148Z",
     "start_time": "2020-05-04T14:48:19.428Z"
    }
   },
   "outputs": [],
   "source": [
    "%%sql\n",
    "\n",
    "SELECT * \n",
    "    FROM persions;"
   ]
  },
  {
   "cell_type": "code",
   "execution_count": null,
   "metadata": {
    "ExecuteTime": {
     "end_time": "2020-05-04T14:48:20.462082Z",
     "start_time": "2020-05-04T14:48:19.433Z"
    }
   },
   "outputs": [],
   "source": [
    "%%sql\n",
    "\n",
    "DELETE FROM persions\n",
    "    WHERE persion_id = 3;"
   ]
  },
  {
   "cell_type": "code",
   "execution_count": null,
   "metadata": {
    "ExecuteTime": {
     "end_time": "2020-05-04T14:48:20.479298Z",
     "start_time": "2020-05-04T14:48:19.439Z"
    }
   },
   "outputs": [],
   "source": [
    "%%sql\n",
    "\n",
    "SELECT * \n",
    "    FROM persions;"
   ]
  },
  {
   "cell_type": "code",
   "execution_count": null,
   "metadata": {},
   "outputs": [],
   "source": []
  }
 ],
 "metadata": {
  "kernelspec": {
   "display_name": "Python 3",
   "language": "python",
   "name": "python3"
  },
  "language_info": {
   "codemirror_mode": {
    "name": "ipython",
    "version": 3
   },
   "file_extension": ".py",
   "mimetype": "text/x-python",
   "name": "python",
   "nbconvert_exporter": "python",
   "pygments_lexer": "ipython3",
   "version": "3.7.7"
  },
  "latex_envs": {
   "LaTeX_envs_menu_present": true,
   "autoclose": false,
   "autocomplete": true,
   "bibliofile": "biblio.bib",
   "cite_by": "apalike",
   "current_citInitial": 1,
   "eqLabelWithNumbers": true,
   "eqNumInitial": 1,
   "hotkeys": {
    "equation": "Ctrl-E",
    "itemize": "Ctrl-I"
   },
   "labels_anchors": false,
   "latex_user_defs": false,
   "report_style_numbering": false,
   "user_envs_cfg": false
  },
  "toc": {
   "base_numbering": 1,
   "nav_menu": {},
   "number_sections": true,
   "sideBar": true,
   "skip_h1_title": false,
   "title_cell": "Table of Contents",
   "title_sidebar": "Contents",
   "toc_cell": false,
   "toc_position": {
    "height": "calc(100% - 180px)",
    "left": "10px",
    "top": "150px",
    "width": "165px"
   },
   "toc_section_display": true,
   "toc_window_display": true
  }
 },
 "nbformat": 4,
 "nbformat_minor": 2
}
