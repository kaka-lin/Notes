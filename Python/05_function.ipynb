{
 "cells": [
  {
   "cell_type": "markdown",
   "metadata": {},
   "source": [
    "# Function 函式\n",
    "\n",
    "```python\n",
    "def 函式名稱(參數):\n",
    "    程式碼\n",
    "```"
   ]
  },
  {
   "cell_type": "code",
   "execution_count": 1,
   "metadata": {
    "ExecuteTime": {
     "end_time": "2020-06-04T02:23:10.091943Z",
     "start_time": "2020-06-04T02:23:10.086192Z"
    }
   },
   "outputs": [],
   "source": [
    "def printf(text):\n",
    "    print(\"[Out]: {}\".format(text))"
   ]
  },
  {
   "cell_type": "code",
   "execution_count": 2,
   "metadata": {
    "ExecuteTime": {
     "end_time": "2020-06-04T02:23:10.109078Z",
     "start_time": "2020-06-04T02:23:10.097902Z"
    }
   },
   "outputs": [
    {
     "name": "stdout",
     "output_type": "stream",
     "text": [
      "[Out]: Hello world!\n"
     ]
    }
   ],
   "source": [
    "printf('Hello world!')"
   ]
  },
  {
   "cell_type": "markdown",
   "metadata": {},
   "source": [
    "## 閏年\n",
    "\n",
    "根據維基百科，分辨平閏年的方法為：\n",
    "1. 公元年份除以4不可整除，為平年。\n",
    "2. 公元年份除以4可整除但除以100不可整除，為閏年。\n",
    "3. 公元年份除以100可整除但除以400不可整除，為平年。\n",
    "4. 公元年份除以400可以整除為閏年"
   ]
  },
  {
   "cell_type": "code",
   "execution_count": 3,
   "metadata": {
    "ExecuteTime": {
     "end_time": "2020-06-04T02:23:10.131585Z",
     "start_time": "2020-06-04T02:23:10.123860Z"
    }
   },
   "outputs": [],
   "source": [
    "def check_leap_year(year):\n",
    "    if (year % 400 == 0) or (year % 100 != 0 and year % 4 == 0):\n",
    "        print(\"閏年\")\n",
    "        return 1\n",
    "    else:\n",
    "        print(\"平年\")\n",
    "    \n",
    "    return 0"
   ]
  },
  {
   "cell_type": "code",
   "execution_count": 4,
   "metadata": {
    "ExecuteTime": {
     "end_time": "2020-06-04T02:23:13.490453Z",
     "start_time": "2020-06-04T02:23:10.137463Z"
    }
   },
   "outputs": [
    {
     "name": "stdout",
     "output_type": "stream",
     "text": [
      "1344\n",
      "平年\n",
      "0\n"
     ]
    }
   ],
   "source": [
    "year = int(input())\n",
    "print(check_leap_year(1377))"
   ]
  }
 ],
 "metadata": {
  "kernelspec": {
   "display_name": "Python 3",
   "language": "python",
   "name": "python3"
  },
  "language_info": {
   "codemirror_mode": {
    "name": "ipython",
    "version": 3
   },
   "file_extension": ".py",
   "mimetype": "text/x-python",
   "name": "python",
   "nbconvert_exporter": "python",
   "pygments_lexer": "ipython3",
   "version": "3.7.7"
  },
  "latex_envs": {
   "LaTeX_envs_menu_present": true,
   "autoclose": false,
   "autocomplete": true,
   "bibliofile": "biblio.bib",
   "cite_by": "apalike",
   "current_citInitial": 1,
   "eqLabelWithNumbers": true,
   "eqNumInitial": 1,
   "hotkeys": {
    "equation": "Ctrl-E",
    "itemize": "Ctrl-I"
   },
   "labels_anchors": false,
   "latex_user_defs": false,
   "report_style_numbering": false,
   "user_envs_cfg": false
  },
  "toc": {
   "base_numbering": 1,
   "nav_menu": {},
   "number_sections": true,
   "sideBar": true,
   "skip_h1_title": false,
   "title_cell": "Table of Contents",
   "title_sidebar": "Contents",
   "toc_cell": false,
   "toc_position": {},
   "toc_section_display": true,
   "toc_window_display": false
  }
 },
 "nbformat": 4,
 "nbformat_minor": 4
}
