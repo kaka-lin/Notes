{
 "cells": [
  {
   "cell_type": "markdown",
   "metadata": {},
   "source": [
    "# Generator(生成器)\n",
    "\n",
    "`Generator` functions allow you to declare a function that behaves like an `iterator`.\n",
    "\n",
    "在開始介紹Generator前，先讓我們來看看Iterator。"
   ]
  },
  {
   "cell_type": "markdown",
   "metadata": {},
   "source": [
    "## Iterator vs Iterable\n",
    "\n",
    "- `Iteration`: \n",
    "\n",
    "    當我們用一個循環(ex: for loop)遍歷一個容器(ex: list)裡面的所有元素時，就是迭代。\n",
    "\n",
    "    Example:\n",
    "    \n",
    "    ```python\n",
    "    nums = [1,2,3,4]\n",
    "    for num in nums:\n",
    "        print(num)\n",
    "    ```\n",
    "    \n",
    "    \n",
    "- `Iterable`: An iterable is an object that you can get an iterator from.\n",
    "\n",
    "    可執行Iteration的物件都稱為Iterable，就是可以被`for loop`遍歷的物件。\n",
    "    \n",
    "    1. 在Python裡，只要在class裡實現了`__iter__`方法的物件都是`Iterable`物件。\n",
    "    \n",
    "        - `__iter__`: return an iterator object (需透過`iter()`變成iterator物件)\n",
    "    \n",
    "    2. 如果只實現了`__getitem__`方法，可以夠過`iter()`變成iterator物件，但不是Iterable物件。\n",
    "    \n",
    "        - `__getitem__`: can take `sequential` indexes starting from zero\n",
    "        \n",
    "\n",
    "- `Iterator`: \n",
    "\n",
    "    根據[Iterator Protocol](https://docs.python.org/3.8/c-api/iter.html)，\n",
    "    只要是實現了`__iter__`和`__next__`方法，的物件皆為`Iterator`。其中:\n",
    "    \n",
    "    - `__iter__`: 返回物件本身\n",
    "    \n",
    "    - `__next__`: 返回容器的下一個值，在沒有後續元素時拋出StopIteration Error\n",
    "   \n",
    "\n",
    "#### Note:\n",
    "\n",
    "```\n",
    "Every iterator is also an iterable, but not every iterable is an iterator.\n",
    "```\n",
    "\n",
    "list, dict, tuple, set, str都是Iterable，不是Iterator"
   ]
  },
  {
   "cell_type": "markdown",
   "metadata": {},
   "source": [
    "### 檢查物件是不是Iterator或Iterable\n",
    "\n",
    "使用`collections`模組中的`Iterable`,`Iterator`去檢查"
   ]
  },
  {
   "cell_type": "code",
   "execution_count": 1,
   "metadata": {
    "ExecuteTime": {
     "end_time": "2020-07-28T07:54:35.073047Z",
     "start_time": "2020-07-28T07:54:35.056677Z"
    }
   },
   "outputs": [
    {
     "name": "stdout",
     "output_type": "stream",
     "text": [
      "True False\n",
      "True False\n",
      "True False\n",
      "True False\n",
      "True False\n"
     ]
    },
    {
     "name": "stderr",
     "output_type": "stream",
     "text": [
      "/usr/local/lib/python3.7/site-packages/ipykernel_launcher.py:1: DeprecationWarning: Using or importing the ABCs from 'collections' instead of from 'collections.abc' is deprecated since Python 3.3,and in 3.9 it will stop working\n",
      "  \"\"\"Entry point for launching an IPython kernel.\n"
     ]
    }
   ],
   "source": [
    "from collections import Iterable, Iterator\n",
    "\n",
    "# list, dict, tuple, set, str都是Iterable，不是Iterator\n",
    "print(isinstance([], Iterable), isinstance([], Iterator)) # True False\n",
    "print(isinstance({}, Iterable), isinstance({}, Iterator)) # True False\n",
    "print(isinstance((), Iterable), isinstance((), Iterator)) # True False\n",
    "print(isinstance(set(), Iterable), isinstance(set(), Iterator)) # True False\n",
    "print(isinstance('', Iterable), isinstance('', Iterator)) # True False"
   ]
  },
  {
   "cell_type": "markdown",
   "metadata": {},
   "source": [
    "### Iterable to Iterator\n",
    "\n",
    "Created an iterator from an iterable by using the function `iter()`."
   ]
  },
  {
   "cell_type": "code",
   "execution_count": 2,
   "metadata": {
    "ExecuteTime": {
     "end_time": "2020-07-28T07:54:35.110867Z",
     "start_time": "2020-07-28T07:54:35.098447Z"
    }
   },
   "outputs": [
    {
     "name": "stdout",
     "output_type": "stream",
     "text": [
      "True False\n",
      "True True\n",
      "1\n",
      "2\n",
      "3\n"
     ]
    }
   ],
   "source": [
    "x = [1, 2, 3]\n",
    "print(isinstance(x, Iterable), isinstance(x, Iterator)) # True False\n",
    "\n",
    "# iter()\n",
    "iterator_x = iter(x)\n",
    "print(isinstance(iterator_x, Iterable), \n",
    "      isinstance(iterator_x, Iterator)) # True True\n",
    "\n",
    "# use for loop or next()\n",
    "'''\n",
    "for i in iterator_x:\n",
    "    print(i)\n",
    "'''\n",
    "\n",
    "print(next(iterator_x))\n",
    "print(next(iterator_x))\n",
    "print(next(iterator_x))"
   ]
  },
  {
   "cell_type": "markdown",
   "metadata": {},
   "source": [
    "### For loop and Iterable object\n",
    "\n",
    "當一個Iterable物件要能夠在for loop中，必須call `iter()`，\n",
    "使其轉成Iterator物件，如下圖所示:\n",
    "\n",
    "![](images/iterable_iterator.png)\n",
    "圖出處: [Python進階技巧 (6)](https://medium.com/citycoddee/python%E9%80%B2%E9%9A%8E%E6%8A%80%E5%B7%A7-6-%E8%BF%AD%E4%BB%A3%E9%82%A3%E4%BB%B6%E5%B0%8F%E4%BA%8B-%E6%B7%B1%E5%85%A5%E4%BA%86%E8%A7%A3-iteration-iterable-iterator-iter-getitem-next-fac5b4542cf4)"
   ]
  },
  {
   "cell_type": "markdown",
   "metadata": {},
   "source": [
    "### Create an Iterable Object\n",
    "\n",
    "有兩種方法:\n",
    "\n",
    "1. class內實現`__iter__`方法\n",
    "\n",
    "```python\n",
    "object.__iter__(self)\n",
    "```\n",
    "\n",
    "2. class內實現`__getitem__`方法 \n",
    "\n",
    "```python\n",
    "object.__getitem__(self,key)\n",
    "```\n",
    "\n",
    "- For sequence type, the accepted keys should be integers and slice objects."
   ]
  },
  {
   "cell_type": "markdown",
   "metadata": {},
   "source": [
    "#### Method 1:  Using the `__iter__` approach"
   ]
  },
  {
   "cell_type": "code",
   "execution_count": 3,
   "metadata": {
    "ExecuteTime": {
     "end_time": "2020-07-28T07:54:35.216255Z",
     "start_time": "2020-07-28T07:54:35.198205Z"
    }
   },
   "outputs": [],
   "source": [
    "class MyIterator:\n",
    "    def __init__(self, max_num):\n",
    "        self.max_num = max_num\n",
    "    \n",
    "    def __iter__(self):\n",
    "        \"\"\"return an iterator object\"\"\"\n",
    "        return iter(self.max_num)"
   ]
  },
  {
   "cell_type": "code",
   "execution_count": 4,
   "metadata": {
    "ExecuteTime": {
     "end_time": "2020-07-28T07:54:35.401852Z",
     "start_time": "2020-07-28T07:54:35.222217Z"
    },
    "scrolled": true
   },
   "outputs": [
    {
     "ename": "TypeError",
     "evalue": "'int' object is not iterable",
     "output_type": "error",
     "traceback": [
      "\u001b[0;31m---------------------------------------------------------------------------\u001b[0m",
      "\u001b[0;31mTypeError\u001b[0m                                 Traceback (most recent call last)",
      "\u001b[0;32m<ipython-input-4-3e7d0d770d4d>\u001b[0m in \u001b[0;36m<module>\u001b[0;34m\u001b[0m\n\u001b[1;32m      1\u001b[0m \u001b[0mitr\u001b[0m \u001b[0;34m=\u001b[0m \u001b[0mMyIterator\u001b[0m\u001b[0;34m(\u001b[0m\u001b[0;36m10\u001b[0m\u001b[0;34m)\u001b[0m\u001b[0;34m\u001b[0m\u001b[0;34m\u001b[0m\u001b[0m\n\u001b[0;32m----> 2\u001b[0;31m \u001b[0mprint\u001b[0m\u001b[0;34m(\u001b[0m\u001b[0miter\u001b[0m\u001b[0;34m(\u001b[0m\u001b[0mitr\u001b[0m\u001b[0;34m)\u001b[0m\u001b[0;34m)\u001b[0m\u001b[0;34m\u001b[0m\u001b[0;34m\u001b[0m\u001b[0m\n\u001b[0m",
      "\u001b[0;32m<ipython-input-3-2250d3b3d1b2>\u001b[0m in \u001b[0;36m__iter__\u001b[0;34m(self)\u001b[0m\n\u001b[1;32m      5\u001b[0m     \u001b[0;32mdef\u001b[0m \u001b[0m__iter__\u001b[0m\u001b[0;34m(\u001b[0m\u001b[0mself\u001b[0m\u001b[0;34m)\u001b[0m\u001b[0;34m:\u001b[0m\u001b[0;34m\u001b[0m\u001b[0;34m\u001b[0m\u001b[0m\n\u001b[1;32m      6\u001b[0m         \u001b[0;34m\"\"\"return an iterator object\"\"\"\u001b[0m\u001b[0;34m\u001b[0m\u001b[0;34m\u001b[0m\u001b[0m\n\u001b[0;32m----> 7\u001b[0;31m         \u001b[0;32mreturn\u001b[0m \u001b[0miter\u001b[0m\u001b[0;34m(\u001b[0m\u001b[0mself\u001b[0m\u001b[0;34m.\u001b[0m\u001b[0mmax_num\u001b[0m\u001b[0;34m)\u001b[0m\u001b[0;34m\u001b[0m\u001b[0;34m\u001b[0m\u001b[0m\n\u001b[0m",
      "\u001b[0;31mTypeError\u001b[0m: 'int' object is not iterable"
     ]
    }
   ],
   "source": [
    "itr = MyIterator(10)\n",
    "print(iter(itr))"
   ]
  },
  {
   "cell_type": "markdown",
   "metadata": {},
   "source": [
    "此時出現了錯誤，意思是MyIterator不能將\"non-iterator type\"轉成iter\n",
    "這是因為我們class內成員(self.max_num)他是int type\n",
    "不是iterable物件，所以我們只要將class成員改成iterable物件就可以了，\n",
    "如下所示:"
   ]
  },
  {
   "cell_type": "code",
   "execution_count": null,
   "metadata": {
    "ExecuteTime": {
     "end_time": "2020-07-28T07:54:35.406521Z",
     "start_time": "2020-07-28T07:54:35.243Z"
    }
   },
   "outputs": [],
   "source": [
    "class MyIterator:\n",
    "    def __init__(self, num_list):\n",
    "        self.num_list = num_list\n",
    "    \n",
    "    def __iter__(self):\n",
    "        \"\"\"return an iterator object\"\"\"\n",
    "        return iter(self.num_list)"
   ]
  },
  {
   "cell_type": "code",
   "execution_count": null,
   "metadata": {
    "ExecuteTime": {
     "end_time": "2020-07-28T07:54:35.410244Z",
     "start_time": "2020-07-28T07:54:35.246Z"
    }
   },
   "outputs": [],
   "source": [
    "_list = [1,2,3,4,5,6,7,8,9,10]\n",
    "itr = MyIterator(_list)\n",
    "\n",
    "print(\"Is iterable object? {} \\nIs iterator object? {}\\n\".format(\n",
    "    isinstance(itr, Iterable),\n",
    "    isinstance(itr, Iterator))) # True False\n",
    "\n",
    "for i in itr:\n",
    "    print(i, end=', ')"
   ]
  },
  {
   "cell_type": "markdown",
   "metadata": {},
   "source": [
    "#### Method 1:  Using the `__getitem__` approach"
   ]
  },
  {
   "cell_type": "code",
   "execution_count": null,
   "metadata": {
    "ExecuteTime": {
     "end_time": "2020-07-28T07:54:35.414190Z",
     "start_time": "2020-07-28T07:54:35.283Z"
    }
   },
   "outputs": [],
   "source": [
    "class MyIterator:\n",
    "    def __init__(self, num_list):\n",
    "        self.num_list = num_list\n",
    "    \n",
    "    def __getitem__(self, key):\n",
    "        if key < len(self.num_list):\n",
    "            return self.num_list[key]\n",
    "        else:\n",
    "            raise IndexError"
   ]
  },
  {
   "cell_type": "code",
   "execution_count": null,
   "metadata": {
    "ExecuteTime": {
     "end_time": "2020-07-28T07:54:35.418753Z",
     "start_time": "2020-07-28T07:54:35.287Z"
    }
   },
   "outputs": [],
   "source": [
    "_list = [1,2,3,4,5,6,7,8,9,10]\n",
    "itr = MyIterator(_list)\n",
    "\n",
    "print(\"Is iterable object? {} \\nIs iterator object? {}\\n\".format(\n",
    "    isinstance(itr, Iterable),\n",
    "    isinstance(itr, Iterator))) # False False\n",
    "\n",
    "for i in itr:\n",
    "    print(i, end=', ')"
   ]
  },
  {
   "cell_type": "markdown",
   "metadata": {},
   "source": [
    "### Create an Iterator Object\n",
    "\n",
    "物件內實現`__iter__`和`__next__`方法"
   ]
  },
  {
   "cell_type": "code",
   "execution_count": null,
   "metadata": {
    "ExecuteTime": {
     "end_time": "2020-07-28T07:54:35.427977Z",
     "start_time": "2020-07-28T07:54:35.327Z"
    }
   },
   "outputs": [],
   "source": [
    "class MyIterator:\n",
    "    def __init__(self, max_num=20):\n",
    "        self.max_num = max_num\n",
    "    \n",
    "    def __iter__(self):\n",
    "        # Initialize: every time the iteration will start at 0\n",
    "        self.index = 0\n",
    "        return self\n",
    "\n",
    "    def __next__(self):\n",
    "        self.index += 1\n",
    "        if self.index <= self.max_num:\n",
    "            return self.index\n",
    "        else:\n",
    "            raise StopIteration"
   ]
  },
  {
   "cell_type": "code",
   "execution_count": null,
   "metadata": {
    "ExecuteTime": {
     "end_time": "2020-07-28T07:54:35.431075Z",
     "start_time": "2020-07-28T07:54:35.331Z"
    }
   },
   "outputs": [],
   "source": [
    "my_itr = MyIterator()\n",
    "print(\"Is iterable object? {} \\nIs iterator object? {}\\n\".format(\n",
    "    isinstance(itr, Iterable),\n",
    "    isinstance(itr, Iterator))) # True True\n",
    "\n",
    "for i in my_itr:\n",
    "    print(i, end=', ')"
   ]
  },
  {
   "cell_type": "markdown",
   "metadata": {},
   "source": [
    "### Exercise: Fibonacci Iterator\n",
    "\n",
    "- [Fibonacci number](https://en.wikipedia.org/wiki/Fibonacci_number)\n",
    "\n",
    "```\n",
    "0, 1, 1, 2, 3, 5, 8, 13, 21, 34, 55, 89, 144, ...\n",
    "```"
   ]
  },
  {
   "cell_type": "code",
   "execution_count": null,
   "metadata": {
    "ExecuteTime": {
     "end_time": "2020-07-28T07:54:35.434577Z",
     "start_time": "2020-07-28T07:54:35.366Z"
    }
   },
   "outputs": [],
   "source": [
    "class FibonacciIterator:\n",
    "    def __init__(self, n=10):\n",
    "        self.n = n\n",
    "    \n",
    "    def __iter__(self):\n",
    "        self.a = 0\n",
    "        self.b = 1\n",
    "        self.start = True\n",
    "        self.count = self.n\n",
    "        return self\n",
    "    \n",
    "    def __next__(self):\n",
    "        if self.start:\n",
    "            self.start = False\n",
    "            return self.a\n",
    "        elif self.count:\n",
    "            self.count -= 1\n",
    "            self.a, self.b = self.b, self.a + self.b\n",
    "            return self.a\n",
    "        else:\n",
    "            raise StopIteration    "
   ]
  },
  {
   "cell_type": "code",
   "execution_count": null,
   "metadata": {
    "ExecuteTime": {
     "end_time": "2020-07-28T07:54:35.438389Z",
     "start_time": "2020-07-28T07:54:35.371Z"
    }
   },
   "outputs": [],
   "source": [
    "fib = FibonacciIterator()\n",
    "\n",
    "for i in fib:\n",
    "    print(i, end=' ')"
   ]
  },
  {
   "cell_type": "markdown",
   "metadata": {},
   "source": [
    "## Generator\n",
    "\n",
    "Generator使用方法跟Iterator一樣，每次迭代時會返回一個值，直到結束為止。\n",
    "但相對Iterator，`Generator更優雅更方便且功能更強大`，算是一種特別的Iterator。\n",
    "\n",
    "建立Generator有兩種方法:\n",
    "\n",
    "- Function內包含至少一個以上的`yield`\n",
    "    \n",
    "    返回一個Generator object，需使用`next()`或是`for loop`取值\n",
    "    \n",
    "\n",
    "- 使用`Generator Expression`(生成器表達式)\n",
    "\n",
    "    只要把`列表生成式的[]`改成`()`"
   ]
  },
  {
   "cell_type": "markdown",
   "metadata": {},
   "source": [
    "### Create a Generator"
   ]
  },
  {
   "cell_type": "markdown",
   "metadata": {},
   "source": [
    "#### 1. 基於yield的生成器\n",
    "\n",
    "改寫上面的FibonacciIterator"
   ]
  },
  {
   "cell_type": "code",
   "execution_count": 5,
   "metadata": {
    "ExecuteTime": {
     "end_time": "2020-07-28T07:54:35.569318Z",
     "start_time": "2020-07-28T07:54:35.549374Z"
    }
   },
   "outputs": [
    {
     "data": {
      "text/plain": [
       "<generator object fibonacci at 0x1096805d0>"
      ]
     },
     "execution_count": 5,
     "metadata": {},
     "output_type": "execute_result"
    }
   ],
   "source": [
    "def fibonacci(n=10):\n",
    "    index, a, b = 0, 0, 1\n",
    "    while index <= n:\n",
    "        yield a\n",
    "        a, b = b, a + b\n",
    "        index += 1\n",
    "\n",
    "fib = fibonacci()\n",
    "fib"
   ]
  },
  {
   "cell_type": "code",
   "execution_count": 6,
   "metadata": {
    "ExecuteTime": {
     "end_time": "2020-07-28T07:54:35.581493Z",
     "start_time": "2020-07-28T07:54:35.573517Z"
    }
   },
   "outputs": [
    {
     "name": "stdout",
     "output_type": "stream",
     "text": [
      "0 1 1 2 3 5 8 13 21 34 55 "
     ]
    }
   ],
   "source": [
    "for x in fib:\n",
    "    print(x, end=' ')"
   ]
  },
  {
   "cell_type": "markdown",
   "metadata": {},
   "source": [
    "#### Generator Expression"
   ]
  },
  {
   "cell_type": "code",
   "execution_count": 7,
   "metadata": {
    "ExecuteTime": {
     "end_time": "2020-07-28T07:54:35.602604Z",
     "start_time": "2020-07-28T07:54:35.585947Z"
    }
   },
   "outputs": [
    {
     "name": "stdout",
     "output_type": "stream",
     "text": [
      "[0, 1, 4, 9, 16, 25, 36, 49, 64, 81]\n"
     ]
    },
    {
     "data": {
      "text/plain": [
       "<generator object <genexpr> at 0x1097237d0>"
      ]
     },
     "execution_count": 7,
     "metadata": {},
     "output_type": "execute_result"
    }
   ],
   "source": [
    "# List Comprehensions\n",
    "my_list = [x * x for x in range(10)]\n",
    "print(my_list)\n",
    "\n",
    "my_generator = (x * x for x in range(10))\n",
    "my_generator"
   ]
  },
  {
   "cell_type": "code",
   "execution_count": 8,
   "metadata": {
    "ExecuteTime": {
     "end_time": "2020-07-28T07:54:35.617191Z",
     "start_time": "2020-07-28T07:54:35.607441Z"
    }
   },
   "outputs": [
    {
     "name": "stdout",
     "output_type": "stream",
     "text": [
      "0 1 4 9 16 25 36 49 64 81 "
     ]
    }
   ],
   "source": [
    "for x in my_generator:\n",
    "    print(x, end=' ')"
   ]
  },
  {
   "cell_type": "markdown",
   "metadata": {
    "ExecuteTime": {
     "end_time": "2020-07-28T07:13:49.162604Z",
     "start_time": "2020-07-28T07:13:49.082097Z"
    }
   },
   "source": [
    "### Generator vs Iterator\n",
    "\n",
    "In [PEP 255](https://www.python.org/dev/peps/pep-0255/), generator funtions are a special kind of function that return a [lazey iterator](https://en.wikipedia.org/wiki/Lazy_evaluation). These are objects that you can loop over like a list. However, unlike list, `lzay iterators do not store their contents in memory`. \n",
    "\n",
    "- 不需要定義`__iter__`跟`__next__`，程式碼可讀性提高。\n",
    "- 節省記憶體空間。因為Generator實現了lazy evaluation，當真的需要某個值的時候才真的去計算。\n",
    "    \n",
    "    ```\n",
    "    當我們需要讀取某個資料，但資料很大且一開始我們僅僅需要訪問前面幾個元素時，\n",
    "    如果這時我們建立一個list去存取它，不僅佔空間，且後面大多數元素佔的空間都白費了，\n",
    "    這時可以建立一個Generator，然後再迴圈的過程中不斷的推算出後面的元素，\n",
    "    這樣就可以節省大量空間。\n",
    "    \n",
    "    >>> 一邊迴圈/迭代一邊計算取值 -> Generator\n",
    "    ```\n",
    "- 調用方可以透過`send()`傳值進入Generator內。"
   ]
  },
  {
   "cell_type": "markdown",
   "metadata": {},
   "source": [
    "#### Example: `send()`"
   ]
  },
  {
   "cell_type": "code",
   "execution_count": 9,
   "metadata": {
    "ExecuteTime": {
     "end_time": "2020-07-28T07:54:35.634049Z",
     "start_time": "2020-07-28T07:54:35.624317Z"
    }
   },
   "outputs": [],
   "source": [
    "def gen(x, max=100):\n",
    "    count = x\n",
    "    while count<max:\n",
    "        val = (yield count)\n",
    "        if val is not None:\n",
    "            count = val\n",
    "        else:\n",
    "            count += 1"
   ]
  },
  {
   "cell_type": "code",
   "execution_count": 10,
   "metadata": {
    "ExecuteTime": {
     "end_time": "2020-07-28T07:54:35.658943Z",
     "start_time": "2020-07-28T07:54:35.643138Z"
    },
    "scrolled": true
   },
   "outputs": [
    {
     "name": "stdout",
     "output_type": "stream",
     "text": [
      "5\n",
      "6\n",
      "7\n",
      "===============\n",
      "20\n",
      "21 22 23 24 25 26 27 28 29 30 31 32 33 34 35 36 37 38 39 40 41 42 43 44 45 46 47 48 49 50 51 52 53 54 55 56 57 58 59 60 61 62 63 64 65 66 67 68 69 70 71 72 73 74 75 76 77 78 79 80 81 82 83 84 85 86 87 88 89 90 91 92 93 94 95 96 97 98 99 "
     ]
    }
   ],
   "source": [
    "f = gen(5)\n",
    "\n",
    "print(next(f))\n",
    "print(next(f))\n",
    "print(next(f))\n",
    "print(\"=\" * 15)\n",
    "print(f.send(20))\n",
    "for i in f:\n",
    "    print(i, end=' ')"
   ]
  },
  {
   "cell_type": "markdown",
   "metadata": {},
   "source": [
    "## Reference\n",
    "\n",
    "1. [Python進階技巧 (6)](https://medium.com/citycoddee/python%E9%80%B2%E9%9A%8E%E6%8A%80%E5%B7%A7-6-%E8%BF%AD%E4%BB%A3%E9%82%A3%E4%BB%B6%E5%B0%8F%E4%BA%8B-%E6%B7%B1%E5%85%A5%E4%BA%86%E8%A7%A3-iteration-iterable-iterator-iter-getitem-next-fac5b4542cf4)\n",
    "2. [Python Iterators](https://www.w3schools.com/python/python_iterators.asp)\n",
    "3. [Python Generators](https://www.programiz.com/python-programming/generator)\n",
    "4. [iterator和generator雜談之二———懶惰的generator ](https://ithelp.ithome.com.tw/articles/10196328)\n",
    "5. [Python生成器（Generator）和yield用法詳解](https://www.itread01.com/content/1543162922.html)\n",
    "6. [How to Use Generators and yield in Python](https://realpython.com/introduction-to-python-generators/)"
   ]
  }
 ],
 "metadata": {
  "kernelspec": {
   "display_name": "Python 3",
   "language": "python",
   "name": "python3"
  },
  "language_info": {
   "codemirror_mode": {
    "name": "ipython",
    "version": 3
   },
   "file_extension": ".py",
   "mimetype": "text/x-python",
   "name": "python",
   "nbconvert_exporter": "python",
   "pygments_lexer": "ipython3",
   "version": "3.7.7"
  },
  "latex_envs": {
   "LaTeX_envs_menu_present": true,
   "autoclose": false,
   "autocomplete": true,
   "bibliofile": "biblio.bib",
   "cite_by": "apalike",
   "current_citInitial": 1,
   "eqLabelWithNumbers": true,
   "eqNumInitial": 1,
   "hotkeys": {
    "equation": "Ctrl-E",
    "itemize": "Ctrl-I"
   },
   "labels_anchors": false,
   "latex_user_defs": false,
   "report_style_numbering": false,
   "user_envs_cfg": false
  },
  "toc": {
   "base_numbering": 1,
   "nav_menu": {},
   "number_sections": true,
   "sideBar": true,
   "skip_h1_title": false,
   "title_cell": "Table of Contents",
   "title_sidebar": "Contents",
   "toc_cell": false,
   "toc_position": {
    "height": "calc(100% - 180px)",
    "left": "10px",
    "top": "150px",
    "width": "269px"
   },
   "toc_section_display": true,
   "toc_window_display": true
  }
 },
 "nbformat": 4,
 "nbformat_minor": 2
}
