{
 "cells": [
  {
   "cell_type": "markdown",
   "metadata": {},
   "source": [
    "# Python Basics"
   ]
  },
  {
   "cell_type": "markdown",
   "metadata": {},
   "source": [
    "## Interactive Shell"
   ]
  },
  {
   "cell_type": "markdown",
   "metadata": {},
   "source": [
    "### Compiled language v.s. Interpreted language\n",
    "\n",
    "- Compiled language (編譯語言)\n",
    "\n",
    "    Through compiler convert source code into machine code and execute it.\n",
    "\n",
    "    * C/C++\n",
    "    * Go\n",
    "    * Rust\n",
    "\n",
    "- Interpreted language (直譯語言)\n",
    "    \n",
    "    Execute the code step-by-step.\n",
    "    \n",
    "    * Python\n",
    "    * JavaScript\n",
    "    * Ruby\n",
    "    * PHP"
   ]
  },
  {
   "cell_type": "markdown",
   "metadata": {},
   "source": [
    "### Python Interactive Shell\n",
    "\n",
    "Python is a Interpreted language. It means it excutes the code line by line.\n",
    "\n",
    "Python provides a `Python Shell (Python Interactive Shell)` \n",
    "which is used to execute a single Python command and get the result.\n",
    "\n",
    "\n",
    "1. Open terminal\n",
    "\n",
    "```bash\n",
    "# or python3\n",
    "$ python\n",
    "```\n",
    "\n",
    "2. Then you will see the figure below\n",
    "\n",
    "![](./images/python_shell.png)\n",
    "\n",
    "3. Now, you can type a single statement and get the result\n",
    "\n",
    "![](./images/python_shell_2.png)"
   ]
  },
  {
   "cell_type": "markdown",
   "metadata": {},
   "source": [
    "## Python Comments\n",
    "\n",
    "Comments can be used to explain code, make the code more readable.\n",
    "\n",
    "- `#`: single line\n",
    "- `\"\"\" \"\"\"`: multiple lines\n",
    "\n",
    "Examples:\n",
    "\n",
    "```python\n",
    "# This is a comment\n",
    "print('Hello world')\n",
    "\n",
    "\"\"\"\n",
    "This is a comment \n",
    "written in more than just one line\n",
    "\"\"\"\n",
    "print('Hello world')\n",
    "```"
   ]
  },
  {
   "cell_type": "markdown",
   "metadata": {},
   "source": [
    "## Python Expressions: Math Operators\n",
    "\n",
    "![](images/common_operators.png)"
   ]
  },
  {
   "cell_type": "code",
   "execution_count": 1,
   "metadata": {
    "ExecuteTime": {
     "end_time": "2020-07-14T05:16:14.572237Z",
     "start_time": "2020-07-14T05:16:14.542892Z"
    }
   },
   "outputs": [
    {
     "data": {
      "text/plain": [
       "5"
      ]
     },
     "execution_count": 1,
     "metadata": {},
     "output_type": "execute_result"
    }
   ],
   "source": [
    "# Addition: Integer\n",
    "2 + 3"
   ]
  },
  {
   "cell_type": "code",
   "execution_count": 2,
   "metadata": {
    "ExecuteTime": {
     "end_time": "2020-07-14T05:16:14.606028Z",
     "start_time": "2020-07-14T05:16:14.591358Z"
    }
   },
   "outputs": [
    {
     "data": {
      "text/plain": [
       "5.0"
      ]
     },
     "execution_count": 2,
     "metadata": {},
     "output_type": "execute_result"
    }
   ],
   "source": [
    "# Addition: Floating point & Floating point -> Floating point\n",
    "2.0 + 3.0"
   ]
  },
  {
   "cell_type": "code",
   "execution_count": 3,
   "metadata": {
    "ExecuteTime": {
     "end_time": "2020-07-14T05:16:14.638461Z",
     "start_time": "2020-07-14T05:16:14.619532Z"
    }
   },
   "outputs": [
    {
     "data": {
      "text/plain": [
       "5.0"
      ]
     },
     "execution_count": 3,
     "metadata": {},
     "output_type": "execute_result"
    }
   ],
   "source": [
    "# Addition: Floating point & Integet -> Floating point\n",
    "2.0 + 3"
   ]
  },
  {
   "cell_type": "code",
   "execution_count": 4,
   "metadata": {
    "ExecuteTime": {
     "end_time": "2020-07-14T05:16:14.669152Z",
     "start_time": "2020-07-14T05:16:14.659296Z"
    }
   },
   "outputs": [
    {
     "data": {
      "text/plain": [
       "6"
      ]
     },
     "execution_count": 4,
     "metadata": {},
     "output_type": "execute_result"
    }
   ],
   "source": [
    "# Multiplication\n",
    "3 * 2"
   ]
  },
  {
   "cell_type": "code",
   "execution_count": 5,
   "metadata": {
    "ExecuteTime": {
     "end_time": "2020-07-14T05:16:14.687033Z",
     "start_time": "2020-07-14T05:16:14.674322Z"
    }
   },
   "outputs": [
    {
     "data": {
      "text/plain": [
       "32"
      ]
     },
     "execution_count": 5,
     "metadata": {},
     "output_type": "execute_result"
    }
   ],
   "source": [
    "# Exponent\n",
    "2 ** 5"
   ]
  },
  {
   "cell_type": "markdown",
   "metadata": {},
   "source": [
    "### Exercise\n",
    "\n",
    "```\n",
    "Suppose you have $100, which you can invets with a 10% return each year.\n",
    "After one year, it's 100 x 1.1 = 110 dollars, \n",
    "and after two years it's 100 x 1.1 x 1.1 = 121.\n",
    "```\n",
    "\n",
    "Add code to calculate how much money you end up with after 7 years, and print the result."
   ]
  },
  {
   "cell_type": "code",
   "execution_count": 6,
   "metadata": {
    "ExecuteTime": {
     "end_time": "2020-07-14T05:16:14.701230Z",
     "start_time": "2020-07-14T05:16:14.691076Z"
    },
    "code_folding": [
     0
    ]
   },
   "outputs": [
    {
     "data": {
      "text/plain": [
       "194.87171000000012"
      ]
     },
     "execution_count": 6,
     "metadata": {},
     "output_type": "execute_result"
    }
   ],
   "source": [
    "# Click below for a solution\n",
    "\n",
    "return_money = 100 * (1.1 ** 7)\n",
    "return_money"
   ]
  },
  {
   "cell_type": "markdown",
   "metadata": {},
   "source": [
    "## Display the Output\n",
    "\n",
    "Builtin-in function `print()` serves as an output statement in Python."
   ]
  },
  {
   "cell_type": "code",
   "execution_count": 7,
   "metadata": {
    "ExecuteTime": {
     "end_time": "2020-07-14T05:16:14.716490Z",
     "start_time": "2020-07-14T05:16:14.705879Z"
    }
   },
   "outputs": [
    {
     "name": "stdout",
     "output_type": "stream",
     "text": [
      "Hello World!\n",
      "Hello World1\n",
      "Hello world!\n",
      "Hello world!\n"
     ]
    }
   ],
   "source": [
    "# type 1.\n",
    "print(\"Hello World!\")\n",
    "\n",
    "# type 2.\n",
    "print(\"Hello\" + \" World1\")\n",
    "\n",
    "# type 3.\n",
    "text = \"world!\"\n",
    "print(\"Hello\", text)\n",
    "\n",
    "# type 4. \n",
    "text = \"world!\"\n",
    "print(\"Hello {}\".format(text))"
   ]
  },
  {
   "cell_type": "markdown",
   "metadata": {},
   "source": [
    "## Getting the User's Input\n",
    "\n",
    "The `input()` function is part of the core library of standard Python distribution.\n",
    "\n",
    "It reads the key strokes as a string object which can be referred to by a variable having a suitable name."
   ]
  },
  {
   "cell_type": "code",
   "execution_count": 8,
   "metadata": {
    "ExecuteTime": {
     "end_time": "2020-07-14T05:16:41.855080Z",
     "start_time": "2020-07-14T05:16:14.755299Z"
    },
    "scrolled": true
   },
   "outputs": [
    {
     "name": "stdout",
     "output_type": "stream",
     "text": [
      "123\n",
      "input: 123, type: <class 'str'>\n"
     ]
    }
   ],
   "source": [
    "_input = input()\n",
    "\n",
    "print(\"input: {}, type: {}\".format(_input, type(_input)))"
   ]
  },
  {
   "cell_type": "code",
   "execution_count": 9,
   "metadata": {
    "ExecuteTime": {
     "end_time": "2020-07-14T05:16:45.532007Z",
     "start_time": "2020-07-14T05:16:41.861986Z"
    },
    "scrolled": true
   },
   "outputs": [
    {
     "name": "stdout",
     "output_type": "stream",
     "text": [
      "Enter your name: kaka\n",
      "Welcome, kaka\n"
     ]
    }
   ],
   "source": [
    "name = input(\"Enter your name: \")\n",
    "print(\"Welcome, {}\".format(name))"
   ]
  },
  {
   "cell_type": "markdown",
   "metadata": {},
   "source": [
    "## Variables\n",
    "\n",
    "Variables are containers for storing data values.\n",
    "In order to conveniently repeatedly refer to the store value, it is given a suitable name.\n",
    "\n",
    "- Specific, case-sensitive name\n",
    "- Call up value through variable name\n",
    "\n",
    "A value is bound to a name by the assignment operator `=`\n",
    "\n",
    "### Example\n",
    "\n",
    "Height 1.75m, Weight 68.7kg, Calculate BMI\n",
    "\n",
    "```python\n",
    "height = 1.75\n",
    "weight = 68.7\n",
    "\n",
    "bmi = weight / (height ** 2)\n",
    "print(\"BMI: {}\".format(bmi))\n",
    "```"
   ]
  },
  {
   "cell_type": "markdown",
   "metadata": {},
   "source": [
    "## Data Types\n",
    "\n",
    "Variables can store data of different types, and different types can do different things.\n",
    "\n",
    "A `data type` is a category for values, and every value belongs to exactly one data type.\n",
    "\n",
    "Python has the following standard or built-in data types:\n",
    "\n",
    "![](./images/data_type.png)"
   ]
  },
  {
   "cell_type": "markdown",
   "metadata": {},
   "source": [
    "### Numeric\n",
    "\n",
    "- Integets (`int`): 1, 0, 1\n",
    "- Float (`float`): -1.25, -0.5, 0.0, 1.25\n",
    "- Complex (`complex`): 1j\n",
    "\n",
    "### Boolean\n",
    "\n",
    "Data with one of two built-in values `True` or `False`.\n",
    "\n",
    "\n",
    "\n",
    "### Sequence\n",
    "\n",
    "- Strings (`str`): \n",
    "\n",
    "    String literals in python are surrounded by either single quotation marks, or double quotation marks.\n",
    "    \n",
    "    'Hello' is the same as \"Hello\".\n",
    "    \n",
    "    Example:\n",
    "    ```python\n",
    "    a = 'Hello Wrold!'\n",
    "    ```\n",
    "\n",
    "- `list`:\n",
    "\n",
    "    List is a collention which is `ordered` and `changeable`.\n",
    "    Allow duplicate members.\n",
    "    \n",
    "    Example:\n",
    "    ```python\n",
    "    a = ['Hello', 'World', '!']\n",
    "    ```\n",
    "\n",
    "- `tuple`:\n",
    "    Tuple is a collention which is `ordered` and `unchangeable`.\n",
    "    Allow duplicate members.\n",
    "    \n",
    "    Example:\n",
    "\n",
    "    ```python\n",
    "    a = ('Hello', 'World', '!')\n",
    "    ```\n",
    "\n",
    "### Dictionary\n",
    "\n",
    "Dictionary is a collention which is `unordered`, `changeable` and `indexed`.\n",
    "No duplicate members.\n",
    "    \n",
    "Example:\n",
    "\n",
    "```python\n",
    "a = {\"name\": \"kaka\", \"age\": 28}\n",
    "```"
   ]
  },
  {
   "cell_type": "markdown",
   "metadata": {},
   "source": [
    "## Storing Values in Variables"
   ]
  },
  {
   "cell_type": "markdown",
   "metadata": {},
   "source": [
    "### Assignment\n",
    "\n",
    "在程式語言的世界裡，`=`代表的是指定(assignment)的意思\n",
    "\n",
    "例如：`x = 7` 就是把`7這個物件指定給x這個變數`，換句話說也就是把`x這個變數指向(綁定)7這個物件`，如下圖所示：\n"
   ]
  },
  {
   "cell_type": "code",
   "execution_count": 10,
   "metadata": {
    "ExecuteTime": {
     "end_time": "2020-07-14T05:16:45.562068Z",
     "start_time": "2020-07-14T05:16:45.543916Z"
    }
   },
   "outputs": [
    {
     "data": {
      "text/plain": [
       "7"
      ]
     },
     "execution_count": 10,
     "metadata": {},
     "output_type": "execute_result"
    }
   ],
   "source": [
    "x = 7\n",
    "x"
   ]
  },
  {
   "cell_type": "code",
   "execution_count": 11,
   "metadata": {
    "ExecuteTime": {
     "end_time": "2020-07-14T05:16:45.588193Z",
     "start_time": "2020-07-14T05:16:45.574899Z"
    }
   },
   "outputs": [
    {
     "data": {
      "text/plain": [
       "7"
      ]
     },
     "execution_count": 11,
     "metadata": {},
     "output_type": "execute_result"
    }
   ],
   "source": [
    "x = 7\n",
    "y = x\n",
    "y"
   ]
  },
  {
   "cell_type": "code",
   "execution_count": 12,
   "metadata": {
    "ExecuteTime": {
     "end_time": "2020-07-14T05:16:45.610834Z",
     "start_time": "2020-07-14T05:16:45.601263Z"
    }
   },
   "outputs": [
    {
     "name": "stdout",
     "output_type": "stream",
     "text": [
      "x = 8 y = 7\n"
     ]
    }
   ],
   "source": [
    "x = 8\n",
    "print(\"x =\", x, \"y =\", y)"
   ]
  },
  {
   "cell_type": "markdown",
   "metadata": {},
   "source": [
    "### Pyhton Assignmes: Bindding"
   ]
  },
  {
   "cell_type": "code",
   "execution_count": 13,
   "metadata": {
    "ExecuteTime": {
     "end_time": "2020-07-14T05:16:45.628586Z",
     "start_time": "2020-07-14T05:16:45.616132Z"
    },
    "code_folding": []
   },
   "outputs": [
    {
     "name": "stdout",
     "output_type": "stream",
     "text": [
      "x:  [1, 100, 3]\n",
      "y:  [1, 100, 3]\n"
     ]
    }
   ],
   "source": [
    "# Fist, we see an example as below:\n",
    "x = [1, 2, 3]\n",
    "y = x\n",
    "x[1] = 100\n",
    "print(\"x: \", x)\n",
    "print(\"y: \", y)"
   ]
  },
  {
   "cell_type": "markdown",
   "metadata": {},
   "source": [
    "#### Explain\n",
    "\n",
    "Python的`=`實際上是 `binds an object reference to an object`\n",
    "\n",
    "![Object reference](images/object_references.png)"
   ]
  },
  {
   "cell_type": "markdown",
   "metadata": {},
   "source": [
    "```python\n",
    "x = [1, 2, 3]\n",
    "```\n",
    "```bash\n",
    "X ----> [1 2 3]\n",
    "```\n",
    "\n",
    "---\n",
    "\n",
    "```python\n",
    "y = x\n",
    "```\n",
    "```bash\n",
    "x ---> [1 2 3]\n",
    "       ^\n",
    "       |\n",
    "y ------\n",
    "```\n",
    "\n",
    "---\n",
    "\n",
    "```python\n",
    "x[1] = 100\n",
    "```\n",
    "```bash\n",
    "x ---> [100 2 3]\n",
    "       ^\n",
    "       |\n",
    "y ------\n",
    "```"
   ]
  },
  {
   "cell_type": "markdown",
   "metadata": {},
   "source": [
    "## Your First Program\n",
    "\n",
    "- Referece: [Automate the Boring Stuff with Python](https://automatetheboringstuff.com/)"
   ]
  },
  {
   "cell_type": "code",
   "execution_count": 14,
   "metadata": {
    "ExecuteTime": {
     "end_time": "2020-07-14T05:16:50.685747Z",
     "start_time": "2020-07-14T05:16:45.635106Z"
    }
   },
   "outputs": [
    {
     "name": "stdout",
     "output_type": "stream",
     "text": [
      "Hello World!\n",
      "What is your name?\n",
      "------------------\n",
      "kaka\n",
      "It is good to meet you, kaka\n",
      "The length of your name is:  4\n",
      "What is your age?\n",
      "28\n",
      "------------------\n",
      "You will be 29 in a year\n"
     ]
    }
   ],
   "source": [
    "# This program says hello and asks for my name and age.\n",
    "print('Hello World!')\n",
    "print('What is your name?')\n",
    "print('------------------')\n",
    "name = input()\n",
    "print('It is good to meet you, ' + name)\n",
    "print('The length of your name is: ', len(name))\n",
    "print('What is your age?')\n",
    "age = input()\n",
    "print('------------------')\n",
    "print('You will be ' + str(int(age) + 1) + ' in a year') "
   ]
  }
 ],
 "metadata": {
  "kernelspec": {
   "display_name": "Python 3.7.7 64-bit",
   "language": "python",
   "name": "python37764bitd9f0c52fd2e84ef4bb5a2958a02d0b3f"
  },
  "language_info": {
   "codemirror_mode": {
    "name": "ipython",
    "version": 3
   },
   "file_extension": ".py",
   "mimetype": "text/x-python",
   "name": "python",
   "nbconvert_exporter": "python",
   "pygments_lexer": "ipython3",
   "version": "3.7.7"
  },
  "latex_envs": {
   "LaTeX_envs_menu_present": true,
   "autoclose": false,
   "autocomplete": true,
   "bibliofile": "biblio.bib",
   "cite_by": "apalike",
   "current_citInitial": 1,
   "eqLabelWithNumbers": true,
   "eqNumInitial": 1,
   "hotkeys": {
    "equation": "Ctrl-E",
    "itemize": "Ctrl-I"
   },
   "labels_anchors": false,
   "latex_user_defs": false,
   "report_style_numbering": false,
   "user_envs_cfg": false
  },
  "toc": {
   "base_numbering": 1,
   "nav_menu": {},
   "number_sections": true,
   "sideBar": true,
   "skip_h1_title": false,
   "title_cell": "Table of Contents",
   "title_sidebar": "Contents",
   "toc_cell": false,
   "toc_position": {
    "height": "calc(100% - 180px)",
    "left": "10px",
    "top": "150px",
    "width": "318px"
   },
   "toc_section_display": true,
   "toc_window_display": true
  }
 },
 "nbformat": 4,
 "nbformat_minor": 2
}
