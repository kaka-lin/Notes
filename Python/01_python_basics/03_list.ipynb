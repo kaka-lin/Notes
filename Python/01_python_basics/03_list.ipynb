{
 "cells": [
  {
   "cell_type": "markdown",
   "metadata": {},
   "source": [
    "# List 串列\n",
    "\n",
    "`List` 用來儲存一連串有順序的資料，如："
   ]
  },
  {
   "cell_type": "code",
   "execution_count": 1,
   "metadata": {
    "ExecuteTime": {
     "end_time": "2020-06-04T02:20:21.042213Z",
     "start_time": "2020-06-04T02:20:21.035479Z"
    }
   },
   "outputs": [
    {
     "name": "stdout",
     "output_type": "stream",
     "text": [
      "['Taiwan', 'Janpan', 'America']\n"
     ]
    }
   ],
   "source": [
    "countries = ['Taiwan', 'Janpan', 'America']\n",
    "print(countries)"
   ]
  },
  {
   "cell_type": "markdown",
   "metadata": {},
   "source": [
    "## 取得 List 裡有幾個元素: len()"
   ]
  },
  {
   "cell_type": "code",
   "execution_count": 2,
   "metadata": {
    "ExecuteTime": {
     "end_time": "2020-06-04T02:20:21.188128Z",
     "start_time": "2020-06-04T02:20:21.107120Z"
    }
   },
   "outputs": [
    {
     "data": {
      "text/plain": [
       "3"
      ]
     },
     "execution_count": 2,
     "metadata": {},
     "output_type": "execute_result"
    }
   ],
   "source": [
    "length = len(countries)\n",
    "length"
   ]
  },
  {
   "cell_type": "markdown",
   "metadata": {},
   "source": [
    "## 取得List 裡的元素\n",
    "\n",
    "```python\n",
    "list_name[index]\n",
    "```"
   ]
  },
  {
   "cell_type": "code",
   "execution_count": 3,
   "metadata": {
    "ExecuteTime": {
     "end_time": "2020-06-04T02:20:21.218448Z",
     "start_time": "2020-06-04T02:20:21.206866Z"
    }
   },
   "outputs": [
    {
     "data": {
      "text/plain": [
       "'Taiwan'"
      ]
     },
     "execution_count": 3,
     "metadata": {},
     "output_type": "execute_result"
    }
   ],
   "source": [
    "countries[0]"
   ]
  },
  {
   "cell_type": "markdown",
   "metadata": {},
   "source": [
    "### 取得最後一個元素\n",
    "\n",
    "```python\n",
    "list[-1]\n",
    "```"
   ]
  },
  {
   "cell_type": "code",
   "execution_count": 4,
   "metadata": {
    "ExecuteTime": {
     "end_time": "2020-06-04T02:20:21.231944Z",
     "start_time": "2020-06-04T02:20:21.222362Z"
    }
   },
   "outputs": [
    {
     "name": "stdout",
     "output_type": "stream",
     "text": [
      "America\n"
     ]
    }
   ],
   "source": [
    "print(countries[-1])"
   ]
  },
  {
   "cell_type": "markdown",
   "metadata": {},
   "source": [
    "```python\n",
    "list.index(x[, start[, end]])\n",
    "```"
   ]
  },
  {
   "cell_type": "markdown",
   "metadata": {},
   "source": [
    "### 範圍取值: list slicing\n",
    "\n",
    "```python\n",
    "list[start_index:end_index:sep]\n",
    "```"
   ]
  },
  {
   "cell_type": "code",
   "execution_count": 5,
   "metadata": {
    "ExecuteTime": {
     "end_time": "2020-06-04T02:20:21.261957Z",
     "start_time": "2020-06-04T02:20:21.253797Z"
    }
   },
   "outputs": [
    {
     "data": {
      "text/plain": [
       "['Taiwan']"
      ]
     },
     "execution_count": 5,
     "metadata": {},
     "output_type": "execute_result"
    }
   ],
   "source": [
    "countries[0:1]"
   ]
  },
  {
   "cell_type": "code",
   "execution_count": 6,
   "metadata": {
    "ExecuteTime": {
     "end_time": "2020-06-04T02:20:21.276939Z",
     "start_time": "2020-06-04T02:20:21.267419Z"
    }
   },
   "outputs": [
    {
     "data": {
      "text/plain": [
       "['Taiwan']"
      ]
     },
     "execution_count": 6,
     "metadata": {},
     "output_type": "execute_result"
    }
   ],
   "source": [
    "countries[::3]"
   ]
  },
  {
   "cell_type": "markdown",
   "metadata": {},
   "source": [
    "## 增加 List 裡面的元素"
   ]
  },
  {
   "cell_type": "markdown",
   "metadata": {},
   "source": [
    "### append method\n",
    "\n",
    "```python\n",
    "list.append(object)\n",
    "```\n",
    "\n",
    "將一個新的元素加到 list 的尾端。"
   ]
  },
  {
   "cell_type": "code",
   "execution_count": 7,
   "metadata": {
    "ExecuteTime": {
     "end_time": "2020-06-04T02:20:21.334993Z",
     "start_time": "2020-06-04T02:20:21.328119Z"
    }
   },
   "outputs": [
    {
     "data": {
      "text/plain": [
       "['Taiwan', 'Janpan', 'America', 'Korea']"
      ]
     },
     "execution_count": 7,
     "metadata": {},
     "output_type": "execute_result"
    }
   ],
   "source": [
    "countries.append('Korea')\n",
    "countries"
   ]
  },
  {
   "cell_type": "markdown",
   "metadata": {},
   "source": [
    "### insert method\n",
    "\n",
    "```python\n",
    "list.insert(position, object)\n",
    "```\n",
    "\n",
    "將一個新的元素加到指定的 list 位置。"
   ]
  },
  {
   "cell_type": "code",
   "execution_count": 8,
   "metadata": {
    "ExecuteTime": {
     "end_time": "2020-06-04T02:20:21.369475Z",
     "start_time": "2020-06-04T02:20:21.361634Z"
    }
   },
   "outputs": [
    {
     "data": {
      "text/plain": [
       "['Taiwan', 'Janpan', 'America', 'China', 'Korea']"
      ]
     },
     "execution_count": 8,
     "metadata": {},
     "output_type": "execute_result"
    }
   ],
   "source": [
    "countries.insert(-1, 'China')\n",
    "countries"
   ]
  },
  {
   "cell_type": "markdown",
   "metadata": {},
   "source": [
    "### extend method\n",
    "\n",
    "```python\n",
    "list_1 = [object1, object2, object3, ...]\n",
    "list_2 = [object0]\n",
    "list_2.extend(list_1)\n",
    "```"
   ]
  },
  {
   "cell_type": "code",
   "execution_count": 9,
   "metadata": {
    "ExecuteTime": {
     "end_time": "2020-06-04T02:20:21.401628Z",
     "start_time": "2020-06-04T02:20:21.394747Z"
    }
   },
   "outputs": [
    {
     "data": {
      "text/plain": [
       "['Taiwan', 'Janpan', 'America', 'China', 'Korea', 'Malaysia', 'Singapore']"
      ]
     },
     "execution_count": 9,
     "metadata": {},
     "output_type": "execute_result"
    }
   ],
   "source": [
    "countries_2 = ['Malaysia', 'Singapore']\n",
    "countries.extend(countries_2)\n",
    "countries"
   ]
  },
  {
   "cell_type": "markdown",
   "metadata": {},
   "source": [
    "## 移除 List 裡的元素"
   ]
  },
  {
   "cell_type": "markdown",
   "metadata": {},
   "source": [
    "### remove method\n",
    "\n",
    "```python\n",
    "list.remove(object)\n",
    "```"
   ]
  },
  {
   "cell_type": "code",
   "execution_count": 10,
   "metadata": {
    "ExecuteTime": {
     "end_time": "2020-06-04T02:20:21.455583Z",
     "start_time": "2020-06-04T02:20:21.449087Z"
    }
   },
   "outputs": [
    {
     "data": {
      "text/plain": [
       "['Taiwan', 'Janpan', 'America', 'Korea', 'Malaysia', 'Singapore']"
      ]
     },
     "execution_count": 10,
     "metadata": {},
     "output_type": "execute_result"
    }
   ],
   "source": [
    "countries.remove('China')\n",
    "countries"
   ]
  },
  {
   "cell_type": "markdown",
   "metadata": {},
   "source": [
    "### pop method\n",
    "\n",
    "```python\n",
    "list.pop(index)\n",
    "```\n",
    "\n",
    "如果括號內不指定index, 預設是最後一個元素(-1)"
   ]
  },
  {
   "cell_type": "code",
   "execution_count": 11,
   "metadata": {
    "ExecuteTime": {
     "end_time": "2020-06-04T02:20:21.487912Z",
     "start_time": "2020-06-04T02:20:21.479416Z"
    }
   },
   "outputs": [
    {
     "data": {
      "text/plain": [
       "['Taiwan', 'Janpan', 'America', 'Korea', 'Malaysia']"
      ]
     },
     "execution_count": 11,
     "metadata": {},
     "output_type": "execute_result"
    }
   ],
   "source": [
    "countries.pop()\n",
    "countries"
   ]
  },
  {
   "cell_type": "markdown",
   "metadata": {},
   "source": [
    "## List 與 for-loop\n",
    "\n",
    "```python\n",
    "for item in list:\n",
    "    print(item)\n",
    "```"
   ]
  },
  {
   "cell_type": "code",
   "execution_count": 12,
   "metadata": {
    "ExecuteTime": {
     "end_time": "2020-06-04T02:20:21.517937Z",
     "start_time": "2020-06-04T02:20:21.511220Z"
    }
   },
   "outputs": [
    {
     "name": "stdout",
     "output_type": "stream",
     "text": [
      "Taiwan, Janpan, America, Korea, Malaysia, "
     ]
    }
   ],
   "source": [
    "for country in countries:\n",
    "    print(country, end=', ')"
   ]
  },
  {
   "cell_type": "markdown",
   "metadata": {},
   "source": [
    "### 用 for-loop 來建立 List"
   ]
  },
  {
   "cell_type": "code",
   "execution_count": 13,
   "metadata": {
    "ExecuteTime": {
     "end_time": "2020-06-04T02:20:21.551291Z",
     "start_time": "2020-06-04T02:20:21.539416Z"
    }
   },
   "outputs": [
    {
     "data": {
      "text/plain": [
       "[0, 1, 4, 9, 16, 25, 36, 49, 64, 81]"
      ]
     },
     "execution_count": 13,
     "metadata": {},
     "output_type": "execute_result"
    }
   ],
   "source": [
    "temp = []\n",
    "for i in range(10):\n",
    "    temp.append(i ** 2)\n",
    "temp"
   ]
  },
  {
   "cell_type": "markdown",
   "metadata": {},
   "source": [
    "### pyhonic"
   ]
  },
  {
   "cell_type": "code",
   "execution_count": 14,
   "metadata": {
    "ExecuteTime": {
     "end_time": "2020-06-04T02:20:21.581169Z",
     "start_time": "2020-06-04T02:20:21.570986Z"
    }
   },
   "outputs": [
    {
     "data": {
      "text/plain": [
       "[0, 1, 4, 9, 16, 25, 36, 49, 64, 81]"
      ]
     },
     "execution_count": 14,
     "metadata": {},
     "output_type": "execute_result"
    }
   ],
   "source": [
    "a = [x ** 2 for x in range(10)]\n",
    "a"
   ]
  },
  {
   "cell_type": "code",
   "execution_count": 15,
   "metadata": {
    "ExecuteTime": {
     "end_time": "2020-06-04T02:20:21.599835Z",
     "start_time": "2020-06-04T02:20:21.586749Z"
    }
   },
   "outputs": [
    {
     "data": {
      "text/plain": [
       "[1, 4, 9, 16, 25, 36, 49, 64, 81]"
      ]
     },
     "execution_count": 15,
     "metadata": {},
     "output_type": "execute_result"
    }
   ],
   "source": [
    "b = [1, 2, 3, 4, 5, 6, 7, 8, 9]\n",
    "c = [x ** 2 for x in b]\n",
    "c"
   ]
  }
 ],
 "metadata": {
  "kernelspec": {
   "display_name": "Python 3",
   "language": "python",
   "name": "python3"
  },
  "language_info": {
   "codemirror_mode": {
    "name": "ipython",
    "version": 3
   },
   "file_extension": ".py",
   "mimetype": "text/x-python",
   "name": "python",
   "nbconvert_exporter": "python",
   "pygments_lexer": "ipython3",
   "version": "3.7.7"
  },
  "latex_envs": {
   "LaTeX_envs_menu_present": true,
   "autoclose": false,
   "autocomplete": true,
   "bibliofile": "biblio.bib",
   "cite_by": "apalike",
   "current_citInitial": 1,
   "eqLabelWithNumbers": true,
   "eqNumInitial": 1,
   "hotkeys": {
    "equation": "Ctrl-E",
    "itemize": "Ctrl-I"
   },
   "labels_anchors": false,
   "latex_user_defs": false,
   "report_style_numbering": false,
   "user_envs_cfg": false
  },
  "toc": {
   "base_numbering": 1,
   "nav_menu": {},
   "number_sections": true,
   "sideBar": true,
   "skip_h1_title": false,
   "title_cell": "Table of Contents",
   "title_sidebar": "Contents",
   "toc_cell": false,
   "toc_position": {
    "height": "calc(100% - 180px)",
    "left": "10px",
    "top": "150px",
    "width": "256px"
   },
   "toc_section_display": true,
   "toc_window_display": true
  }
 },
 "nbformat": 4,
 "nbformat_minor": 4
}
