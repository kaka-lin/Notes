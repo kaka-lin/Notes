{
 "cells": [
  {
   "cell_type": "markdown",
   "metadata": {},
   "source": [
    "# Python 多行程/多處理程序(Multi-Processing)"
   ]
  },
  {
   "cell_type": "markdown",
   "metadata": {},
   "source": [
    "## 行程/處理程序(Process)\n",
    "\n",
    "複習`作業系統(Operating System)`中的對於`行程(Process)`的解釋：\n",
    "\n",
    "```\n",
    "行程(Process)是指已經執行並且load到記憶體中的程式(Program)，\n",
    "行程中的每一行程式碼隨時都有可能被CPU執行。\n",
    "\n",
    "現在面向執行緒設計的系統中，行程本身不是基本執行單位，而是執行緒的容器\n",
    "\n",
    "行程需要一些資源才能完成工作，如CPU使用時間、記憶體、檔案及I/O裝置。\n",
    "```\n",
    "\n",
    "我們在電腦裡，`點開應用程式就是將程式(Program)活化成行程/處理程序(Process)`。\n",
    "\n",
    "每一個Process由下面兩項組成：\n",
    "\n",
    "- 一個Memory Space，用來進行變數的存取。\n",
    "\n",
    "    不同Process的Memory Space也不同，所以彼此之間變數不能共享。\n",
    "- 一個以上的Thread(執行緒)\n",
    "\n",
    "### CPU 與 Process\n",
    "\n",
    "一個CPU一次只能執行一個Process，現在的電腦都是`多核因此可同時執行數個Process`。\n",
    "\n",
    "`但CPU的總量總是少於Process的運行總量`，且`Procee會佔用記憶體`，因此如何`排程(Scheduling)`，\n",
    "如合有效的`管理記憶體(Memory)`就是作業系統(OS)在關注處理的事。\n",
    "\n",
    "### Thread 與 Process\n",
    "\n",
    "Thread是OS能夠進行運算排成的最小單位，他被包含在Process之中，是Process中的實際運作單位。\n",
    "\n",
    "- Thread是OS分配CPU時間的對象\n",
    "- Process是OS分配資源的對象\n",
    "\n",
    "### 總結\n",
    "\n",
    "1. Process是電腦中已執行Program的實體，每一個Process互相獨立\n",
    "2. Process需要一些資源才能完成工作，如CPU使用時間、記憶體、檔案及I/O裝置。\n",
    "3. Process是基本執行單位Thread(執行緒)的容器\n",
    "4. 每一個Process由一個Memory Space和一個以上的Thread所組成"
   ]
  },
  {
   "cell_type": "markdown",
   "metadata": {},
   "source": [
    "## Python 模組: [multiprocessing](https://docs.python.org/3/library/multiprocessing.html#module-multiprocessing)\n",
    "\n",
    "`multiprocessing`是Python的標準函式庫裡的模組，所以不需要另外安裝即可使用。"
   ]
  },
  {
   "cell_type": "markdown",
   "metadata": {},
   "source": [
    "### 行程/處理程序(Process): `multiprocessing.Process`\n",
    "\n",
    "\n",
    "\n",
    "1. 建立行程/處理程序(Process)\n",
    "\n",
    "```python\n",
    "class multiprocessing.Process(\n",
    "    group=None, target=None, name=None, \n",
    "    args=(), kwargs={}, *, daemon=None)\n",
    "```\n",
    "\n",
    "2. 啟動(執行)Process\n",
    "\n",
    "```python\n",
    "Process.start()\n",
    "```\n",
    "\n",
    "3. 等待Process結束\n",
    "\n",
    "```python\n",
    "Process.join([timeout]\n",
    "```"
   ]
  },
  {
   "cell_type": "code",
   "execution_count": 1,
   "metadata": {
    "ExecuteTime": {
     "end_time": "2020-07-17T09:46:43.476555Z",
     "start_time": "2020-07-17T09:46:42.408240Z"
    }
   },
   "outputs": [
    {
     "name": "stdout",
     "output_type": "stream",
     "text": [
      "Process_0, Name: Process-1, PID: 39377\n",
      "Process_1, Name: Process-2, PID: 39378\n",
      "Process_2, Name: Process-3, PID: 39379\n",
      "MainProcess 39372\n",
      "All Done.\n"
     ]
    }
   ],
   "source": [
    "import time\n",
    "import multiprocessing\n",
    "\n",
    "def job(process_id):\n",
    "    proc = multiprocessing.current_process()\n",
    "    print(\"Process_{}, Name: {}, PID: {}\".format(process_id, proc.name, proc.pid))\n",
    "    time.sleep(1)\n",
    "\n",
    "# 建立3個Process\n",
    "p_list = []\n",
    "for i in range(3):\n",
    "    p_list.append(multiprocessing.Process(target=job, args=(i,)))\n",
    "    \n",
    "# 執行Process\n",
    "for p in p_list:\n",
    "    p.start()\n",
    "\n",
    "# Main Process 繼續執行自己的工作\n",
    "proc = multiprocessing.current_process()\n",
    "print(proc.name, proc.pid)\n",
    "\n",
    "# 等待所有Process執行結束\n",
    "for p in p_list:\n",
    "    p.join()\n",
    "\n",
    "print(\"All Done.\")"
   ]
  },
  {
   "cell_type": "markdown",
   "metadata": {},
   "source": [
    "#### 物件導向 (Class)"
   ]
  },
  {
   "cell_type": "code",
   "execution_count": 2,
   "metadata": {
    "ExecuteTime": {
     "end_time": "2020-07-17T09:46:44.578994Z",
     "start_time": "2020-07-17T09:46:43.483900Z"
    }
   },
   "outputs": [
    {
     "name": "stdout",
     "output_type": "stream",
     "text": [
      "MyProcess-4, PID: 39380\n",
      "MyProcess-5, PID: 39381\n",
      "MyProcess-6, PID: 39382\n",
      "MainProcess, PID: 39372\n",
      "All Done.\n"
     ]
    }
   ],
   "source": [
    "import time\n",
    "import multiprocessing\n",
    "\n",
    "class MyProcess(multiprocessing.Process):\n",
    "    def __init__(self):\n",
    "        super(MyProcess, self).__init__()\n",
    "    \n",
    "    def run(self):\n",
    "        print(\"{}, PID: {}\".format(self.name, self.pid))\n",
    "        time.sleep(1)\n",
    "\n",
    "# 建立3個Process\n",
    "p_list = []\n",
    "for i in range(3):\n",
    "    p_list.append(MyProcess())\n",
    "    \n",
    "# 執行Process\n",
    "for p in p_list:\n",
    "    p.start()\n",
    "\n",
    "# Main Process 繼續執行自己的工作\n",
    "proc = multiprocessing.current_process()\n",
    "print(\"{}, PID: {}\".format(proc.name, proc.pid))\n",
    "\n",
    "\n",
    "# 等待所有Process執行結束\n",
    "for p in p_list:\n",
    "    p.join()\n",
    "\n",
    "print(\"All Done.\")"
   ]
  },
  {
   "cell_type": "markdown",
   "metadata": {},
   "source": [
    "### 行程池(Process Pool): `multiprocess.Pool`\n",
    "\n",
    "在實際處理問題的過程中，很忙的時候可能有大量的任務要執行，閒的時候可能只有零星任務要執行。\n",
    "那在很忙的時候，我們就需要創建大量的Procee，首先創建跟銷毀都需要一定時間。\n",
    "再來就算我們創建了大量的Process，作業系統也不會他們同時執行，這樣反而會影響效率。\n",
    "此時就需要利用`行程池`。\n",
    "\n",
    "```\n",
    "例如在進行系統管裡時，同時操控多個文件或是遠程控制多台主機，並行操作可以節省大量時間。\n",
    "當操控的主機不多時，可以直接生成多個行程，但假設今天機台有上百台、上千台時，\n",
    "手動去限制行程數量太麻煩，這時候就可以發揮Pool的功效。\n",
    "```\n",
    "\n",
    "1. 建立Pool\n",
    "\n",
    "```python\n",
    "class multiprocessing.pool.Pool(\n",
    "     [processes[, initializer[, initargs[, maxtasksperchild[, context]]]]])\n",
    "```\n",
    "\n",
    "- processes: the number of worker process to use. If `processes` is `None` then the number returned by `os.cpu_count()` is used.\n",
    "\n",
    "\n",
    "2. 執行&獲取返回值\n",
    "\n",
    "```python\n",
    "Pool.map(func, iterable[, chunksize])\n",
    "```\n",
    "    \n",
    "- A parallel equivalent of the map() built-in function. `It blocks until the result is ready`.\n",
    "\n",
    "\n",
    "##### Note:\n",
    "\n",
    "`Process`與`Pool`最大的不同點就是：\n",
    "\n",
    "- Pool有返回值\n",
    "- Process無返回值"
   ]
  },
  {
   "cell_type": "markdown",
   "metadata": {},
   "source": [
    "#### 簡單範例"
   ]
  },
  {
   "cell_type": "code",
   "execution_count": 3,
   "metadata": {
    "ExecuteTime": {
     "end_time": "2020-07-17T09:46:44.658992Z",
     "start_time": "2020-07-17T09:46:44.586734Z"
    }
   },
   "outputs": [
    {
     "name": "stdout",
     "output_type": "stream",
     "text": [
      "[0, 1, 4, 9, 16, 25, 36, 49, 64, 81]\n"
     ]
    }
   ],
   "source": [
    "import os\n",
    "import multiprocessing\n",
    "\n",
    "def job(x):\n",
    "    return x * x\n",
    "\n",
    "# 建立Pool, 並且設定Process數量\n",
    "'''\n",
    "cpu_count = os.cpu_count() # 4\n",
    "pool = multiprocessing.Pool(processes=cpu_count)\n",
    "'''\n",
    "pool = multiprocessing.Pool()\n",
    "\n",
    "# 用 map() 運行處理程序並捕獲結果\n",
    "res = pool.map(job, range(10))\n",
    "print(res)"
   ]
  },
  {
   "cell_type": "markdown",
   "metadata": {},
   "source": [
    "#### 同步(Sync) v.s. 非同步(Async) \n",
    "\n",
    "在`multiprocess.Pool`的提供的方法裡我們可以發現，\n",
    "每個方法都有另外一個尾巴加上`_async`的方法，如:\n",
    "`map()` & `map_async()`。\n",
    "\n",
    "##### 那到底有`_async`跟沒有`_async`差在哪呢？\n",
    "\n",
    "現下我們先來介紹`同步(sync`)跟`非同步(async)`的概念！\n",
    "\n",
    "所謂的同步與非同步指的是`執行緒(Thread)之間訊息通訊機制(溝通機制)的同步與否`，如下所示：\n",
    "\n",
    "<img src=\"images/sync_async.png\" align=\"float:left\" width=\"70%\"/>\n",
    "\n",
    "- `同步(synchronous communication)`:\n",
    "\n",
    "    當一個要資料的Thread去跟一個負責給資料的Thread拿資料時，\n",
    "    \n",
    "    需要在那邊等待訊息回傳回來。\n",
    "    \n",
    "    ```\n",
    "    在沒有得到結果前，該呼叫(call)就不會返回，\n",
    "    但是一但呼叫返回，就會得到返回值(return value)。\n",
    "    換句話說就是，呼叫者主動等待這個呼叫的結果。\n",
    "    ```\n",
    "    \n",
    "- `非同步(asynchronous communication)`:\n",
    "\n",
    "    當一個要資料的Thread去跟一個負責給資料的Thread拿資料時，\n",
    "    \n",
    "    不需要等待直接返回，等待訊息好的時候會自己通知要資料的Thread。\n",
    "    \n",
    "    ```\n",
    "    在呼叫發出之後，這個呼叫(call function/API)會直接返回，所以沒有返回結果。\n",
    "    當被呼叫者準備好之後，被呼叫者通過狀態來通知呼叫者，或通過callback函數來處理。\n",
    "    ```\n",
    "\n",
    "Example:\n",
    "\n",
    "當你打去某家餐廳要訂位時，\n",
    "\n",
    "- 同步: \n",
    "    \n",
    "    餐廳服務生說，您稍等一下，\"我查一下\"，等查好了告訴你結果(返回結果)。\n",
    "    \n",
    "    \n",
    "- 非同步: \n",
    "\n",
    "   餐廳服務生說，我查一下，\"查好再打電話給你\"，然後就掛電話了(不返回結果)，\n",
    "   \n",
    "   然後查好之後，他會主動打電話給你(在這裡老闆透過\"回電\"這種callback方式來處理)。"
   ]
  },
  {
   "cell_type": "markdown",
   "metadata": {},
   "source": [
    "#### `pool.map()` v.s. `pool.map_async()`\n",
    "\n",
    "- map(func, iterable[, chuncksize]):\n",
    "\n",
    "    A parallel equivalent of the `map()` built-in function.\n",
    "    It blocks until the result is ready.\n",
    "\n",
    "\n",
    "- map_async(func, iterable[, chuncksize[, callable[, error_callback]]]):\n",
    "\n",
    "    A variant of the `map()` method which returns a result object.\n",
    "    \n",
    "    \n",
    "    Note: 最後要寫close和join來避免主程序結束後，子程序被迫關閉。"
   ]
  },
  {
   "cell_type": "markdown",
   "metadata": {},
   "source": [
    "1. pool.map()"
   ]
  },
  {
   "cell_type": "code",
   "execution_count": 4,
   "metadata": {
    "ExecuteTime": {
     "end_time": "2020-07-17T09:46:47.841879Z",
     "start_time": "2020-07-17T09:46:44.666725Z"
    }
   },
   "outputs": [
    {
     "name": "stdout",
     "output_type": "stream",
     "text": [
      "[In Pool]: 1\n",
      "[In Pool]: 4\n",
      "[In Pool]: 0\n",
      "[In Pool]: 9\n",
      "[In Pool]: 16\n",
      "[In Pool]: 25\n",
      "[In Pool]: 36\n",
      "[In Pool]: 49\n",
      "[In Pool]: 81\n",
      "[In Pool]: 64\n",
      "將會阻塞直到子程序結束後才執行，返回值: [0, 1, 4, 9, 16, 25, 36, 49, 64, 81]\n",
      "Pool Done!!!\n"
     ]
    }
   ],
   "source": [
    "import os\n",
    "import time\n",
    "import multiprocessing\n",
    "\n",
    "def job(x):\n",
    "    result = x * x\n",
    "    print(\"[In Pool]: {}\".format(result))\n",
    "    time.sleep(1)\n",
    "    return result\n",
    "\n",
    "pool = multiprocessing.Pool(os.cpu_count())\n",
    "\n",
    "pool_output = pool.map(job, range(10))\n",
    "print(\"將會阻塞直到子程序結束後才執行，返回值: {}\".format(pool_output))\n",
    "\n",
    "# close 和 join 是確保主程序結束後，子程序仍然繼續執行\n",
    "pool.close()\n",
    "pool.join()\n",
    "\n",
    "print(\"Pool Done!!!\")"
   ]
  },
  {
   "cell_type": "markdown",
   "metadata": {},
   "source": [
    "2. pool.map_async()"
   ]
  },
  {
   "cell_type": "code",
   "execution_count": 5,
   "metadata": {
    "ExecuteTime": {
     "end_time": "2020-07-17T09:46:51.046376Z",
     "start_time": "2020-07-17T09:46:47.850573Z"
    },
    "scrolled": false
   },
   "outputs": [
    {
     "name": "stdout",
     "output_type": "stream",
     "text": [
      "[In Pool]: 0\n",
      "[In Pool]: 4\n",
      "[In Pool]: 1\n",
      "[In Pool]: 9\n",
      "將不會阻塞和子程序並行\n",
      "[In Pool]: 16\n",
      "[In Pool]: 36\n",
      "[In Pool]: 25\n",
      "[In Pool]: 49\n",
      "[In Pool]: 64\n",
      "[In Pool]: 81\n",
      "Main Process: [0, 1, 4, 9, 16, 25, 36, 49, 64, 81]\n",
      "Pool Done!!!\n"
     ]
    }
   ],
   "source": [
    "import os\n",
    "import time\n",
    "import multiprocessing\n",
    "\n",
    "def job(x):\n",
    "    result = x * x\n",
    "    print(\"[In Pool]: {}\".format(result))\n",
    "    time.sleep(1)\n",
    "    return result\n",
    "\n",
    "pool = multiprocessing.Pool(os.cpu_count())\n",
    "\n",
    "pool_output = pool.map_async(job, range(10))\n",
    "\n",
    "print(\"將不會阻塞和子程序並行\")\n",
    "print(\"Main Process: {}\".format(pool_output.get()))\n",
    "\n",
    "# close 和 join 確保主程序結束後，子程序仍然繼續執行\n",
    "pool.close()\n",
    "pool.join()\n",
    "\n",
    "print(\"Pool Done!!!\")"
   ]
  },
  {
   "cell_type": "markdown",
   "metadata": {},
   "source": [
    "#### `pool.close()` and `pool.join()`\n",
    "\n",
    "如上範例所示，_async最後要寫close和join來避免主程序結束後，子程序被迫關閉。\n",
    "\n",
    "- close():\n",
    "\n",
    "    Prevents any more tasks from being submitted to the pool. \n",
    "    Once all the tasks have been completed the worker processes will exit.\n",
    "    \n",
    "    \n",
    "    停止接收新的任務，如果還有任務來，就會拋出異常\n",
    "    \n",
    "    \n",
    "- join():\n",
    "\n",
    "    Wait for the worker processes to exit. \n",
    "    One must call `close()` or `terminate()` before using `join()`.\n",
    "    \n",
    "    \n",
    "    等待所有任務完成，必須在close或是terminate之後呼叫，否則會拋出異常"
   ]
  },
  {
   "cell_type": "markdown",
   "metadata": {},
   "source": [
    "#### _async 取的回傳結果: `multiprocess.pool.AsyncResult` \n",
    "\n",
    "如上範例所示，`_async`要`取得回傳的資料`需要使用`get()`方法\n",
    "\n",
    "```python\n",
    "class multiprocess.pool.AsyncResult\n",
    "\"\"\"The class of the result returned by Pool.apply_async() and Pool.map_async().\"\"\"\n",
    "```\n",
    "\n",
    "Method:\n",
    "\n",
    "- get([timeout]):\n",
    "\n",
    "    Return the result when it arrives.\n",
    "    \n",
    "\n",
    "- wait([timeout]):\n",
    "\n",
    "    Wait until the result is avalibale or until timeout seconds pass.\n",
    "    \n",
    "\n",
    "- read():\n",
    "\n",
    "    Return whether the call has completed.\n",
    "    \n",
    "\n",
    "- successful():\n",
    "\n",
    "    Return whether the call completed without raising an exception."
   ]
  },
  {
   "cell_type": "markdown",
   "metadata": {},
   "source": [
    "待更新～"
   ]
  }
 ],
 "metadata": {
  "kernelspec": {
   "display_name": "Python 3",
   "language": "python",
   "name": "python3"
  },
  "language_info": {
   "codemirror_mode": {
    "name": "ipython",
    "version": 3
   },
   "file_extension": ".py",
   "mimetype": "text/x-python",
   "name": "python",
   "nbconvert_exporter": "python",
   "pygments_lexer": "ipython3",
   "version": "3.7.7"
  },
  "latex_envs": {
   "LaTeX_envs_menu_present": true,
   "autoclose": false,
   "autocomplete": true,
   "bibliofile": "biblio.bib",
   "cite_by": "apalike",
   "current_citInitial": 1,
   "eqLabelWithNumbers": true,
   "eqNumInitial": 1,
   "hotkeys": {
    "equation": "Ctrl-E",
    "itemize": "Ctrl-I"
   },
   "labels_anchors": false,
   "latex_user_defs": false,
   "report_style_numbering": false,
   "user_envs_cfg": false
  },
  "toc": {
   "base_numbering": 1,
   "nav_menu": {},
   "number_sections": true,
   "sideBar": true,
   "skip_h1_title": false,
   "title_cell": "Table of Contents",
   "title_sidebar": "Contents",
   "toc_cell": false,
   "toc_position": {
    "height": "calc(100% - 180px)",
    "left": "10px",
    "top": "150px",
    "width": "453.1px"
   },
   "toc_section_display": true,
   "toc_window_display": true
  }
 },
 "nbformat": 4,
 "nbformat_minor": 2
}
