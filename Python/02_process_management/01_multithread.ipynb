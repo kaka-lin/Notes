{
 "cells": [
  {
   "cell_type": "markdown",
   "metadata": {},
   "source": [
    "# Python 多執行緒(Multi-Thread)"
   ]
  },
  {
   "cell_type": "markdown",
   "metadata": {},
   "source": [
    "## 執行緒(Thread)\n",
    "\n",
    "複習`作業系統(Operating System)`中的對於`執行緒(thread)`的解釋：\n",
    "\n",
    "```\n",
    "執行緒(thread)是OS能夠進行運算排程的最小單位，被包含在程序(Process)之中，是Process中的實際運算單位。\n",
    "```\n",
    "\n",
    "- 同一顆CPU執行\n",
    "- 同一個Process下的Thread共享資源，如記憶體、全域變數等\n",
    "- 一個執行緒被中斷會導致集體死亡"
   ]
  },
  {
   "cell_type": "markdown",
   "metadata": {},
   "source": [
    "## Python 模組: [threading](https://docs.python.org/3/library/threading.html)\n",
    "\n",
    "`threading`是Python的標準函式庫裡的模組，所以不需要另外安裝即可使用，雖然功能沒有很多，但已經足夠我們用來設計基本的多執行緒程式。"
   ]
  },
  {
   "cell_type": "markdown",
   "metadata": {},
   "source": [
    "### 執行緒(Thread): `threading.Thread`\n",
    "\n",
    "1. 建立子執行緒與執行\n",
    "\n",
    "```python\n",
    "class threading.Thread(\n",
    "    group=None, target=None, name=None, \n",
    "    args=(), kwargs={}, *, daemon=None)\n",
    "```\n",
    "\n",
    "- group: should be `None`; reserved for future extension when a ThreadGroup class is implemented.\n",
    "- target: the callable object to be invoked by the `run()` method.\n",
    "- name: the thread name.\n",
    "- args: the argument tuple for the target invocation. Defaults to `()`.\n",
    "- kwargs: a dictionary of keyword arguments for the target invocation. Defaults to `{}`.\n",
    "\n",
    "    \n",
    "2. 執行子執行緒\n",
    "\n",
    "```python\n",
    "Thread.start()\n",
    "```\n",
    "\n",
    "3. 等待子執行緒結束\n",
    "\n",
    "```python\n",
    "Thread.join(timeout=None)\n",
    "```\n",
    "\n",
    "    Wait until the thread terminates.\n",
    "    When the timeout argument is present and not `None`, it should be a floating point number specifying a timeout for the operation in second"
   ]
  },
  {
   "cell_type": "code",
   "execution_count": 1,
   "metadata": {
    "ExecuteTime": {
     "end_time": "2020-07-15T09:51:12.115029Z",
     "start_time": "2020-07-15T09:51:07.089169Z"
    }
   },
   "outputs": [
    {
     "name": "stdout",
     "output_type": "stream",
     "text": [
      "Child Thread: 0Main thread: 0\n",
      "\n",
      "Child Thread: 1Main thread: 1\n",
      "\n",
      "Child Thread: 2Main thread: 2\n",
      "\n",
      "Child Thread: 3\n",
      "Child Thread: 4\n",
      "All Done.\n"
     ]
    }
   ],
   "source": [
    "import time\n",
    "import threading\n",
    "\n",
    "def job():\n",
    "    for i in range(5):\n",
    "        print(\"Child Thread: {}\".format(i))\n",
    "        time.sleep(1)\n",
    "\n",
    "# 建立子執行緒\n",
    "t = threading.Thread(target=job)\n",
    "# 子執行緒開始執行\n",
    "t.start()\n",
    "\n",
    "# Main Thread繼續執行自己的工作\n",
    "for i in range(3):\n",
    "    print(\"Main thread: {}\".format(i))\n",
    "    time.sleep(1)\n",
    "\n",
    "# 等待子執行緒執行結束\n",
    "t.join()\n",
    "\n",
    "print(\"All Done.\")"
   ]
  },
  {
   "cell_type": "markdown",
   "metadata": {},
   "source": [
    "這裡的主程式會在`join`的地方等待到`子執行緒t`結束後，才會繼續往下執行。"
   ]
  },
  {
   "cell_type": "markdown",
   "metadata": {},
   "source": [
    "#### 建立多個子執行緒與參數"
   ]
  },
  {
   "cell_type": "code",
   "execution_count": 2,
   "metadata": {
    "ExecuteTime": {
     "end_time": "2020-07-15T09:51:15.173631Z",
     "start_time": "2020-07-15T09:51:12.123347Z"
    }
   },
   "outputs": [
    {
     "name": "stdout",
     "output_type": "stream",
     "text": [
      "Thread: 0\n",
      "Thread: 1\n",
      "Thread: 2\n",
      "Thread: 3\n",
      "Thread: 4\n",
      "Main thread: 0\n",
      "Main thread: 1\n",
      "Main thread: 2\n",
      "All Done.\n"
     ]
    }
   ],
   "source": [
    "import time\n",
    "import threading\n",
    "\n",
    "def job2(num):\n",
    "    print(\"Thread: {}\".format(num))\n",
    "    time.sleep(1)\n",
    "\n",
    "# 建立5個子執行緒\n",
    "threads = []\n",
    "for i in range(5):\n",
    "    threads.append(threading.Thread(target=job2, args=(i,)))\n",
    "    # 執行剛剛建立的子執行緒\n",
    "    threads[i].start()\n",
    "\n",
    "# Main Thread繼續執行自己的工作\n",
    "for i in range(3):\n",
    "    print(\"Main thread: {}\".format(i))\n",
    "    time.sleep(1)\n",
    "    \n",
    "# 等待所有子執行緒執行結束\n",
    "for i in range(5):  \n",
    "    threads[i].join()\n",
    "\n",
    "print(\"All Done.\")"
   ]
  },
  {
   "cell_type": "markdown",
   "metadata": {},
   "source": [
    "#### 物件導向 (Class)\n",
    "\n",
    "將`Thread`變成一個`Class`，需要覆寫`run()`\n",
    "\n",
    "```python\n",
    "Thread.run()\n",
    "```\n",
    "\n",
    "Method representing the thread’s activity.\n",
    "\n",
    "You may override this method in a subclass"
   ]
  },
  {
   "cell_type": "code",
   "execution_count": 3,
   "metadata": {
    "ExecuteTime": {
     "end_time": "2020-07-15T09:51:18.208002Z",
     "start_time": "2020-07-15T09:51:15.180065Z"
    },
    "scrolled": true
   },
   "outputs": [
    {
     "name": "stdout",
     "output_type": "stream",
     "text": [
      "thread_0, count: 1000\n",
      "thread_1, count: 1000\n",
      "thread_2, count: 1000\n",
      "thread_3, count: 1000thread_4, count: 1000\n",
      "\n",
      "Main thread: 0\n",
      "Main thread: 1\n",
      "Main thread: 2\n",
      "All Done.\n"
     ]
    }
   ],
   "source": [
    "import time\n",
    "import threading\n",
    "import random\n",
    "\n",
    "class Counter(threading.Thread):\n",
    "    def __init__(self, thread_name):\n",
    "        super(Counter, self).__init__(name=thread_name)\n",
    "    \n",
    "    def run(self):\n",
    "        '''重寫父類run方法，在執行緒啟動後執行該方法內的程式'''\n",
    "        \n",
    "        count = 0\n",
    "        for i in range(1000):\n",
    "            count = count + 1\n",
    "        print(\"{}, count: {}\".format(self.name, count))\n",
    "\n",
    "# 建立5個子行緒\n",
    "threads = []\n",
    "for i in range(5):\n",
    "    threads.append(Counter('thread_' + str(i)))\n",
    "    threads[i].start()\n",
    "    \n",
    "# Main Thread繼續執行自己的工作\n",
    "for i in range(3):\n",
    "    print(\"Main thread: {}\".format(i))\n",
    "    time.sleep(1)\n",
    "\n",
    "# 等待所有子執行緒執行結束\n",
    "for i in range(5):  \n",
    "    threads[i].join()\n",
    "\n",
    "print(\"All Done.\")"
   ]
  },
  {
   "cell_type": "markdown",
   "metadata": {},
   "source": [
    "### 鎖(Lock)\n",
    "\n",
    "為了避免多個執行緒同時對同一個記憶體做存取（例如：將資料寫入同一個檔案），必須使用`Lock`將那個記憶體區段鎖起來，以確保一次只有一個執行緒可以去存取記憶體裡的資料。\n",
    "\n",
    "我們可以使用`threading`模組裡的`Lock()`來處理。\n",
    "\n",
    "```python\n",
    "class threading.Lock()\n",
    "```\n",
    "\n",
    "利用`Thread.Lock()`來建構互斥鎖`(Mutex)`\n",
    "\n",
    "1. 取得Lock\n",
    "\n",
    "    ```python\n",
    "    Lock.acquire(blocking=True, timeout=-1)\n",
    "    ```\n",
    "\n",
    "    Acquire a lock, `blocking` or `non-blocking`\n",
    "\n",
    "\n",
    "2. 釋放Lock\n",
    "\n",
    "    ```python\n",
    "     Lock.release()\n",
    "    ```\n",
    "\n",
    "    Release a lock. This can be called from any thread, not only the thread which has acquired the lock."
   ]
  },
  {
   "cell_type": "markdown",
   "metadata": {},
   "source": [
    "#### 範例"
   ]
  },
  {
   "cell_type": "markdown",
   "metadata": {},
   "source": [
    "- 不使用 Lock"
   ]
  },
  {
   "cell_type": "code",
   "execution_count": 4,
   "metadata": {
    "ExecuteTime": {
     "end_time": "2020-07-15T09:51:21.257483Z",
     "start_time": "2020-07-15T09:51:18.216343Z"
    },
    "scrolled": true
   },
   "outputs": [
    {
     "name": "stdout",
     "output_type": "stream",
     "text": [
      "thread_0, count: 1000\n",
      "thread_1, count: 2000\n",
      "thread_2, count: 3000\n",
      "thread_3, count: 4000thread_4, count: 5000\n",
      "Main thread: 0\n",
      "\n",
      "Main thread: 1\n",
      "Main thread: 2\n",
      "Final Count: 5000\n",
      "All Done.\n"
     ]
    }
   ],
   "source": [
    "import time\n",
    "import threading\n",
    "import random\n",
    "\n",
    "count = 0\n",
    "\n",
    "class Counter(threading.Thread):\n",
    "    def __init__(self, thread_name):\n",
    "        super(Counter, self).__init__(name=thread_name)\n",
    "    \n",
    "    def run(self):\n",
    "        global count\n",
    "        \n",
    "        for i in range(1000):\n",
    "            count += 1\n",
    "        print(\"{}, count: {}\".format(self.name, count))\n",
    "        \n",
    "# 建立5個子行緒\n",
    "threads = []\n",
    "for i in range(5):\n",
    "    threads.append(Counter('thread_' + str(i)))\n",
    "    threads[i].start()\n",
    "    \n",
    "# Main Thread繼續執行自己的工作\n",
    "for i in range(3):\n",
    "    print(\"Main thread: {}\".format(i))\n",
    "    time.sleep(1)\n",
    "\n",
    "# 等待所有子執行緒執行結束\n",
    "for i in range(5):  \n",
    "    threads[i].join()\n",
    "\n",
    "print(\"Final Count: {}\".format(count))\n",
    "print(\"All Done.\")        "
   ]
  },
  {
   "cell_type": "markdown",
   "metadata": {},
   "source": [
    "由上輸出可已看到，Output很亂。"
   ]
  },
  {
   "cell_type": "markdown",
   "metadata": {},
   "source": [
    "- 使用 Lock"
   ]
  },
  {
   "cell_type": "code",
   "execution_count": 5,
   "metadata": {
    "ExecuteTime": {
     "end_time": "2020-07-15T09:51:26.323650Z",
     "start_time": "2020-07-15T09:51:21.263471Z"
    }
   },
   "outputs": [
    {
     "name": "stdout",
     "output_type": "stream",
     "text": [
      "Lock acquire by thread_0\n",
      "thread_0, count: 10000\n",
      "Main thread: 0\n",
      "Lock released by thread_0\n",
      "Lock acquire by thread_1Main thread: 1\n",
      "\n",
      "thread_1, count: 20000\n",
      "Main thread: 2\n",
      "Lock released by thread_1\n",
      "Lock acquire by thread_2\n",
      "thread_2, count: 30000\n",
      "Lock released by thread_2\n",
      "Lock acquire by thread_3\n",
      "thread_3, count: 40000\n",
      "Lock released by thread_3\n",
      "Lock acquire by thread_4\n",
      "thread_4, count: 50000\n",
      "Lock released by thread_4\n",
      "Final Count: 50000\n",
      "All Done.\n"
     ]
    }
   ],
   "source": [
    "import time\n",
    "import threading\n",
    "import random\n",
    "\n",
    "count = 0\n",
    "\n",
    "class Counter(threading.Thread):\n",
    "    def __init__(self, lock, thread_name):\n",
    "        super(Counter, self).__init__(name=thread_name)\n",
    "        self.lock = lock\n",
    "    \n",
    "    def run(self):\n",
    "        global count\n",
    "        \n",
    "        # 取得 lock\n",
    "        self.lock.acquire()\n",
    "        print(\"Lock acquire by {}\".format(self.name))\n",
    "        \n",
    "        for i in range(10000):\n",
    "            count += 1\n",
    "        \n",
    "        # 不能讓多個執行續同時進行的工作\n",
    "        print(\"{}, count: {}\".format(self.name, count))\n",
    "        time.sleep(1)\n",
    "            \n",
    "        # 釋放 lock\n",
    "        print(\"Lock released by {}\".format(self.name))\n",
    "        self.lock.release()\n",
    "\n",
    "# 建立 lock\n",
    "lock = threading.Lock()\n",
    "        \n",
    "# 建立5個子行緒\n",
    "threads = []\n",
    "for i in range(5):\n",
    "    threads.append(Counter(lock, 'thread_' + str(i)))\n",
    "    threads[i].start()\n",
    "    \n",
    "# Main Thread繼續執行自己的工作\n",
    "for i in range(3):\n",
    "    print(\"Main thread: {}\".format(i))\n",
    "    time.sleep(1)\n",
    "\n",
    "# 等待所有子執行緒執行結束\n",
    "for i in range(5):  \n",
    "    threads[i].join()\n",
    "\n",
    "print(\"Final Count: {}\".format(count))\n",
    "print(\"All Done.\")        "
   ]
  },
  {
   "cell_type": "markdown",
   "metadata": {},
   "source": [
    "從結果可以看出，執行緒是一個接著一個執行"
   ]
  },
  {
   "cell_type": "markdown",
   "metadata": {},
   "source": [
    "### 旗標(Semaphore)\n",
    "\n",
    "```python\n",
    "class threading.Semaphore([value])\n",
    "```\n",
    "\n",
    "因為系統資源有限，所以在處理某些耗資源的工作時，會允許有限的執行緒同時進行，跟鎖(Lock)類似\n",
    "但是`Lock僅允許一次一個執行緒`，而`旗標(Semaphore)允許多個執行緒，但要限制同時執行的執行緒上限。`\n",
    "\n",
    "`Semaphore`是進入與出去某個`Code block`的門鎖,\n",
    "而這把門鎖會記錄多少個`Thread`進入到控制的`Code block`\n",
    "以確保該`Code block`最多只能被`n`個`Thread`同時執行。\n",
    "\n",
    "`Semaphore`物件上面只有兩個方法:\n",
    "1. `acquire([blocking])`\n",
    "2. `release()`\n",
    "\n",
    "另外在取得`Semaphore`物件的時候你可以透過參數`value`指定`Code block`最多只能有多少個`Thread`同時進入該`Code block`(即是所謂的`Critical Section`).\n",
    "\n",
    "可以簡單地把`Semaphore`想像為計數器：\n",
    "- 當一個執行緒呼叫了`acquire()`時，旗標內部計數器就`減1`\n",
    "- 當一個執行緒呼叫了`release()`時，旗標內部計數器就`加1`\n",
    "\n",
    "```\n",
    "當計數器為0時，之後的執行緒就要等待其他執行緒release後，才能繼續\n",
    "```"
   ]
  },
  {
   "cell_type": "markdown",
   "metadata": {},
   "source": [
    "#### 範例"
   ]
  },
  {
   "cell_type": "code",
   "execution_count": 6,
   "metadata": {
    "ExecuteTime": {
     "end_time": "2020-07-15T09:51:37.384393Z",
     "start_time": "2020-07-15T09:51:26.327669Z"
    }
   },
   "outputs": [
    {
     "name": "stdout",
     "output_type": "stream",
     "text": [
      "Semphore acquired by thread_0Semphore acquired by thread_1\n",
      "\n",
      "thread_0 (+1), count: 1\n",
      "thread_1 (+1), count: 2\n",
      "thread_1 (-1), count: 1\n",
      "Semphore released by thread_1\n",
      "Semphore acquired by thread_2\n",
      "thread_2 (+1), count: 2\n",
      "thread_0 (-1), count: 1\n",
      "Semphore released by thread_0\n",
      "thread_2 (-1), count: 0\n",
      "Semphore released by thread_2\n",
      "Final Count: 0\n",
      "All Done.\n"
     ]
    }
   ],
   "source": [
    "import threading\n",
    "import time\n",
    "import random\n",
    "\n",
    "count = 0\n",
    "lock = threading.Lock()\n",
    "semphore = threading.Semaphore(2)\n",
    "\n",
    "def code_block(thd, i):\n",
    "    global count, lock\n",
    "    \n",
    "    lock.acquire()\n",
    "    count += 1\n",
    "    print(\"{} (+1), count: {}\".format(thd.name, count))\n",
    "    lock.release()\n",
    "\n",
    "    time.sleep(random.randrange(2, 10))\n",
    "\n",
    "    lock.acquire()\n",
    "    count -= 1\n",
    "    print(\"{} (-1), count: {}\".format(thd.name, count))\n",
    "    lock.release()\n",
    "\n",
    "class Guest(threading.Thread):\n",
    "    def __init__(self, semphore, thread_name):\n",
    "        super(Guest, self).__init__(name=thread_name)\n",
    "\n",
    "        self.semphore = semphore\n",
    "\n",
    "    def run(self):\n",
    "        # 取得旗標\n",
    "        # acquire一次，semaphore就會減1，直到數量為0時，就會阻塞這在\n",
    "        self.semphore.acquire()\n",
    "        print(\"Semphore acquired by {}\".format(self.name))\n",
    "            \n",
    "        # 僅允許有限個執行緒同時進的工作\n",
    "        code_block(self, i)\n",
    "        time.sleep(1)\n",
    "            \n",
    "        # 釋放旗標\n",
    "        # release一次，semaphore就會加1\n",
    "        print(\"Semphore released by {}\".format(self.name))\n",
    "        self.semphore.release()\n",
    "\n",
    "# 建立3個子行緒\n",
    "threads = []\n",
    "for i in range(3):\n",
    "    threads.append( Guest(semphore, 'thread_' + str(i)))\n",
    "    threads[i].start()\n",
    "    \n",
    "# 等待所有子執行緒執行結束\n",
    "for i in range(3):  \n",
    "    threads[i].join()\n",
    "\n",
    "print(\"Final Count: {}\".format(count)) # should be 0\n",
    "print(\"All Done.\")  "
   ]
  },
  {
   "cell_type": "markdown",
   "metadata": {},
   "source": [
    "### 事件(Event)\n",
    "\n",
    "This is one of the simplest mechanisms for communication between threads: one thread signals an event and other threads wait for it.\n",
    "\n",
    "```python\n",
    "class threading.Event()\n",
    "```\n",
    "\n",
    "用於`Thread`之間的溝通，應用方式通常為ㄧ個`thread`發起一個`event`，然後其他`thread`會等待發出`event`的`thread`才開始做相信動作。\n",
    "\n",
    "`Event`透過維護內部的`flag`符來實現`thread`之間的同步問題，\n",
    "維護`flag`的狀態有三種方法(`wait`, `set`, `clear`)\n",
    "\n",
    "1. `event.wait()`: 使執行緒組塞，直到flag值為`True`，初始值為`Flase`\n",
    "2. `event.set()`: 通知相對應的執行緒作相應動作，將flag值設為`True`\n",
    "3. `envet.clear()`: 做完相對應動作後，再次等待下次通知，將flag值設為`False`"
   ]
  },
  {
   "cell_type": "markdown",
   "metadata": {},
   "source": [
    "#### 範例 1"
   ]
  },
  {
   "cell_type": "code",
   "execution_count": 7,
   "metadata": {
    "ExecuteTime": {
     "end_time": "2020-07-15T09:51:40.408453Z",
     "start_time": "2020-07-15T09:51:37.388971Z"
    }
   },
   "outputs": [
    {
     "name": "stdout",
     "output_type": "stream",
     "text": [
      "Main thread start!\n",
      "\tThread: 1 wait!\n",
      "\tThread: 2 wait!\n",
      "\tThread: 3 wait!\n",
      "\tThread: 4 wait!\n",
      "\n",
      "--------------------\n",
      "Sleep 3 seconds!\n",
      "Now awake other threads !\n",
      "\tThread: 2 start!\tThread: 4 start!\n",
      "\tThread: 3 start!\n",
      "\tThread: 1 start!\n",
      "\n"
     ]
    }
   ],
   "source": [
    "import time\n",
    "import threading\n",
    "\n",
    "class TestThread(threading.Thread):\n",
    "    def __init__(self, name, event):\n",
    "        super(TestThread, self).__init__()\n",
    "\n",
    "        self.name = name\n",
    "        self.event = event\n",
    "\n",
    "    def run(self):\n",
    "        print(\"\\tThread: {} wait!\".format(self.name))\n",
    "        self.event.wait()\n",
    "        print(\"\\tThread: {} start!\".format(self.name))\n",
    "\n",
    "def run():\n",
    "    event = threading.Event()\n",
    "    \n",
    "    threads = []\n",
    "    for i in range(1, 5):\n",
    "        threads.append(TestThread(str(i), event))\n",
    "    \n",
    "    print(\"Main thread start!\")\n",
    "\n",
    "    for thread in threads:\n",
    "        thread.start()\n",
    "    \n",
    "    print(\"\\n--------------------\")\n",
    "    print(\"Sleep 3 seconds!\")\n",
    "    time.sleep(3)\n",
    "\n",
    "    print(\"Now awake other threads !\")\n",
    "    event.set()\n",
    "\n",
    "run()"
   ]
  },
  {
   "cell_type": "markdown",
   "metadata": {},
   "source": [
    "#### 範例 2: 十字路口"
   ]
  },
  {
   "cell_type": "code",
   "execution_count": 8,
   "metadata": {
    "ExecuteTime": {
     "end_time": "2020-07-15T09:51:48.458133Z",
     "start_time": "2020-07-15T09:51:40.421589Z"
    }
   },
   "outputs": [
    {
     "name": "stdout",
     "output_type": "stream",
     "text": [
      "----------------- Start: 2020-07-15 17:51:40\n",
      "RED LIGHT! at: 2020-07-15 17:51:40\n",
      "Vehicle 1 arrived 2020-07-15 17:51:41\n",
      "Vehicle 4 arrived 2020-07-15 17:51:41\n",
      "Vehicle 2 arrived 2020-07-15 17:51:42Vehicle 5 arrived 2020-07-15 17:51:42Vehicle 7 arrived 2020-07-15 17:51:42\n",
      "\n",
      "\n",
      "----------------- 3 second -----------------\n",
      "Vehicle 4 passes through the intersection at 2020-07-15 17:51:43Vehicle 5 passes through the intersection at 2020-07-15 17:51:43Vehicle 7 passes through the intersection at 2020-07-15 17:51:43Vehicle 2 passes through the intersection at 2020-07-15 17:51:43Vehicle 1 passes through the intersection at 2020-07-15 17:51:43\n",
      "\n",
      "\n",
      "\n",
      "\n",
      "RED LIGHT! at: 2020-07-15 17:51:44\n",
      "Vehicle 3 arrived 2020-07-15 17:51:46\n",
      "Vehicle 10 arrived 2020-07-15 17:51:46\n",
      "Vehicle 8 arrived 2020-07-15 17:51:47\n",
      "----------------- 3 second -----------------\n",
      "Vehicle 10 passes through the intersection at 2020-07-15 17:51:47Vehicle 8 passes through the intersection at 2020-07-15 17:51:47Vehicle 3 passes through the intersection at 2020-07-15 17:51:47\n",
      "\n",
      "\n",
      "Vehicle 6 arrived 2020-07-15 17:51:48Vehicle 9 arrived 2020-07-15 17:51:48\n",
      "Vehicle 9 passes through the intersection at 2020-07-15 17:51:48\n",
      "\n",
      "Vehicle 6 passes through the intersection at 2020-07-15 17:51:48\n",
      "----------------- End: 2020-07-15 17:51:48\n"
     ]
    }
   ],
   "source": [
    "import time\n",
    "import random\n",
    "import threading\n",
    "\n",
    "class VehicleThread(threading.Thread):\n",
    "    ''' Class representing a motor vehicle at an intersection '''\n",
    "\n",
    "    def __init__(self, thread_name, event):\n",
    "        super(VehicleThread, self).__init__(name=thread_name)\n",
    "\n",
    "        self.event = event\n",
    "    \n",
    "    def run(self):\n",
    "        ''' Vehicle waits unless/until light is green '''\n",
    "\n",
    "        # Staggered arrival times\n",
    "        time.sleep(random.randrange(1, 10))\n",
    "\n",
    "        # prints arrival time of car at intersection\n",
    "        print(\"{} arrived {}\".format(\n",
    "            self.getName(), \n",
    "            time.strftime(\"%Y-%m-%d %H:%M:%S\", time.localtime())))\n",
    "\n",
    "        # wait for green light\n",
    "        self.event.wait()\n",
    "\n",
    "        # displays time that car departs intersection\n",
    "        print(\"{} passes through the intersection at {}\".format(\n",
    "            self.getName(), \n",
    "            time.strftime(\"%Y-%m-%d %H:%M:%S\", time.localtime())))\n",
    "\n",
    "def run():\n",
    "    green_light = threading.Event()\n",
    "    \n",
    "    # creates and starts ten vehicle threads\n",
    "    vehicle_threads = []\n",
    "    for i in range(1, 11):\n",
    "        vehicle_threads.append(VehicleThread('Vehicle ' + str(i), green_light))\n",
    "    \n",
    "    print(\"----------------- Start: {}\".format(\n",
    "        time.strftime(\"%Y-%m-%d %H:%M:%S\", time.localtime())))\n",
    "\n",
    "    for vehicle in vehicle_threads:\n",
    "        vehicle.start()\n",
    "    \n",
    "    # Run in jupyter notebook, default thread is: 5\n",
    "    while threading.active_count() > 5:\n",
    "        # sets the Event's flag to false -- block all incoming vehicles\n",
    "        green_light.clear()\n",
    "        print(\"RED LIGHT! at: {}\".format(\n",
    "            time.strftime(\"%Y-%m-%d %H:%M:%S\", time.localtime())))\n",
    "        \n",
    "        time.sleep(3)\n",
    "        print(\"----------------- 3 second -----------------\")\n",
    "\n",
    "        # sets the Event's flag to true -- awake all waiting vehicles\n",
    "        green_light.set()\n",
    "        time.sleep(1)\n",
    "    \n",
    "    print(\"----------------- End: {}\".format(\n",
    "        time.strftime(\"%Y-%m-%d %H:%M:%S\", time.localtime())))\n",
    "        \n",
    "run()"
   ]
  },
  {
   "cell_type": "markdown",
   "metadata": {},
   "source": [
    "### 條件變數(Condition)\n",
    "\n",
    "當執行緒需要滿足某些條件才能繼續執行時，可以使用`threading`模組裡的`Lock()`來處理。\n",
    "\n",
    "```python\n",
    "class threading.Condition(lock=None)\n",
    "```\n",
    "\n",
    "- lock: Optional, default is `RLock`.\n",
    "\n",
    "`threading.Condition`提供了三種方法，來進行`thread`之間的溝通\n",
    "\n",
    "1. `wait()`: 條件不滿足時，執行緒會釋放並進入阻塞等待\n",
    "2. `notify(n=1)`: 條件滿足後，喚醒一個在等待池裡的執行緒\n",
    "3. `notifyAll()`: 條件滿足後，喚醒所有在等待池裡的執行緒"
   ]
  },
  {
   "cell_type": "markdown",
   "metadata": {},
   "source": [
    "#### 範例：捉迷藏遊戲\n",
    "\n",
    "1. 遊戲開始後，Seeker先把自己眼睛矇上，蒙上眼後就通知Hider\n",
    "2. Hider接收到通知後，開始找地方將自己藏起來，再通知Seeker可以開始找了\n",
    "3. Seeker接到通知後，就開始找hider"
   ]
  },
  {
   "cell_type": "code",
   "execution_count": 10,
   "metadata": {
    "ExecuteTime": {
     "end_time": "2020-07-15T09:51:58.117268Z",
     "start_time": "2020-07-15T09:51:58.099523Z"
    }
   },
   "outputs": [
    {
     "name": "stdout",
     "output_type": "stream",
     "text": [
      "\t[Info] seeker wait()...\n",
      "To hider: 我已經把眼睛蒙上了\n",
      "\t[Info] hider notify()...\n",
      "\t[Info] hider wait()...\n",
      "To seeker: 我已經藏好了，你快來找我吧！！！\n",
      "\t[Info] seeker notify()...\n",
      "\t[Info] seeker wait()...\n",
      "To hider: 我找到你了！！！\n",
      "\t[Info] hider notify()...\n",
      "\t[Info] hider release()...\n",
      "To hider: 我贏了\n",
      "\t[Info] seeker release()...\n",
      "To seeker: 被你找到了，我輸了！\n"
     ]
    }
   ],
   "source": [
    "import threading\n",
    "import time\n",
    "\n",
    "class Hider(threading.Thread):\n",
    "    def __init__(self, cond, name):\n",
    "        super(Hider, self).__init__()\n",
    "\n",
    "        self.cond = cond\n",
    "        self.name = name\n",
    "    \n",
    "    def run(self):\n",
    "        time.sleep(1)  # 確保先運行Seeker中的方法\n",
    "\n",
    "        self.cond.acquire()  # b\n",
    "        print('To {}: 我已經把眼睛蒙上了'.format(self.name))\n",
    "        print('\\t[Info] {} notify()...'.format(self.name))\n",
    "        self.cond.notify()\n",
    "        print('\\t[Info] {} wait()...'.format(self.name))\n",
    "        self.cond.wait()  # c\n",
    "\n",
    "        print('To {}: 我找到你了！！！'.format(self.name))\n",
    "        print('\\t[Info] {} notify()...'.format(self.name))\n",
    "        self.cond.notify()\n",
    "        print('\\t[Info] {} release()...'.format(self.name))\n",
    "        self.cond.release()\n",
    "\n",
    "        print('To {}: 我贏了'.format(self.name))\n",
    "\n",
    "class Seeker(threading.Thread):\n",
    "    def __init__(self, cond, name):\n",
    "        super(Seeker, self).__init__()\n",
    "\n",
    "        self.cond = cond\n",
    "        self.name = name\n",
    "    \n",
    "    def run(self):\n",
    "        self.cond.acquire()  \n",
    "        print('\\t[Info] {} wait()...'.format(self.name))\n",
    "        self.cond.wait()  \n",
    "\n",
    "        print('To {}: 我已經藏好了，你快來找我吧！！！'.format(self.name))\n",
    "        print('\\t[Info] {} notify()...'.format(self.name))\n",
    "        self.cond.notify()\n",
    "        print('\\t[Info] {} wait()...'.format(self.name))\n",
    "        self.cond.wait() \n",
    "\n",
    "        print('\\t[Info] {} release()...'.format(self.name))\n",
    "        self.cond.release()\n",
    "\n",
    "        print('To {}: 被你找到了，我輸了！'.format(self.name))\n",
    "\n",
    "if __name__ == '__main__':\n",
    "    cond = threading.Condition()\n",
    "    seeker = Seeker(cond, 'seeker')\n",
    "    hider = Hider(cond, 'hider')\n",
    "    seeker.start()\n",
    "    hider.start()"
   ]
  }
 ],
 "metadata": {
  "kernelspec": {
   "display_name": "Python 3",
   "language": "python",
   "name": "python3"
  },
  "language_info": {
   "codemirror_mode": {
    "name": "ipython",
    "version": 3
   },
   "file_extension": ".py",
   "mimetype": "text/x-python",
   "name": "python",
   "nbconvert_exporter": "python",
   "pygments_lexer": "ipython3",
   "version": "3.7.7"
  },
  "latex_envs": {
   "LaTeX_envs_menu_present": true,
   "autoclose": false,
   "autocomplete": true,
   "bibliofile": "biblio.bib",
   "cite_by": "apalike",
   "current_citInitial": 1,
   "eqLabelWithNumbers": true,
   "eqNumInitial": 1,
   "hotkeys": {
    "equation": "Ctrl-E",
    "itemize": "Ctrl-I"
   },
   "labels_anchors": false,
   "latex_user_defs": false,
   "report_style_numbering": false,
   "user_envs_cfg": false
  },
  "toc": {
   "base_numbering": 1,
   "nav_menu": {},
   "number_sections": true,
   "sideBar": true,
   "skip_h1_title": false,
   "title_cell": "Table of Contents",
   "title_sidebar": "Contents",
   "toc_cell": false,
   "toc_position": {
    "height": "calc(100% - 180px)",
    "left": "10px",
    "top": "150px",
    "width": "278px"
   },
   "toc_section_display": true,
   "toc_window_display": true
  }
 },
 "nbformat": 4,
 "nbformat_minor": 2
}
