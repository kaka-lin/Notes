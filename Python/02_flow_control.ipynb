{
 "cells": [
  {
   "cell_type": "markdown",
   "metadata": {},
   "source": [
    "# Flow Control"
   ]
  },
  {
   "cell_type": "markdown",
   "metadata": {},
   "source": [
    "## Python `if ... else` \n",
    "\n",
    "The general syntax for Python's if statement is this:\n",
    "\n",
    "```python\n",
    "if condition1:\n",
    "    # statement1 for True condition1\n",
    "elif condition2 :\n",
    "    # statement2 for True condition2\n",
    "elif condition3 :\n",
    "    # statement3 for True condition3\n",
    "else:\n",
    "    # statements for each condition False\n",
    "```"
   ]
  },
  {
   "cell_type": "code",
   "execution_count": 1,
   "metadata": {
    "ExecuteTime": {
     "end_time": "2020-05-18T08:44:09.599466Z",
     "start_time": "2020-05-18T08:44:01.679676Z"
    }
   },
   "outputs": [
    {
     "name": "stdout",
     "output_type": "stream",
     "text": [
      "請輸入成績45\n",
      "不及格，被當了!\n"
     ]
    }
   ],
   "source": [
    "score = int(input(\"請輸入成績\"))\n",
    "if score >= 60:\n",
    "    print(\"成績及格!\")\n",
    "else:\n",
    "    print(\"不及格，被當了!\")"
   ]
  },
  {
   "cell_type": "code",
   "execution_count": 2,
   "metadata": {
    "ExecuteTime": {
     "end_time": "2020-05-18T08:44:15.435169Z",
     "start_time": "2020-05-18T08:44:09.607807Z"
    },
    "code_folding": []
   },
   "outputs": [
    {
     "name": "stdout",
     "output_type": "stream",
     "text": [
      "score: 90\n",
      "Grade is: A\n"
     ]
    }
   ],
   "source": [
    "# Click below for a solution\n",
    "\n",
    "score = int(input(\"score: \"))\n",
    "if score >= 90:\n",
    "    print('Grade is: A')\n",
    "elif score >= 80:\n",
    "    print('Grade is: B')\n",
    "elif score >= 70:\n",
    "    print('Grade is: C')\n",
    "elif score >= 60:\n",
    "    print('Grade is: D')\n",
    "else:\n",
    "    print('Grade is: F')"
   ]
  },
  {
   "cell_type": "markdown",
   "metadata": {},
   "source": [
    "## Python `for ` loops\n",
    "\n",
    "Python's `for` loop reuses the `in` keyword, and has the following syntax:\n",
    "\n",
    "```python\n",
    "for variable in iterable:\n",
    "    # suite\n",
    "```"
   ]
  },
  {
   "cell_type": "code",
   "execution_count": 3,
   "metadata": {
    "ExecuteTime": {
     "end_time": "2020-05-18T08:44:15.459126Z",
     "start_time": "2020-05-18T08:44:15.443453Z"
    },
    "scrolled": true
   },
   "outputs": [
    {
     "name": "stdout",
     "output_type": "stream",
     "text": [
      "0\n",
      "1\n",
      "2\n",
      "3\n",
      "4\n"
     ]
    }
   ],
   "source": [
    "sequences = [0, 1, 2, 3, 4]\n",
    "for i in sequences:\n",
    "    print(i)"
   ]
  },
  {
   "cell_type": "code",
   "execution_count": 4,
   "metadata": {
    "ExecuteTime": {
     "end_time": "2020-05-18T08:44:15.482371Z",
     "start_time": "2020-05-18T08:44:15.471647Z"
    }
   },
   "outputs": [
    {
     "name": "stdout",
     "output_type": "stream",
     "text": [
      "Denmark\n",
      "Finland\n",
      "Norway\n",
      "Sweden\n",
      "Taiwan\n"
     ]
    }
   ],
   "source": [
    "countries = ['Denmark', 'Finland', 'Norway', 'Sweden', 'Taiwan']\n",
    "for country in countries:\n",
    "    print(country)"
   ]
  },
  {
   "cell_type": "code",
   "execution_count": 5,
   "metadata": {
    "ExecuteTime": {
     "end_time": "2020-05-18T08:44:15.497387Z",
     "start_time": "2020-05-18T08:44:15.487746Z"
    }
   },
   "outputs": [
    {
     "name": "stdout",
     "output_type": "stream",
     "text": [
      "0 1 2 3 4 5 6 7 8 9 "
     ]
    }
   ],
   "source": [
    "for i in range(10):\n",
    "    print(i, end=' ')"
   ]
  },
  {
   "cell_type": "markdown",
   "metadata": {},
   "source": [
    "### `Nested for loops`"
   ]
  },
  {
   "cell_type": "code",
   "execution_count": 6,
   "metadata": {
    "ExecuteTime": {
     "end_time": "2020-05-18T08:44:15.539350Z",
     "start_time": "2020-05-18T08:44:15.506242Z"
    }
   },
   "outputs": [
    {
     "name": "stdout",
     "output_type": "stream",
     "text": [
      "\t 1 \t 2 \t 3 \t 4 \t 5 \t 6 \t 7 \t 8 \t 9\n",
      "\t 2 \t 4 \t 6 \t 8 \t 10 \t 12 \t 14 \t 16 \t 18\n",
      "\t 3 \t 6 \t 9 \t 12 \t 15 \t 18 \t 21 \t 24 \t 27\n",
      "\t 4 \t 8 \t 12 \t 16 \t 20 \t 24 \t 28 \t 32 \t 36\n",
      "\t 5 \t 10 \t 15 \t 20 \t 25 \t 30 \t 35 \t 40 \t 45\n",
      "\t 6 \t 12 \t 18 \t 24 \t 30 \t 36 \t 42 \t 48 \t 54\n",
      "\t 7 \t 14 \t 21 \t 28 \t 35 \t 42 \t 49 \t 56 \t 63\n",
      "\t 8 \t 16 \t 24 \t 32 \t 40 \t 48 \t 56 \t 64 \t 72\n",
      "\t 9 \t 18 \t 27 \t 36 \t 45 \t 54 \t 63 \t 72 \t 81\n"
     ]
    }
   ],
   "source": [
    "# 99乘法表\n",
    "for i in range(1, 10):\n",
    "    for j in range(1, 10):\n",
    "        if j == 9:\n",
    "            print('\\t', i * j)\n",
    "        else:\n",
    "            print('\\t', i * j, end=' ')"
   ]
  },
  {
   "cell_type": "markdown",
   "metadata": {},
   "source": [
    "## Python `while` loops\n",
    "\n",
    "The `while` statement is used to execute a suite zero or more times, \n",
    "the number of times depending on the state of the while loop's condition.\n",
    "Here's the syntax:\n",
    "\n",
    "```python\n",
    "while boolean_expression:\n",
    "    # Body of while\n",
    "```"
   ]
  },
  {
   "cell_type": "code",
   "execution_count": 7,
   "metadata": {
    "ExecuteTime": {
     "end_time": "2020-05-18T08:44:15.566976Z",
     "start_time": "2020-05-18T08:44:15.553678Z"
    }
   },
   "outputs": [
    {
     "name": "stdout",
     "output_type": "stream",
     "text": [
      "1 2 3 4 5 6 7 8 9 10 "
     ]
    }
   ],
   "source": [
    "i = 1\n",
    "while i <= 10:\n",
    "    print(i, end=' ')\n",
    "    i += 1"
   ]
  },
  {
   "cell_type": "markdown",
   "metadata": {},
   "source": [
    "## `break` and `continue`"
   ]
  },
  {
   "cell_type": "code",
   "execution_count": 9,
   "metadata": {
    "ExecuteTime": {
     "end_time": "2020-05-18T08:44:26.333620Z",
     "start_time": "2020-05-18T08:44:26.326266Z"
    }
   },
   "outputs": [
    {
     "name": "stdout",
     "output_type": "stream",
     "text": [
      "1 2 3 4 5 6 7 8 9 "
     ]
    }
   ],
   "source": [
    "# break\n",
    "\n",
    "i = 0\n",
    "while True:\n",
    "    i += 1\n",
    "    if i == 10:\n",
    "        break\n",
    "    print(i, end=' ')\n",
    "    "
   ]
  },
  {
   "cell_type": "code",
   "execution_count": 10,
   "metadata": {
    "ExecuteTime": {
     "end_time": "2020-05-18T08:44:27.983557Z",
     "start_time": "2020-05-18T08:44:27.975492Z"
    }
   },
   "outputs": [
    {
     "name": "stdout",
     "output_type": "stream",
     "text": [
      "1 2 3 5 6 7 8 9 10 "
     ]
    }
   ],
   "source": [
    "# continue\n",
    "\n",
    "i = 0\n",
    "while i < 10:\n",
    "    i += 1\n",
    "    if i == 4:\n",
    "        continue\n",
    "    print(i, end=' ')"
   ]
  },
  {
   "cell_type": "markdown",
   "metadata": {},
   "source": [
    "## Exercise: Guessing Game"
   ]
  },
  {
   "cell_type": "code",
   "execution_count": null,
   "metadata": {
    "ExecuteTime": {
     "end_time": "2020-05-18T08:44:23.154464Z",
     "start_time": "2020-05-18T08:44:01.749Z"
    }
   },
   "outputs": [],
   "source": [
    "import random\n",
    "\n",
    "number = random.randint(1, 100)\n",
    "\n",
    "print('Guess the number!')\n",
    "\n",
    "while True:\n",
    "    print('Please enter your guess:')\n",
    "    guess = int(input())\n",
    "    if guess == number:\n",
    "        print('Good job')\n",
    "        break\n",
    "    elif guess < number:\n",
    "        print('Your guess is too low')\n",
    "    else:\n",
    "        print('Your guess is too heigh')    "
   ]
  }
 ],
 "metadata": {
  "kernelspec": {
   "display_name": "Python 3",
   "language": "python",
   "name": "python3"
  },
  "language_info": {
   "codemirror_mode": {
    "name": "ipython",
    "version": 3
   },
   "file_extension": ".py",
   "mimetype": "text/x-python",
   "name": "python",
   "nbconvert_exporter": "python",
   "pygments_lexer": "ipython3",
   "version": "3.7.7"
  },
  "latex_envs": {
   "LaTeX_envs_menu_present": true,
   "autoclose": false,
   "autocomplete": true,
   "bibliofile": "biblio.bib",
   "cite_by": "apalike",
   "current_citInitial": 1,
   "eqLabelWithNumbers": true,
   "eqNumInitial": 1,
   "hotkeys": {
    "equation": "Ctrl-E",
    "itemize": "Ctrl-I"
   },
   "labels_anchors": false,
   "latex_user_defs": false,
   "report_style_numbering": false,
   "user_envs_cfg": false
  },
  "toc": {
   "base_numbering": 1,
   "nav_menu": {},
   "number_sections": true,
   "sideBar": true,
   "skip_h1_title": false,
   "title_cell": "Table of Contents",
   "title_sidebar": "Contents",
   "toc_cell": false,
   "toc_position": {},
   "toc_section_display": true,
   "toc_window_display": true
  }
 },
 "nbformat": 4,
 "nbformat_minor": 2
}
