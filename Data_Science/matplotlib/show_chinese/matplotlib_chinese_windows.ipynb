{
 "cells": [
  {
   "cell_type": "markdown",
   "metadata": {},
   "source": [
    "# Matplotlib 中文\n",
    "\n",
    "Ref: [Text with non-latin glyphs](https://matplotlib.org/3.1.0/tutorials/text/text_props.html#text-with-non-latin-glyphs)\n",
    "\n",
    "下載思源體（下面兩種任選一種皆可）\n",
    "\n",
    "1. [思源黑體](https://noto-website-2.storage.googleapis.com/pkgs/NotoSansCJKtc-hinted.zip)\n",
    "2. [思源宋體](https://noto-website-2.storage.googleapis.com/pkgs/NotoSerifCJKtc-hinted.zip)"
   ]
  },
  {
   "cell_type": "code",
   "execution_count": 1,
   "metadata": {},
   "outputs": [
    {
     "name": "stdout",
     "output_type": "stream",
     "text": [
      "C:\\Users\\USER\\Miniconda3\\envs\\tensorflow\\lib\\site-packages\\matplotlib\\__init__.py\n"
     ]
    }
   ],
   "source": [
    "# 查看matplotlib套件安裝位置\n",
    "import matplotlib\n",
    "print(matplotlib.__file__)"
   ]
  },
  {
   "cell_type": "markdown",
   "metadata": {},
   "source": [
    "可以得知，`matplotlib`的安裝位置在`C:\\Users\\USER\\Miniconda3\\envs\\tensorflow\\lib\\site-packages\\matplotlib\\`。\n",
    "\n",
    "* Note:\n",
    "\n",
    "```\n",
    "每個人的安裝位置會因電腦配置而有所不同。\n",
    "```"
   ]
  },
  {
   "cell_type": "markdown",
   "metadata": {},
   "source": [
    "## 安裝步驟\n",
    "\n",
    "1. 解開剛剛下載的壓縮檔\n",
    "2. 任選一個`.otf`檔案，複製到`C:\\Users\\USER\\Miniconda3\\envs\\tensorflow\\lib\\site-packages\\matplotlib\\mpl-data\\fonts\\ttf\\`資料夾內\n",
    "3. 刪除這個資料夾內的所有檔案：`C:\\Users\\USER\\\\.matplotlib\\`\n",
    "4. 如果使用的是`思源黑體`，請將底下的`fontType =' '`變更為`fontType ='Noto Sans CJK TC'`\n",
    "5. 如果使用的是`思源宋體`，請將底下的`fontType =' '`變更為`fontType ='Noto Serif CJK TC'`"
   ]
  },
  {
   "cell_type": "markdown",
   "metadata": {},
   "source": [
    "## Configuration"
   ]
  },
  {
   "cell_type": "code",
   "execution_count": 4,
   "metadata": {},
   "outputs": [],
   "source": [
    "import matplotlib.pyplot as plt\n",
    "\n",
    "fontType = ''\n",
    "\n",
    "plt.rcParams['font.sans-serif'] = [fontType] \n",
    "plt.rcParams['axes.unicode_minus'] = False\n",
    "\n",
    "%matplotlib inline"
   ]
  },
  {
   "cell_type": "code",
   "execution_count": 5,
   "metadata": {},
   "outputs": [
    {
     "data": {
      "image/png": "[encoded data removed]",
      "text/plain": [
       "<Figure size 432x288 with 1 Axes>"
      ]
     },
     "metadata": {
      "needs_background": "light"
     },
     "output_type": "display_data"
    }
   ],
   "source": [
    "plt.figure()\n",
    "plt.plot((1, 2, 3),(4, 3, -1))\n",
    "plt.title(\"聲量圖\")\n",
    "plt.ylabel(\"文章數量\")\n",
    "plt.xlabel(\"品牌名稱\") \n",
    "plt.show()"
   ]
  }
 ],
 "metadata": {
  "kernelspec": {
   "display_name": "Python 3",
   "language": "python",
   "name": "python3"
  },
  "language_info": {
   "codemirror_mode": {
    "name": "ipython",
    "version": 3
   },
   "file_extension": ".py",
   "mimetype": "text/x-python",
   "name": "python",
   "nbconvert_exporter": "python",
   "pygments_lexer": "ipython3",
   "version": "3.7.7"
  },
  "latex_envs": {
   "LaTeX_envs_menu_present": true,
   "autoclose": false,
   "autocomplete": true,
   "bibliofile": "biblio.bib",
   "cite_by": "apalike",
   "current_citInitial": 1,
   "eqLabelWithNumbers": true,
   "eqNumInitial": 1,
   "hotkeys": {
    "equation": "Ctrl-E",
    "itemize": "Ctrl-I"
   },
   "labels_anchors": false,
   "latex_user_defs": false,
   "report_style_numbering": false,
   "user_envs_cfg": false
  },
  "toc": {
   "base_numbering": 1,
   "nav_menu": {},
   "number_sections": true,
   "sideBar": true,
   "skip_h1_title": false,
   "title_cell": "Table of Contents",
   "title_sidebar": "Contents",
   "toc_cell": false,
   "toc_position": {},
   "toc_section_display": true,
   "toc_window_display": false
  }
 },
 "nbformat": 4,
 "nbformat_minor": 2
}
