{
 "cells": [
  {
   "cell_type": "markdown",
   "metadata": {},
   "source": [
    "# Matplotlib 中文\n",
    "\n",
    "Ref: [Text with non-latin glyphs](https://matplotlib.org/3.1.0/tutorials/text/text_props.html#text-with-non-latin-glyphs)\n",
    "\n",
    "下載思源體 - [source-han-sans](https://github.com/adobe-fonts/source-han-sans)\n",
    "\n",
    "1. [思源黑體](https://noto-website-2.storage.googleapis.com/pkgs/NotoSansCJKtc-hinted.zip)\n",
    "    本教學使用此字型\n",
    "2. [思源宋體](https://noto-website-2.storage.googleapis.com/pkgs/NotoSerifCJKtc-hinted.zip)"
   ]
  },
  {
   "cell_type": "code",
   "execution_count": 1,
   "metadata": {
    "ExecuteTime": {
     "end_time": "2020-06-04T09:18:24.197451Z",
     "start_time": "2020-06-04T09:18:24.022125Z"
    }
   },
   "outputs": [
    {
     "name": "stdout",
     "output_type": "stream",
     "text": [
      "Noto Sans Mono CJK TC,Noto Sans Mono CJK TC Bold\n",
      "Noto Sans CJK TC,Noto Sans CJK TC Medium\n",
      "Heiti TC,黑體\\-繁,黒体\\-繁,Heiti\\-번체,黑体\\-繁\n",
      "Noto Sans CJK TC,Noto Sans CJK TC DemiLight\n",
      "Noto Sans CJK TC,Noto Sans CJK TC Black\n",
      "Noto Sans Mono CJK TC,Noto Sans Mono CJK TC Regular\n",
      "STSong\n",
      ".PingFang HK,.蘋方\\-港,.苹方\\-港\n",
      ".PingFang SC,.蘋方\\-簡,.苹方\\-简\n",
      ".PingFang TC,.蘋方\\-繁,.苹方\\-繁\n",
      "Noto Sans CJK TC,Noto Sans CJK TC Regular\n",
      "PingFang HK,蘋方\\-港,苹方\\-港\n",
      "PingFang SC,蘋方\\-簡,苹方\\-简\n",
      ".LastResort\n",
      "PingFang TC,蘋方\\-繁,苹方\\-繁\n",
      "GB18030 Bitmap\n",
      "Heiti SC,黑體\\-簡,黒体\\-簡,Heiti\\-간체,黑体\\-简\n",
      "Noto Sans CJK TC,Noto Sans CJK TC Bold\n",
      ".Hiragino Sans GB Interface\n",
      "Arial Unicode MS\n",
      "Noto Sans CJK TC,Noto Sans CJK TC Light\n",
      "Songti TC,宋體\\-繁,宋体\\-繁\n",
      "Songti SC,宋體\\-簡,宋体\\-简\n",
      "Hiragino Sans GB,冬青黑體簡體中文,冬青黑体简体中文,冬青黑體簡體中文 W6,Hiragino Sans GB W6,冬青黑体简体中文 W6\n",
      "Hiragino Sans GB,冬青黑體簡體中文,冬青黑体简体中文,冬青黑體簡體中文 W3,Hiragino Sans GB W3,冬青黑体简体中文 W3\n",
      "Noto Sans CJK TC,Noto Sans CJK TC Thin\n"
     ]
    }
   ],
   "source": [
    "# 查看安裝了哪些字型\n",
    "# windows請忽略這段\n",
    "# unix系統可以使用下command確認是否安裝成功\n",
    "!fc-list :lang=zh family"
   ]
  },
  {
   "cell_type": "code",
   "execution_count": 2,
   "metadata": {
    "ExecuteTime": {
     "end_time": "2020-06-04T09:20:33.162162Z",
     "start_time": "2020-06-04T09:20:32.281960Z"
    }
   },
   "outputs": [],
   "source": [
    "# 重新加載字體\n",
    "from matplotlib.font_manager import _rebuild\n",
    "_rebuild()"
   ]
  },
  {
   "cell_type": "code",
   "execution_count": 3,
   "metadata": {
    "ExecuteTime": {
     "end_time": "2020-06-04T09:20:38.560420Z",
     "start_time": "2020-06-04T09:20:38.263539Z"
    }
   },
   "outputs": [],
   "source": [
    "import matplotlib \n",
    "import matplotlib.pyplot as plt\n",
    "\n",
    "# 使用剛剛下載的思源體字型\n",
    "plt.rcParams['font.sans-serif'] = ['Noto Sans Mono CJK TC', 'sans-serif'] \n",
    "plt.rcParams['axes.unicode_minus'] = False\n",
    "\n",
    "%matplotlib inline"
   ]
  },
  {
   "cell_type": "code",
   "execution_count": 4,
   "metadata": {
    "ExecuteTime": {
     "end_time": "2020-06-04T09:20:39.453783Z",
     "start_time": "2020-06-04T09:20:39.178471Z"
    }
   },
   "outputs": [
    {
     "data": {
      "image/png": "[encoded data removed]",
      "text/plain": [
       "<Figure size 432x288 with 1 Axes>"
      ]
     },
     "metadata": {
      "needs_background": "light"
     },
     "output_type": "display_data"
    }
   ],
   "source": [
    "plt.figure()\n",
    "plt.plot((1, 2, 3),(4, 3, -1))\n",
    "plt.title(\"聲量圖\")\n",
    "plt.ylabel(\"文章數量\")\n",
    "plt.xlabel(\"品牌名稱\") \n",
    "plt.show()"
   ]
  }
 ],
 "metadata": {
  "kernelspec": {
   "display_name": "Python 3",
   "language": "python",
   "name": "python3"
  },
  "language_info": {
   "codemirror_mode": {
    "name": "ipython",
    "version": 3
   },
   "file_extension": ".py",
   "mimetype": "text/x-python",
   "name": "python",
   "nbconvert_exporter": "python",
   "pygments_lexer": "ipython3",
   "version": "3.7.7"
  },
  "latex_envs": {
   "LaTeX_envs_menu_present": true,
   "autoclose": false,
   "autocomplete": true,
   "bibliofile": "biblio.bib",
   "cite_by": "apalike",
   "current_citInitial": 1,
   "eqLabelWithNumbers": true,
   "eqNumInitial": 1,
   "hotkeys": {
    "equation": "Ctrl-E",
    "itemize": "Ctrl-I"
   },
   "labels_anchors": false,
   "latex_user_defs": false,
   "report_style_numbering": false,
   "user_envs_cfg": false
  },
  "toc": {
   "base_numbering": 1,
   "nav_menu": {},
   "number_sections": true,
   "sideBar": true,
   "skip_h1_title": false,
   "title_cell": "Table of Contents",
   "title_sidebar": "Contents",
   "toc_cell": false,
   "toc_position": {},
   "toc_section_display": true,
   "toc_window_display": false
  }
 },
 "nbformat": 4,
 "nbformat_minor": 2
}
